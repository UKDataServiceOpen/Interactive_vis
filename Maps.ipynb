{
 "cells": [
  {
   "cell_type": "code",
   "execution_count": 1,
   "id": "8cd5dc43-748b-4c9b-bb9c-00a02de6fd0d",
   "metadata": {},
   "outputs": [],
   "source": [
    "import pandas as pd"
   ]
  },
  {
   "cell_type": "markdown",
   "id": "cfdf3c53-e594-4c9b-a808-d0861f764d63",
   "metadata": {},
   "source": [
    "## Read-in dataset"
   ]
  },
  {
   "cell_type": "code",
   "execution_count": 2,
   "id": "50c68d3c-b04c-485c-bd24-4e149455add6",
   "metadata": {},
   "outputs": [],
   "source": [
    "df = pd.read_csv('Data/GI_det.csv')"
   ]
  },
  {
   "cell_type": "code",
   "execution_count": 3,
   "id": "b5ad6bd4-258c-4920-9cd5-6b446e952f4d",
   "metadata": {},
   "outputs": [
    {
     "data": {
      "text/html": [
       "<div>\n",
       "<style scoped>\n",
       "    .dataframe tbody tr th:only-of-type {\n",
       "        vertical-align: middle;\n",
       "    }\n",
       "\n",
       "    .dataframe tbody tr th {\n",
       "        vertical-align: top;\n",
       "    }\n",
       "\n",
       "    .dataframe thead th {\n",
       "        text-align: right;\n",
       "    }\n",
       "</style>\n",
       "<table border=\"1\" class=\"dataframe\">\n",
       "  <thead>\n",
       "    <tr style=\"text-align: right;\">\n",
       "      <th></th>\n",
       "      <th>Lower tier local authorities Code</th>\n",
       "      <th>Lower tier local authorities</th>\n",
       "      <th>Gender identity (8 categories) Code</th>\n",
       "      <th>Gender identity (8 categories)</th>\n",
       "      <th>Observation</th>\n",
       "    </tr>\n",
       "  </thead>\n",
       "  <tbody>\n",
       "    <tr>\n",
       "      <th>0</th>\n",
       "      <td>E06000001</td>\n",
       "      <td>Hartlepool</td>\n",
       "      <td>-8</td>\n",
       "      <td>Does not apply</td>\n",
       "      <td>0</td>\n",
       "    </tr>\n",
       "    <tr>\n",
       "      <th>1</th>\n",
       "      <td>E06000001</td>\n",
       "      <td>Hartlepool</td>\n",
       "      <td>1</td>\n",
       "      <td>Gender identity the same as sex registered at ...</td>\n",
       "      <td>70588</td>\n",
       "    </tr>\n",
       "    <tr>\n",
       "      <th>2</th>\n",
       "      <td>E06000001</td>\n",
       "      <td>Hartlepool</td>\n",
       "      <td>2</td>\n",
       "      <td>Gender identity different from sex registered ...</td>\n",
       "      <td>167</td>\n",
       "    </tr>\n",
       "    <tr>\n",
       "      <th>3</th>\n",
       "      <td>E06000001</td>\n",
       "      <td>Hartlepool</td>\n",
       "      <td>3</td>\n",
       "      <td>Trans woman</td>\n",
       "      <td>49</td>\n",
       "    </tr>\n",
       "    <tr>\n",
       "      <th>4</th>\n",
       "      <td>E06000001</td>\n",
       "      <td>Hartlepool</td>\n",
       "      <td>4</td>\n",
       "      <td>Trans man</td>\n",
       "      <td>51</td>\n",
       "    </tr>\n",
       "    <tr>\n",
       "      <th>5</th>\n",
       "      <td>E06000001</td>\n",
       "      <td>Hartlepool</td>\n",
       "      <td>5</td>\n",
       "      <td>Non-binary</td>\n",
       "      <td>33</td>\n",
       "    </tr>\n",
       "    <tr>\n",
       "      <th>6</th>\n",
       "      <td>E06000001</td>\n",
       "      <td>Hartlepool</td>\n",
       "      <td>6</td>\n",
       "      <td>All other gender identities</td>\n",
       "      <td>21</td>\n",
       "    </tr>\n",
       "    <tr>\n",
       "      <th>7</th>\n",
       "      <td>E06000001</td>\n",
       "      <td>Hartlepool</td>\n",
       "      <td>7</td>\n",
       "      <td>Not answered</td>\n",
       "      <td>3777</td>\n",
       "    </tr>\n",
       "    <tr>\n",
       "      <th>8</th>\n",
       "      <td>E06000002</td>\n",
       "      <td>Middlesbrough</td>\n",
       "      <td>-8</td>\n",
       "      <td>Does not apply</td>\n",
       "      <td>0</td>\n",
       "    </tr>\n",
       "    <tr>\n",
       "      <th>9</th>\n",
       "      <td>E06000002</td>\n",
       "      <td>Middlesbrough</td>\n",
       "      <td>1</td>\n",
       "      <td>Gender identity the same as sex registered at ...</td>\n",
       "      <td>106009</td>\n",
       "    </tr>\n",
       "  </tbody>\n",
       "</table>\n",
       "</div>"
      ],
      "text/plain": [
       "  Lower tier local authorities Code Lower tier local authorities  \\\n",
       "0                         E06000001                   Hartlepool   \n",
       "1                         E06000001                   Hartlepool   \n",
       "2                         E06000001                   Hartlepool   \n",
       "3                         E06000001                   Hartlepool   \n",
       "4                         E06000001                   Hartlepool   \n",
       "5                         E06000001                   Hartlepool   \n",
       "6                         E06000001                   Hartlepool   \n",
       "7                         E06000001                   Hartlepool   \n",
       "8                         E06000002                Middlesbrough   \n",
       "9                         E06000002                Middlesbrough   \n",
       "\n",
       "   Gender identity (8 categories) Code  \\\n",
       "0                                   -8   \n",
       "1                                    1   \n",
       "2                                    2   \n",
       "3                                    3   \n",
       "4                                    4   \n",
       "5                                    5   \n",
       "6                                    6   \n",
       "7                                    7   \n",
       "8                                   -8   \n",
       "9                                    1   \n",
       "\n",
       "                      Gender identity (8 categories)  Observation  \n",
       "0                                     Does not apply            0  \n",
       "1  Gender identity the same as sex registered at ...        70588  \n",
       "2  Gender identity different from sex registered ...          167  \n",
       "3                                        Trans woman           49  \n",
       "4                                          Trans man           51  \n",
       "5                                         Non-binary           33  \n",
       "6                        All other gender identities           21  \n",
       "7                                       Not answered         3777  \n",
       "8                                     Does not apply            0  \n",
       "9  Gender identity the same as sex registered at ...       106009  "
      ]
     },
     "execution_count": 3,
     "metadata": {},
     "output_type": "execute_result"
    }
   ],
   "source": [
    "df.head(10)"
   ]
  },
  {
   "cell_type": "markdown",
   "id": "6530a336-1103-4648-b207-d697cb6e471a",
   "metadata": {},
   "source": [
    "## Data Cleaning\n",
    "\n",
    "* rename columns\n",
    "* remove 'Does not apply' from gender identity category\n",
    "* rename some values in gender identity category so they are not as wordy"
   ]
  },
  {
   "cell_type": "code",
   "execution_count": 4,
   "id": "a862c955-699b-46f4-a3a0-99e22f4402ec",
   "metadata": {},
   "outputs": [],
   "source": [
    "df = df.rename(columns = {'Lower tier local authorities Code': 'LA_code', 'Lower tier local authorities': 'LA_name', 'Gender identity (8 categories) Code': 'GI_code', 'Gender identity (8 categories)': 'GI_cat'})"
   ]
  },
  {
   "cell_type": "code",
   "execution_count": 5,
   "id": "b38669e4-dcfd-4af1-bb44-40950464513f",
   "metadata": {},
   "outputs": [],
   "source": [
    "df = df[df.GI_cat != 'Does not apply']"
   ]
  },
  {
   "cell_type": "code",
   "execution_count": 6,
   "id": "7414da0a-d905-4940-b697-02bec20a8c48",
   "metadata": {},
   "outputs": [],
   "source": [
    "df['GI_cat'] = df['GI_cat'].replace({'Gender identity the same as sex registered at birth': 'Gender identity the same as sex', 'Gender identity different from sex registered at birth but no specific identity given': 'Gender identity different from sex'})"
   ]
  },
  {
   "cell_type": "code",
   "execution_count": 7,
   "id": "83af4fbb-b1f3-4ee5-9bc9-995d6992468b",
   "metadata": {},
   "outputs": [
    {
     "data": {
      "text/html": [
       "<div>\n",
       "<style scoped>\n",
       "    .dataframe tbody tr th:only-of-type {\n",
       "        vertical-align: middle;\n",
       "    }\n",
       "\n",
       "    .dataframe tbody tr th {\n",
       "        vertical-align: top;\n",
       "    }\n",
       "\n",
       "    .dataframe thead th {\n",
       "        text-align: right;\n",
       "    }\n",
       "</style>\n",
       "<table border=\"1\" class=\"dataframe\">\n",
       "  <thead>\n",
       "    <tr style=\"text-align: right;\">\n",
       "      <th></th>\n",
       "      <th>LA_code</th>\n",
       "      <th>LA_name</th>\n",
       "      <th>GI_code</th>\n",
       "      <th>GI_cat</th>\n",
       "      <th>Observation</th>\n",
       "    </tr>\n",
       "  </thead>\n",
       "  <tbody>\n",
       "    <tr>\n",
       "      <th>1</th>\n",
       "      <td>E06000001</td>\n",
       "      <td>Hartlepool</td>\n",
       "      <td>1</td>\n",
       "      <td>Gender identity the same as sex</td>\n",
       "      <td>70588</td>\n",
       "    </tr>\n",
       "    <tr>\n",
       "      <th>2</th>\n",
       "      <td>E06000001</td>\n",
       "      <td>Hartlepool</td>\n",
       "      <td>2</td>\n",
       "      <td>Gender identity different from sex</td>\n",
       "      <td>167</td>\n",
       "    </tr>\n",
       "    <tr>\n",
       "      <th>3</th>\n",
       "      <td>E06000001</td>\n",
       "      <td>Hartlepool</td>\n",
       "      <td>3</td>\n",
       "      <td>Trans woman</td>\n",
       "      <td>49</td>\n",
       "    </tr>\n",
       "    <tr>\n",
       "      <th>4</th>\n",
       "      <td>E06000001</td>\n",
       "      <td>Hartlepool</td>\n",
       "      <td>4</td>\n",
       "      <td>Trans man</td>\n",
       "      <td>51</td>\n",
       "    </tr>\n",
       "    <tr>\n",
       "      <th>5</th>\n",
       "      <td>E06000001</td>\n",
       "      <td>Hartlepool</td>\n",
       "      <td>5</td>\n",
       "      <td>Non-binary</td>\n",
       "      <td>33</td>\n",
       "    </tr>\n",
       "    <tr>\n",
       "      <th>6</th>\n",
       "      <td>E06000001</td>\n",
       "      <td>Hartlepool</td>\n",
       "      <td>6</td>\n",
       "      <td>All other gender identities</td>\n",
       "      <td>21</td>\n",
       "    </tr>\n",
       "    <tr>\n",
       "      <th>7</th>\n",
       "      <td>E06000001</td>\n",
       "      <td>Hartlepool</td>\n",
       "      <td>7</td>\n",
       "      <td>Not answered</td>\n",
       "      <td>3777</td>\n",
       "    </tr>\n",
       "    <tr>\n",
       "      <th>9</th>\n",
       "      <td>E06000002</td>\n",
       "      <td>Middlesbrough</td>\n",
       "      <td>1</td>\n",
       "      <td>Gender identity the same as sex</td>\n",
       "      <td>106009</td>\n",
       "    </tr>\n",
       "    <tr>\n",
       "      <th>10</th>\n",
       "      <td>E06000002</td>\n",
       "      <td>Middlesbrough</td>\n",
       "      <td>2</td>\n",
       "      <td>Gender identity different from sex</td>\n",
       "      <td>496</td>\n",
       "    </tr>\n",
       "    <tr>\n",
       "      <th>11</th>\n",
       "      <td>E06000002</td>\n",
       "      <td>Middlesbrough</td>\n",
       "      <td>3</td>\n",
       "      <td>Trans woman</td>\n",
       "      <td>141</td>\n",
       "    </tr>\n",
       "  </tbody>\n",
       "</table>\n",
       "</div>"
      ],
      "text/plain": [
       "      LA_code        LA_name  GI_code                              GI_cat  \\\n",
       "1   E06000001     Hartlepool        1     Gender identity the same as sex   \n",
       "2   E06000001     Hartlepool        2  Gender identity different from sex   \n",
       "3   E06000001     Hartlepool        3                         Trans woman   \n",
       "4   E06000001     Hartlepool        4                           Trans man   \n",
       "5   E06000001     Hartlepool        5                          Non-binary   \n",
       "6   E06000001     Hartlepool        6         All other gender identities   \n",
       "7   E06000001     Hartlepool        7                        Not answered   \n",
       "9   E06000002  Middlesbrough        1     Gender identity the same as sex   \n",
       "10  E06000002  Middlesbrough        2  Gender identity different from sex   \n",
       "11  E06000002  Middlesbrough        3                         Trans woman   \n",
       "\n",
       "    Observation  \n",
       "1         70588  \n",
       "2           167  \n",
       "3            49  \n",
       "4            51  \n",
       "5            33  \n",
       "6            21  \n",
       "7          3777  \n",
       "9        106009  \n",
       "10          496  \n",
       "11          141  "
      ]
     },
     "execution_count": 7,
     "metadata": {},
     "output_type": "execute_result"
    }
   ],
   "source": [
    "df.head(10)"
   ]
  },
  {
   "cell_type": "markdown",
   "id": "38b543f8-5fd9-4069-ad36-d3386d370023",
   "metadata": {},
   "source": [
    "## Data Pre-processing\n",
    "\n",
    "Now, let's use our 'Observation' column to calculate % of gender identity categories for each Local Authority"
   ]
  },
  {
   "cell_type": "code",
   "execution_count": 8,
   "id": "c09e74de-bec7-4dc7-b831-0decab4cde94",
   "metadata": {},
   "outputs": [],
   "source": [
    "df['Percentage'] = ''\n",
    "\n",
    "for i in df.LA_name.unique():\n",
    "    b = df[df.LA_name == i]\n",
    "    perc = b.Observation / b.Observation.sum() * 100\n",
    "    df.loc[b.index, 'Percentage'] = round(perc,2)"
   ]
  },
  {
   "cell_type": "code",
   "execution_count": 9,
   "id": "cc7a7b47-e26e-4371-bad9-de340e3e5c0a",
   "metadata": {},
   "outputs": [
    {
     "data": {
      "text/html": [
       "<div>\n",
       "<style scoped>\n",
       "    .dataframe tbody tr th:only-of-type {\n",
       "        vertical-align: middle;\n",
       "    }\n",
       "\n",
       "    .dataframe tbody tr th {\n",
       "        vertical-align: top;\n",
       "    }\n",
       "\n",
       "    .dataframe thead th {\n",
       "        text-align: right;\n",
       "    }\n",
       "</style>\n",
       "<table border=\"1\" class=\"dataframe\">\n",
       "  <thead>\n",
       "    <tr style=\"text-align: right;\">\n",
       "      <th></th>\n",
       "      <th>LA_code</th>\n",
       "      <th>LA_name</th>\n",
       "      <th>GI_code</th>\n",
       "      <th>GI_cat</th>\n",
       "      <th>Observation</th>\n",
       "      <th>Percentage</th>\n",
       "    </tr>\n",
       "  </thead>\n",
       "  <tbody>\n",
       "    <tr>\n",
       "      <th>1</th>\n",
       "      <td>E06000001</td>\n",
       "      <td>Hartlepool</td>\n",
       "      <td>1</td>\n",
       "      <td>Gender identity the same as sex</td>\n",
       "      <td>70588</td>\n",
       "      <td>94.51</td>\n",
       "    </tr>\n",
       "    <tr>\n",
       "      <th>2</th>\n",
       "      <td>E06000001</td>\n",
       "      <td>Hartlepool</td>\n",
       "      <td>2</td>\n",
       "      <td>Gender identity different from sex</td>\n",
       "      <td>167</td>\n",
       "      <td>0.22</td>\n",
       "    </tr>\n",
       "    <tr>\n",
       "      <th>3</th>\n",
       "      <td>E06000001</td>\n",
       "      <td>Hartlepool</td>\n",
       "      <td>3</td>\n",
       "      <td>Trans woman</td>\n",
       "      <td>49</td>\n",
       "      <td>0.07</td>\n",
       "    </tr>\n",
       "    <tr>\n",
       "      <th>4</th>\n",
       "      <td>E06000001</td>\n",
       "      <td>Hartlepool</td>\n",
       "      <td>4</td>\n",
       "      <td>Trans man</td>\n",
       "      <td>51</td>\n",
       "      <td>0.07</td>\n",
       "    </tr>\n",
       "    <tr>\n",
       "      <th>5</th>\n",
       "      <td>E06000001</td>\n",
       "      <td>Hartlepool</td>\n",
       "      <td>5</td>\n",
       "      <td>Non-binary</td>\n",
       "      <td>33</td>\n",
       "      <td>0.04</td>\n",
       "    </tr>\n",
       "    <tr>\n",
       "      <th>6</th>\n",
       "      <td>E06000001</td>\n",
       "      <td>Hartlepool</td>\n",
       "      <td>6</td>\n",
       "      <td>All other gender identities</td>\n",
       "      <td>21</td>\n",
       "      <td>0.03</td>\n",
       "    </tr>\n",
       "    <tr>\n",
       "      <th>7</th>\n",
       "      <td>E06000001</td>\n",
       "      <td>Hartlepool</td>\n",
       "      <td>7</td>\n",
       "      <td>Not answered</td>\n",
       "      <td>3777</td>\n",
       "      <td>5.06</td>\n",
       "    </tr>\n",
       "    <tr>\n",
       "      <th>9</th>\n",
       "      <td>E06000002</td>\n",
       "      <td>Middlesbrough</td>\n",
       "      <td>1</td>\n",
       "      <td>Gender identity the same as sex</td>\n",
       "      <td>106009</td>\n",
       "      <td>93.04</td>\n",
       "    </tr>\n",
       "    <tr>\n",
       "      <th>10</th>\n",
       "      <td>E06000002</td>\n",
       "      <td>Middlesbrough</td>\n",
       "      <td>2</td>\n",
       "      <td>Gender identity different from sex</td>\n",
       "      <td>496</td>\n",
       "      <td>0.44</td>\n",
       "    </tr>\n",
       "    <tr>\n",
       "      <th>11</th>\n",
       "      <td>E06000002</td>\n",
       "      <td>Middlesbrough</td>\n",
       "      <td>3</td>\n",
       "      <td>Trans woman</td>\n",
       "      <td>141</td>\n",
       "      <td>0.12</td>\n",
       "    </tr>\n",
       "  </tbody>\n",
       "</table>\n",
       "</div>"
      ],
      "text/plain": [
       "      LA_code        LA_name  GI_code                              GI_cat  \\\n",
       "1   E06000001     Hartlepool        1     Gender identity the same as sex   \n",
       "2   E06000001     Hartlepool        2  Gender identity different from sex   \n",
       "3   E06000001     Hartlepool        3                         Trans woman   \n",
       "4   E06000001     Hartlepool        4                           Trans man   \n",
       "5   E06000001     Hartlepool        5                          Non-binary   \n",
       "6   E06000001     Hartlepool        6         All other gender identities   \n",
       "7   E06000001     Hartlepool        7                        Not answered   \n",
       "9   E06000002  Middlesbrough        1     Gender identity the same as sex   \n",
       "10  E06000002  Middlesbrough        2  Gender identity different from sex   \n",
       "11  E06000002  Middlesbrough        3                         Trans woman   \n",
       "\n",
       "    Observation Percentage  \n",
       "1         70588      94.51  \n",
       "2           167       0.22  \n",
       "3            49       0.07  \n",
       "4            51       0.07  \n",
       "5            33       0.04  \n",
       "6            21       0.03  \n",
       "7          3777       5.06  \n",
       "9        106009      93.04  \n",
       "10          496       0.44  \n",
       "11          141       0.12  "
      ]
     },
     "execution_count": 9,
     "metadata": {},
     "output_type": "execute_result"
    }
   ],
   "source": [
    "df.head(10)"
   ]
  },
  {
   "cell_type": "markdown",
   "id": "41d87c80-0eee-4aee-ac1c-907597591e3a",
   "metadata": {},
   "source": [
    "## Read-in shapefile"
   ]
  },
  {
   "cell_type": "code",
   "execution_count": 10,
   "id": "20d757f6-445a-4687-8836-64c9fc6c134a",
   "metadata": {},
   "outputs": [],
   "source": [
    "import geopandas as gpd"
   ]
  },
  {
   "cell_type": "code",
   "execution_count": 11,
   "id": "080ed779-725c-4950-a344-525ef5605efe",
   "metadata": {},
   "outputs": [
    {
     "ename": "DriverError",
     "evalue": "Shapefiles/LADs/LAD_MAY_2022_UK_BFE_V3.shp: No such file or directory",
     "output_type": "error",
     "traceback": [
      "\u001b[0;31m---------------------------------------------------------------------------\u001b[0m",
      "\u001b[0;31mCPLE_OpenFailedError\u001b[0m                      Traceback (most recent call last)",
      "File \u001b[0;32mfiona/ogrext.pyx:136\u001b[0m, in \u001b[0;36mfiona.ogrext.gdal_open_vector\u001b[0;34m()\u001b[0m\n",
      "File \u001b[0;32mfiona/_err.pyx:291\u001b[0m, in \u001b[0;36mfiona._err.exc_wrap_pointer\u001b[0;34m()\u001b[0m\n",
      "\u001b[0;31mCPLE_OpenFailedError\u001b[0m: Shapefiles/LADs/LAD_MAY_2022_UK_BFE_V3.shp: No such file or directory",
      "\nDuring handling of the above exception, another exception occurred:\n",
      "\u001b[0;31mDriverError\u001b[0m                               Traceback (most recent call last)",
      "Cell \u001b[0;32mIn[11], line 1\u001b[0m\n\u001b[0;32m----> 1\u001b[0m gdf \u001b[38;5;241m=\u001b[39m gpd\u001b[38;5;241m.\u001b[39mread_file(\u001b[38;5;124m'\u001b[39m\u001b[38;5;124mShapefiles/LADs/LAD_MAY_2022_UK_BFE_V3.shp\u001b[39m\u001b[38;5;124m'\u001b[39m)\n",
      "File \u001b[0;32m~/anaconda3/envs/py312/lib/python3.11/site-packages/geopandas/io/file.py:297\u001b[0m, in \u001b[0;36m_read_file\u001b[0;34m(filename, bbox, mask, rows, engine, **kwargs)\u001b[0m\n\u001b[1;32m    294\u001b[0m     \u001b[38;5;28;01melse\u001b[39;00m:\n\u001b[1;32m    295\u001b[0m         path_or_bytes \u001b[38;5;241m=\u001b[39m filename\n\u001b[0;32m--> 297\u001b[0m     \u001b[38;5;28;01mreturn\u001b[39;00m _read_file_fiona(\n\u001b[1;32m    298\u001b[0m         path_or_bytes, from_bytes, bbox\u001b[38;5;241m=\u001b[39mbbox, mask\u001b[38;5;241m=\u001b[39mmask, rows\u001b[38;5;241m=\u001b[39mrows, \u001b[38;5;241m*\u001b[39m\u001b[38;5;241m*\u001b[39mkwargs\n\u001b[1;32m    299\u001b[0m     )\n\u001b[1;32m    301\u001b[0m \u001b[38;5;28;01melse\u001b[39;00m:\n\u001b[1;32m    302\u001b[0m     \u001b[38;5;28;01mraise\u001b[39;00m \u001b[38;5;167;01mValueError\u001b[39;00m(\u001b[38;5;124mf\u001b[39m\u001b[38;5;124m\"\u001b[39m\u001b[38;5;124munknown engine \u001b[39m\u001b[38;5;124m'\u001b[39m\u001b[38;5;132;01m{\u001b[39;00mengine\u001b[38;5;132;01m}\u001b[39;00m\u001b[38;5;124m'\u001b[39m\u001b[38;5;124m\"\u001b[39m)\n",
      "File \u001b[0;32m~/anaconda3/envs/py312/lib/python3.11/site-packages/geopandas/io/file.py:338\u001b[0m, in \u001b[0;36m_read_file_fiona\u001b[0;34m(path_or_bytes, from_bytes, bbox, mask, rows, where, **kwargs)\u001b[0m\n\u001b[1;32m    335\u001b[0m     reader \u001b[38;5;241m=\u001b[39m fiona\u001b[38;5;241m.\u001b[39mopen\n\u001b[1;32m    337\u001b[0m \u001b[38;5;28;01mwith\u001b[39;00m fiona_env():\n\u001b[0;32m--> 338\u001b[0m     \u001b[38;5;28;01mwith\u001b[39;00m reader(path_or_bytes, \u001b[38;5;241m*\u001b[39m\u001b[38;5;241m*\u001b[39mkwargs) \u001b[38;5;28;01mas\u001b[39;00m features:\n\u001b[1;32m    339\u001b[0m         crs \u001b[38;5;241m=\u001b[39m features\u001b[38;5;241m.\u001b[39mcrs_wkt\n\u001b[1;32m    340\u001b[0m         \u001b[38;5;66;03m# attempt to get EPSG code\u001b[39;00m\n",
      "File \u001b[0;32m~/anaconda3/envs/py312/lib/python3.11/site-packages/fiona/env.py:457\u001b[0m, in \u001b[0;36mensure_env_with_credentials.<locals>.wrapper\u001b[0;34m(*args, **kwds)\u001b[0m\n\u001b[1;32m    454\u001b[0m     session \u001b[38;5;241m=\u001b[39m DummySession()\n\u001b[1;32m    456\u001b[0m \u001b[38;5;28;01mwith\u001b[39;00m env_ctor(session\u001b[38;5;241m=\u001b[39msession):\n\u001b[0;32m--> 457\u001b[0m     \u001b[38;5;28;01mreturn\u001b[39;00m f(\u001b[38;5;241m*\u001b[39margs, \u001b[38;5;241m*\u001b[39m\u001b[38;5;241m*\u001b[39mkwds)\n",
      "File \u001b[0;32m~/anaconda3/envs/py312/lib/python3.11/site-packages/fiona/__init__.py:292\u001b[0m, in \u001b[0;36mopen\u001b[0;34m(fp, mode, driver, schema, crs, encoding, layer, vfs, enabled_drivers, crs_wkt, allow_unsupported_drivers, **kwargs)\u001b[0m\n\u001b[1;32m    289\u001b[0m     path \u001b[38;5;241m=\u001b[39m parse_path(fp)\n\u001b[1;32m    291\u001b[0m \u001b[38;5;28;01mif\u001b[39;00m mode \u001b[38;5;129;01min\u001b[39;00m (\u001b[38;5;124m\"\u001b[39m\u001b[38;5;124ma\u001b[39m\u001b[38;5;124m\"\u001b[39m, \u001b[38;5;124m\"\u001b[39m\u001b[38;5;124mr\u001b[39m\u001b[38;5;124m\"\u001b[39m):\n\u001b[0;32m--> 292\u001b[0m     colxn \u001b[38;5;241m=\u001b[39m Collection(\n\u001b[1;32m    293\u001b[0m         path,\n\u001b[1;32m    294\u001b[0m         mode,\n\u001b[1;32m    295\u001b[0m         driver\u001b[38;5;241m=\u001b[39mdriver,\n\u001b[1;32m    296\u001b[0m         encoding\u001b[38;5;241m=\u001b[39mencoding,\n\u001b[1;32m    297\u001b[0m         layer\u001b[38;5;241m=\u001b[39mlayer,\n\u001b[1;32m    298\u001b[0m         enabled_drivers\u001b[38;5;241m=\u001b[39menabled_drivers,\n\u001b[1;32m    299\u001b[0m         allow_unsupported_drivers\u001b[38;5;241m=\u001b[39mallow_unsupported_drivers,\n\u001b[1;32m    300\u001b[0m         \u001b[38;5;241m*\u001b[39m\u001b[38;5;241m*\u001b[39mkwargs\n\u001b[1;32m    301\u001b[0m     )\n\u001b[1;32m    302\u001b[0m \u001b[38;5;28;01melif\u001b[39;00m mode \u001b[38;5;241m==\u001b[39m \u001b[38;5;124m\"\u001b[39m\u001b[38;5;124mw\u001b[39m\u001b[38;5;124m\"\u001b[39m:\n\u001b[1;32m    303\u001b[0m     colxn \u001b[38;5;241m=\u001b[39m Collection(\n\u001b[1;32m    304\u001b[0m         path,\n\u001b[1;32m    305\u001b[0m         mode,\n\u001b[0;32m   (...)\u001b[0m\n\u001b[1;32m    314\u001b[0m         \u001b[38;5;241m*\u001b[39m\u001b[38;5;241m*\u001b[39mkwargs\n\u001b[1;32m    315\u001b[0m     )\n",
      "File \u001b[0;32m~/anaconda3/envs/py312/lib/python3.11/site-packages/fiona/collection.py:243\u001b[0m, in \u001b[0;36mCollection.__init__\u001b[0;34m(self, path, mode, driver, schema, crs, encoding, layer, vsi, archive, enabled_drivers, crs_wkt, ignore_fields, ignore_geometry, include_fields, wkt_version, allow_unsupported_drivers, **kwargs)\u001b[0m\n\u001b[1;32m    241\u001b[0m \u001b[38;5;28;01mif\u001b[39;00m \u001b[38;5;28mself\u001b[39m\u001b[38;5;241m.\u001b[39mmode \u001b[38;5;241m==\u001b[39m \u001b[38;5;124m\"\u001b[39m\u001b[38;5;124mr\u001b[39m\u001b[38;5;124m\"\u001b[39m:\n\u001b[1;32m    242\u001b[0m     \u001b[38;5;28mself\u001b[39m\u001b[38;5;241m.\u001b[39msession \u001b[38;5;241m=\u001b[39m Session()\n\u001b[0;32m--> 243\u001b[0m     \u001b[38;5;28mself\u001b[39m\u001b[38;5;241m.\u001b[39msession\u001b[38;5;241m.\u001b[39mstart(\u001b[38;5;28mself\u001b[39m, \u001b[38;5;241m*\u001b[39m\u001b[38;5;241m*\u001b[39mkwargs)\n\u001b[1;32m    244\u001b[0m \u001b[38;5;28;01melif\u001b[39;00m \u001b[38;5;28mself\u001b[39m\u001b[38;5;241m.\u001b[39mmode \u001b[38;5;129;01min\u001b[39;00m (\u001b[38;5;124m\"\u001b[39m\u001b[38;5;124ma\u001b[39m\u001b[38;5;124m\"\u001b[39m, \u001b[38;5;124m\"\u001b[39m\u001b[38;5;124mw\u001b[39m\u001b[38;5;124m\"\u001b[39m):\n\u001b[1;32m    245\u001b[0m     \u001b[38;5;28mself\u001b[39m\u001b[38;5;241m.\u001b[39msession \u001b[38;5;241m=\u001b[39m WritingSession()\n",
      "File \u001b[0;32mfiona/ogrext.pyx:588\u001b[0m, in \u001b[0;36mfiona.ogrext.Session.start\u001b[0;34m()\u001b[0m\n",
      "File \u001b[0;32mfiona/ogrext.pyx:143\u001b[0m, in \u001b[0;36mfiona.ogrext.gdal_open_vector\u001b[0;34m()\u001b[0m\n",
      "\u001b[0;31mDriverError\u001b[0m: Shapefiles/LADs/LAD_MAY_2022_UK_BFE_V3.shp: No such file or directory"
     ]
    }
   ],
   "source": [
    "gdf = gpd.read_file('Shapefiles/LADs/LAD_MAY_2022_UK_BFE_V3.shp')"
   ]
  },
  {
   "cell_type": "code",
   "execution_count": 12,
   "id": "5627b8da-91c5-403d-ad45-0aff8f96bcfb",
   "metadata": {},
   "outputs": [
    {
     "data": {
      "text/html": [
       "<div>\n",
       "<style scoped>\n",
       "    .dataframe tbody tr th:only-of-type {\n",
       "        vertical-align: middle;\n",
       "    }\n",
       "\n",
       "    .dataframe tbody tr th {\n",
       "        vertical-align: top;\n",
       "    }\n",
       "\n",
       "    .dataframe thead th {\n",
       "        text-align: right;\n",
       "    }\n",
       "</style>\n",
       "<table border=\"1\" class=\"dataframe\">\n",
       "  <thead>\n",
       "    <tr style=\"text-align: right;\">\n",
       "      <th></th>\n",
       "      <th>LAD22CD</th>\n",
       "      <th>LAD22NM</th>\n",
       "      <th>BNG_E</th>\n",
       "      <th>BNG_N</th>\n",
       "      <th>LONG</th>\n",
       "      <th>LAT</th>\n",
       "      <th>GlobalID</th>\n",
       "      <th>geometry</th>\n",
       "    </tr>\n",
       "  </thead>\n",
       "  <tbody>\n",
       "    <tr>\n",
       "      <th>0</th>\n",
       "      <td>E06000001</td>\n",
       "      <td>Hartlepool</td>\n",
       "      <td>447160</td>\n",
       "      <td>531474</td>\n",
       "      <td>-1.27018</td>\n",
       "      <td>54.6761</td>\n",
       "      <td>2efc9848-300e-4ef3-a36e-58d6856b9817</td>\n",
       "      <td>POLYGON ((447213.900 537036.104, 447228.798 53...</td>\n",
       "    </tr>\n",
       "    <tr>\n",
       "      <th>1</th>\n",
       "      <td>E06000002</td>\n",
       "      <td>Middlesbrough</td>\n",
       "      <td>451141</td>\n",
       "      <td>516887</td>\n",
       "      <td>-1.21099</td>\n",
       "      <td>54.5447</td>\n",
       "      <td>6d66b015-1f67-40f6-b239-15911fa03834</td>\n",
       "      <td>POLYGON ((448489.897 522071.798, 448592.597 52...</td>\n",
       "    </tr>\n",
       "    <tr>\n",
       "      <th>2</th>\n",
       "      <td>E06000003</td>\n",
       "      <td>Redcar and Cleveland</td>\n",
       "      <td>464361</td>\n",
       "      <td>519597</td>\n",
       "      <td>-1.00608</td>\n",
       "      <td>54.5675</td>\n",
       "      <td>a5a6513f-916e-4769-bed2-cd019d18719a</td>\n",
       "      <td>POLYGON ((455525.931 528406.654, 455724.632 52...</td>\n",
       "    </tr>\n",
       "    <tr>\n",
       "      <th>3</th>\n",
       "      <td>E06000004</td>\n",
       "      <td>Stockton-on-Tees</td>\n",
       "      <td>444940</td>\n",
       "      <td>518183</td>\n",
       "      <td>-1.30664</td>\n",
       "      <td>54.5569</td>\n",
       "      <td>14e8450b-7e7c-479a-a335-095ac2d9a701</td>\n",
       "      <td>POLYGON ((444157.002 527956.304, 444165.898 52...</td>\n",
       "    </tr>\n",
       "    <tr>\n",
       "      <th>4</th>\n",
       "      <td>E06000005</td>\n",
       "      <td>Darlington</td>\n",
       "      <td>428029</td>\n",
       "      <td>515648</td>\n",
       "      <td>-1.56835</td>\n",
       "      <td>54.5353</td>\n",
       "      <td>2f212ecf-daf5-4171-b9c6-825c0d33e5af</td>\n",
       "      <td>POLYGON ((423496.602 524724.299, 423497.204 52...</td>\n",
       "    </tr>\n",
       "  </tbody>\n",
       "</table>\n",
       "</div>"
      ],
      "text/plain": [
       "     LAD22CD               LAD22NM   BNG_E   BNG_N     LONG      LAT  \\\n",
       "0  E06000001            Hartlepool  447160  531474 -1.27018  54.6761   \n",
       "1  E06000002         Middlesbrough  451141  516887 -1.21099  54.5447   \n",
       "2  E06000003  Redcar and Cleveland  464361  519597 -1.00608  54.5675   \n",
       "3  E06000004      Stockton-on-Tees  444940  518183 -1.30664  54.5569   \n",
       "4  E06000005            Darlington  428029  515648 -1.56835  54.5353   \n",
       "\n",
       "                               GlobalID  \\\n",
       "0  2efc9848-300e-4ef3-a36e-58d6856b9817   \n",
       "1  6d66b015-1f67-40f6-b239-15911fa03834   \n",
       "2  a5a6513f-916e-4769-bed2-cd019d18719a   \n",
       "3  14e8450b-7e7c-479a-a335-095ac2d9a701   \n",
       "4  2f212ecf-daf5-4171-b9c6-825c0d33e5af   \n",
       "\n",
       "                                            geometry  \n",
       "0  POLYGON ((447213.900 537036.104, 447228.798 53...  \n",
       "1  POLYGON ((448489.897 522071.798, 448592.597 52...  \n",
       "2  POLYGON ((455525.931 528406.654, 455724.632 52...  \n",
       "3  POLYGON ((444157.002 527956.304, 444165.898 52...  \n",
       "4  POLYGON ((423496.602 524724.299, 423497.204 52...  "
      ]
     },
     "execution_count": 12,
     "metadata": {},
     "output_type": "execute_result"
    }
   ],
   "source": [
    "gdf.head()"
   ]
  },
  {
   "cell_type": "code",
   "execution_count": 13,
   "id": "9ffaf224-7bd5-4660-8942-c413d988113c",
   "metadata": {},
   "outputs": [
    {
     "data": {
      "text/plain": [
       "374"
      ]
     },
     "execution_count": 13,
     "metadata": {},
     "output_type": "execute_result"
    }
   ],
   "source": [
    "gdf.LAD22NM.nunique()"
   ]
  },
  {
   "cell_type": "markdown",
   "id": "3c5f7ecf-8a3c-4eb0-b5e2-8880c3e32414",
   "metadata": {},
   "source": [
    "## Cleaning gdf\n",
    "\n",
    "* rename columns to match 'df'\n",
    "* get rid of redundant Local Authorities"
   ]
  },
  {
   "cell_type": "code",
   "execution_count": 14,
   "id": "901c3743-b888-4283-8ddf-c6868532be8b",
   "metadata": {},
   "outputs": [],
   "source": [
    "gdf = gdf.rename(columns = {'LAD22CD': 'LA_code', 'LAD22NM' : 'LA_name'})"
   ]
  },
  {
   "cell_type": "code",
   "execution_count": 15,
   "id": "16adafbe-bdbb-487a-aabf-ce947e550912",
   "metadata": {},
   "outputs": [],
   "source": [
    "gdf = gdf[gdf['LA_code'].isin(df.LA_code.unique())]"
   ]
  },
  {
   "cell_type": "code",
   "execution_count": 16,
   "id": "9938bc2e-0a8f-47aa-ab8e-40ca2655e8ea",
   "metadata": {},
   "outputs": [
    {
     "data": {
      "text/html": [
       "<div>\n",
       "<style scoped>\n",
       "    .dataframe tbody tr th:only-of-type {\n",
       "        vertical-align: middle;\n",
       "    }\n",
       "\n",
       "    .dataframe tbody tr th {\n",
       "        vertical-align: top;\n",
       "    }\n",
       "\n",
       "    .dataframe thead th {\n",
       "        text-align: right;\n",
       "    }\n",
       "</style>\n",
       "<table border=\"1\" class=\"dataframe\">\n",
       "  <thead>\n",
       "    <tr style=\"text-align: right;\">\n",
       "      <th></th>\n",
       "      <th>LA_code</th>\n",
       "      <th>LA_name</th>\n",
       "      <th>BNG_E</th>\n",
       "      <th>BNG_N</th>\n",
       "      <th>LONG</th>\n",
       "      <th>LAT</th>\n",
       "      <th>GlobalID</th>\n",
       "      <th>geometry</th>\n",
       "    </tr>\n",
       "  </thead>\n",
       "  <tbody>\n",
       "    <tr>\n",
       "      <th>0</th>\n",
       "      <td>E06000001</td>\n",
       "      <td>Hartlepool</td>\n",
       "      <td>447160</td>\n",
       "      <td>531474</td>\n",
       "      <td>-1.270180</td>\n",
       "      <td>54.6761</td>\n",
       "      <td>2efc9848-300e-4ef3-a36e-58d6856b9817</td>\n",
       "      <td>POLYGON ((447213.900 537036.104, 447228.798 53...</td>\n",
       "    </tr>\n",
       "    <tr>\n",
       "      <th>1</th>\n",
       "      <td>E06000002</td>\n",
       "      <td>Middlesbrough</td>\n",
       "      <td>451141</td>\n",
       "      <td>516887</td>\n",
       "      <td>-1.210990</td>\n",
       "      <td>54.5447</td>\n",
       "      <td>6d66b015-1f67-40f6-b239-15911fa03834</td>\n",
       "      <td>POLYGON ((448489.897 522071.798, 448592.597 52...</td>\n",
       "    </tr>\n",
       "    <tr>\n",
       "      <th>2</th>\n",
       "      <td>E06000003</td>\n",
       "      <td>Redcar and Cleveland</td>\n",
       "      <td>464361</td>\n",
       "      <td>519597</td>\n",
       "      <td>-1.006080</td>\n",
       "      <td>54.5675</td>\n",
       "      <td>a5a6513f-916e-4769-bed2-cd019d18719a</td>\n",
       "      <td>POLYGON ((455525.931 528406.654, 455724.632 52...</td>\n",
       "    </tr>\n",
       "    <tr>\n",
       "      <th>3</th>\n",
       "      <td>E06000004</td>\n",
       "      <td>Stockton-on-Tees</td>\n",
       "      <td>444940</td>\n",
       "      <td>518183</td>\n",
       "      <td>-1.306640</td>\n",
       "      <td>54.5569</td>\n",
       "      <td>14e8450b-7e7c-479a-a335-095ac2d9a701</td>\n",
       "      <td>POLYGON ((444157.002 527956.304, 444165.898 52...</td>\n",
       "    </tr>\n",
       "    <tr>\n",
       "      <th>4</th>\n",
       "      <td>E06000005</td>\n",
       "      <td>Darlington</td>\n",
       "      <td>428029</td>\n",
       "      <td>515648</td>\n",
       "      <td>-1.568350</td>\n",
       "      <td>54.5353</td>\n",
       "      <td>2f212ecf-daf5-4171-b9c6-825c0d33e5af</td>\n",
       "      <td>POLYGON ((423496.602 524724.299, 423497.204 52...</td>\n",
       "    </tr>\n",
       "    <tr>\n",
       "      <th>5</th>\n",
       "      <td>E06000006</td>\n",
       "      <td>Halton</td>\n",
       "      <td>354246</td>\n",
       "      <td>382146</td>\n",
       "      <td>-2.688530</td>\n",
       "      <td>53.3342</td>\n",
       "      <td>79d75109-ea21-4148-b303-ce7d03795d27</td>\n",
       "      <td>POLYGON ((351539.901 389475.203, 351630.102 38...</td>\n",
       "    </tr>\n",
       "    <tr>\n",
       "      <th>6</th>\n",
       "      <td>E06000007</td>\n",
       "      <td>Warrington</td>\n",
       "      <td>362744</td>\n",
       "      <td>388456</td>\n",
       "      <td>-2.561670</td>\n",
       "      <td>53.3916</td>\n",
       "      <td>bd72c5e2-e955-4bd6-8d91-f549a7c7f96d</td>\n",
       "      <td>POLYGON ((367308.201 398265.497, 367315.399 39...</td>\n",
       "    </tr>\n",
       "    <tr>\n",
       "      <th>7</th>\n",
       "      <td>E06000008</td>\n",
       "      <td>Blackburn with Darwen</td>\n",
       "      <td>369490</td>\n",
       "      <td>422806</td>\n",
       "      <td>-2.463600</td>\n",
       "      <td>53.7008</td>\n",
       "      <td>cef1af53-4397-4537-8223-39578967089e</td>\n",
       "      <td>POLYGON ((369226.299 431801.198, 369234.000 43...</td>\n",
       "    </tr>\n",
       "    <tr>\n",
       "      <th>8</th>\n",
       "      <td>E06000009</td>\n",
       "      <td>Blackpool</td>\n",
       "      <td>332819</td>\n",
       "      <td>436635</td>\n",
       "      <td>-3.021990</td>\n",
       "      <td>53.8216</td>\n",
       "      <td>a578b265-93b1-4a96-89d9-6e2edf36918d</td>\n",
       "      <td>POLYGON ((332978.998 440832.003, 332985.900 44...</td>\n",
       "    </tr>\n",
       "    <tr>\n",
       "      <th>9</th>\n",
       "      <td>E06000010</td>\n",
       "      <td>Kingston upon Hull, City of</td>\n",
       "      <td>511894</td>\n",
       "      <td>431650</td>\n",
       "      <td>-0.303820</td>\n",
       "      <td>53.7692</td>\n",
       "      <td>e05ebff0-c763-4b81-aa5d-b94b1a253248</td>\n",
       "      <td>POLYGON ((510966.600 436533.003, 511217.497 43...</td>\n",
       "    </tr>\n",
       "    <tr>\n",
       "      <th>10</th>\n",
       "      <td>E06000011</td>\n",
       "      <td>East Riding of Yorkshire</td>\n",
       "      <td>488056</td>\n",
       "      <td>443597</td>\n",
       "      <td>-0.661950</td>\n",
       "      <td>53.8811</td>\n",
       "      <td>9baca15e-b4d6-447c-b94c-88f0b6443501</td>\n",
       "      <td>POLYGON ((505320.803 476615.800, 505341.498 47...</td>\n",
       "    </tr>\n",
       "    <tr>\n",
       "      <th>11</th>\n",
       "      <td>E06000012</td>\n",
       "      <td>North East Lincolnshire</td>\n",
       "      <td>523465</td>\n",
       "      <td>404564</td>\n",
       "      <td>-0.139110</td>\n",
       "      <td>53.5233</td>\n",
       "      <td>cd1fcc3a-3fef-4b49-b0ec-5d3e9ff6e6c2</td>\n",
       "      <td>POLYGON ((519904.448 416457.807, 519911.209 41...</td>\n",
       "    </tr>\n",
       "    <tr>\n",
       "      <th>12</th>\n",
       "      <td>E06000013</td>\n",
       "      <td>North Lincolnshire</td>\n",
       "      <td>497800</td>\n",
       "      <td>410993</td>\n",
       "      <td>-0.524070</td>\n",
       "      <td>53.5864</td>\n",
       "      <td>93cd1895-0976-41c5-b915-2ce901427405</td>\n",
       "      <td>POLYGON ((497685.909 423059.001, 497815.279 42...</td>\n",
       "    </tr>\n",
       "    <tr>\n",
       "      <th>13</th>\n",
       "      <td>E06000014</td>\n",
       "      <td>York</td>\n",
       "      <td>460864</td>\n",
       "      <td>452589</td>\n",
       "      <td>-1.073750</td>\n",
       "      <td>53.9658</td>\n",
       "      <td>0d956ce9-c4d2-4786-b2e3-fc72ba870aab</td>\n",
       "      <td>POLYGON ((464216.997 462110.902, 464266.203 46...</td>\n",
       "    </tr>\n",
       "    <tr>\n",
       "      <th>14</th>\n",
       "      <td>E06000015</td>\n",
       "      <td>Derby</td>\n",
       "      <td>435609</td>\n",
       "      <td>335375</td>\n",
       "      <td>-1.471890</td>\n",
       "      <td>52.9146</td>\n",
       "      <td>ba7d1ec9-70f6-4957-b7ee-4806f3194b22</td>\n",
       "      <td>POLYGON ((434972.301 341311.800, 434986.301 34...</td>\n",
       "    </tr>\n",
       "    <tr>\n",
       "      <th>15</th>\n",
       "      <td>E06000016</td>\n",
       "      <td>Leicester</td>\n",
       "      <td>458946</td>\n",
       "      <td>304594</td>\n",
       "      <td>-1.130400</td>\n",
       "      <td>52.6359</td>\n",
       "      <td>80d00a58-2471-4b02-bea3-392d18ba24a6</td>\n",
       "      <td>POLYGON ((457057.200 310757.296, 457090.502 31...</td>\n",
       "    </tr>\n",
       "    <tr>\n",
       "      <th>16</th>\n",
       "      <td>E06000017</td>\n",
       "      <td>Rutland</td>\n",
       "      <td>492992</td>\n",
       "      <td>308655</td>\n",
       "      <td>-0.626300</td>\n",
       "      <td>52.6676</td>\n",
       "      <td>4a2b6d74-897d-4d6a-b2b1-e03d0d6f9746</td>\n",
       "      <td>POLYGON ((493934.802 318917.900, 493958.597 31...</td>\n",
       "    </tr>\n",
       "    <tr>\n",
       "      <th>17</th>\n",
       "      <td>E06000018</td>\n",
       "      <td>Nottingham</td>\n",
       "      <td>456082</td>\n",
       "      <td>339969</td>\n",
       "      <td>-1.166670</td>\n",
       "      <td>52.9542</td>\n",
       "      <td>1033bff1-c239-4fd5-bb60-1a4346635388</td>\n",
       "      <td>POLYGON ((454895.600 346916.296, 454878.096 34...</td>\n",
       "    </tr>\n",
       "    <tr>\n",
       "      <th>18</th>\n",
       "      <td>E06000019</td>\n",
       "      <td>Herefordshire, County of</td>\n",
       "      <td>349434</td>\n",
       "      <td>242834</td>\n",
       "      <td>-2.739310</td>\n",
       "      <td>52.0815</td>\n",
       "      <td>100bf0d2-f827-440c-b199-d44f7a0c872f</td>\n",
       "      <td>POLYGON ((342023.896 277833.500, 342103.601 27...</td>\n",
       "    </tr>\n",
       "    <tr>\n",
       "      <th>19</th>\n",
       "      <td>E06000020</td>\n",
       "      <td>Telford and Wrekin</td>\n",
       "      <td>367035</td>\n",
       "      <td>313057</td>\n",
       "      <td>-2.489410</td>\n",
       "      <td>52.7142</td>\n",
       "      <td>e1a39c9e-65a4-4b5c-825d-7c849bb58328</td>\n",
       "      <td>POLYGON ((371253.050 325634.098, 371253.001 32...</td>\n",
       "    </tr>\n",
       "    <tr>\n",
       "      <th>20</th>\n",
       "      <td>E06000021</td>\n",
       "      <td>Stoke-on-Trent</td>\n",
       "      <td>389438</td>\n",
       "      <td>346652</td>\n",
       "      <td>-2.158880</td>\n",
       "      <td>53.0171</td>\n",
       "      <td>84c9ef2f-f04e-4327-9337-c939fcd879a2</td>\n",
       "      <td>POLYGON ((386974.197 354963.502, 386978.097 35...</td>\n",
       "    </tr>\n",
       "    <tr>\n",
       "      <th>21</th>\n",
       "      <td>E06000022</td>\n",
       "      <td>Bath and North East Somerset</td>\n",
       "      <td>366217</td>\n",
       "      <td>161999</td>\n",
       "      <td>-2.486540</td>\n",
       "      <td>51.3560</td>\n",
       "      <td>86952caf-92ea-4502-8768-d15d8dcd5791</td>\n",
       "      <td>POLYGON ((376262.799 171210.701, 376272.998 17...</td>\n",
       "    </tr>\n",
       "    <tr>\n",
       "      <th>22</th>\n",
       "      <td>E06000023</td>\n",
       "      <td>Bristol, City of</td>\n",
       "      <td>359990</td>\n",
       "      <td>174846</td>\n",
       "      <td>-2.577420</td>\n",
       "      <td>51.4711</td>\n",
       "      <td>1f4c4dd9-0456-4108-8fea-64ee60a095b2</td>\n",
       "      <td>MULTIPOLYGON (((347714.483 177311.869, 347715....</td>\n",
       "    </tr>\n",
       "    <tr>\n",
       "      <th>23</th>\n",
       "      <td>E06000024</td>\n",
       "      <td>North Somerset</td>\n",
       "      <td>347614</td>\n",
       "      <td>166718</td>\n",
       "      <td>-2.754380</td>\n",
       "      <td>51.3971</td>\n",
       "      <td>8e61f8b3-e4c2-4c6a-966b-6714addf9264</td>\n",
       "      <td>MULTIPOLYGON (((322986.397 160868.101, 323011....</td>\n",
       "    </tr>\n",
       "    <tr>\n",
       "      <th>24</th>\n",
       "      <td>E06000025</td>\n",
       "      <td>South Gloucestershire</td>\n",
       "      <td>367559</td>\n",
       "      <td>183198</td>\n",
       "      <td>-2.469220</td>\n",
       "      <td>51.5467</td>\n",
       "      <td>e05e407a-b125-427f-911f-82601f4bc0cd</td>\n",
       "      <td>POLYGON ((364892.002 196487.495, 364892.802 19...</td>\n",
       "    </tr>\n",
       "    <tr>\n",
       "      <th>25</th>\n",
       "      <td>E06000026</td>\n",
       "      <td>Plymouth</td>\n",
       "      <td>249945</td>\n",
       "      <td>58255</td>\n",
       "      <td>-4.112970</td>\n",
       "      <td>50.4049</td>\n",
       "      <td>e8704389-008d-4644-8dad-21ccf356e738</td>\n",
       "      <td>MULTIPOLYGON (((246493.300 50559.300, 246496.9...</td>\n",
       "    </tr>\n",
       "    <tr>\n",
       "      <th>26</th>\n",
       "      <td>E06000027</td>\n",
       "      <td>Torbay</td>\n",
       "      <td>289730</td>\n",
       "      <td>64613</td>\n",
       "      <td>-3.555230</td>\n",
       "      <td>50.4709</td>\n",
       "      <td>75866729-5a74-41d3-8940-1a40dd19410a</td>\n",
       "      <td>POLYGON ((292683.002 69724.601, 292687.801 697...</td>\n",
       "    </tr>\n",
       "    <tr>\n",
       "      <th>27</th>\n",
       "      <td>E06000030</td>\n",
       "      <td>Swindon</td>\n",
       "      <td>418551</td>\n",
       "      <td>186564</td>\n",
       "      <td>-1.733670</td>\n",
       "      <td>51.5776</td>\n",
       "      <td>9664ebeb-abc4-4649-8baf-d6581a634635</td>\n",
       "      <td>POLYGON ((421485.500 199305.799, 421517.804 19...</td>\n",
       "    </tr>\n",
       "    <tr>\n",
       "      <th>28</th>\n",
       "      <td>E06000031</td>\n",
       "      <td>Peterborough</td>\n",
       "      <td>517372</td>\n",
       "      <td>300777</td>\n",
       "      <td>-0.268740</td>\n",
       "      <td>52.5921</td>\n",
       "      <td>22f5dc7d-ae93-4404-a875-1fe7a55535b0</td>\n",
       "      <td>POLYGON ((531399.296 310254.500, 531826.596 31...</td>\n",
       "    </tr>\n",
       "    <tr>\n",
       "      <th>29</th>\n",
       "      <td>E06000032</td>\n",
       "      <td>Luton</td>\n",
       "      <td>508606</td>\n",
       "      <td>222559</td>\n",
       "      <td>-0.423190</td>\n",
       "      <td>51.8910</td>\n",
       "      <td>d40e4812-8639-4930-b51c-8fdebaca0f69</td>\n",
       "      <td>POLYGON ((507976.900 226540.203, 507995.896 22...</td>\n",
       "    </tr>\n",
       "    <tr>\n",
       "      <th>30</th>\n",
       "      <td>E06000033</td>\n",
       "      <td>Southend-on-Sea</td>\n",
       "      <td>587777</td>\n",
       "      <td>186837</td>\n",
       "      <td>0.706923</td>\n",
       "      <td>51.5492</td>\n",
       "      <td>ec11b035-3158-4cec-ab8d-1c6485b5be98</td>\n",
       "      <td>POLYGON ((583025.697 189701.998, 583224.601 18...</td>\n",
       "    </tr>\n",
       "    <tr>\n",
       "      <th>31</th>\n",
       "      <td>E06000034</td>\n",
       "      <td>Thurrock</td>\n",
       "      <td>562123</td>\n",
       "      <td>181590</td>\n",
       "      <td>0.334861</td>\n",
       "      <td>51.5100</td>\n",
       "      <td>e0b6bad6-57d3-4703-b654-abeaaeb9e703</td>\n",
       "      <td>POLYGON ((565883.299 187916.399, 565887.200 18...</td>\n",
       "    </tr>\n",
       "    <tr>\n",
       "      <th>32</th>\n",
       "      <td>E06000035</td>\n",
       "      <td>Medway</td>\n",
       "      <td>578207</td>\n",
       "      <td>175198</td>\n",
       "      <td>0.563174</td>\n",
       "      <td>51.4477</td>\n",
       "      <td>d20543b8-31b4-457c-ad47-9d64046d5ed7</td>\n",
       "      <td>POLYGON ((585973.801 181262.803, 585991.099 18...</td>\n",
       "    </tr>\n",
       "    <tr>\n",
       "      <th>33</th>\n",
       "      <td>E06000036</td>\n",
       "      <td>Bracknell Forest</td>\n",
       "      <td>488169</td>\n",
       "      <td>168792</td>\n",
       "      <td>-0.733630</td>\n",
       "      <td>51.4113</td>\n",
       "      <td>f04dd657-a1ef-49bf-b53b-e5253c23a2b9</td>\n",
       "      <td>POLYGON ((485140.002 175127.500, 485151.099 17...</td>\n",
       "    </tr>\n",
       "    <tr>\n",
       "      <th>34</th>\n",
       "      <td>E06000037</td>\n",
       "      <td>West Berkshire</td>\n",
       "      <td>450575</td>\n",
       "      <td>172095</td>\n",
       "      <td>-1.273640</td>\n",
       "      <td>51.4456</td>\n",
       "      <td>df866168-e6a3-4ff9-83ef-d5c7aecec342</td>\n",
       "      <td>POLYGON ((447715.603 184480.802, 447729.496 18...</td>\n",
       "    </tr>\n",
       "    <tr>\n",
       "      <th>35</th>\n",
       "      <td>E06000038</td>\n",
       "      <td>Reading</td>\n",
       "      <td>470226</td>\n",
       "      <td>173154</td>\n",
       "      <td>-0.990710</td>\n",
       "      <td>51.4530</td>\n",
       "      <td>612548cf-866c-4ef3-b82a-5acb6c62ffcd</td>\n",
       "      <td>POLYGON ((472171.304 177638.001, 472192.799 17...</td>\n",
       "    </tr>\n",
       "    <tr>\n",
       "      <th>36</th>\n",
       "      <td>E06000039</td>\n",
       "      <td>Slough</td>\n",
       "      <td>498920</td>\n",
       "      <td>179246</td>\n",
       "      <td>-0.576170</td>\n",
       "      <td>51.5035</td>\n",
       "      <td>22aa4757-293f-49f1-a319-9618d9ce2610</td>\n",
       "      <td>POLYGON ((495534.097 182995.897, 495544.997 18...</td>\n",
       "    </tr>\n",
       "    <tr>\n",
       "      <th>37</th>\n",
       "      <td>E06000040</td>\n",
       "      <td>Windsor and Maidenhead</td>\n",
       "      <td>492079</td>\n",
       "      <td>176541</td>\n",
       "      <td>-0.675410</td>\n",
       "      <td>51.4803</td>\n",
       "      <td>b63e0886-b0aa-4c1d-b81f-98e94b7c7678</td>\n",
       "      <td>POLYGON ((489429.297 185836.104, 489442.802 18...</td>\n",
       "    </tr>\n",
       "    <tr>\n",
       "      <th>38</th>\n",
       "      <td>E06000041</td>\n",
       "      <td>Wokingham</td>\n",
       "      <td>476624</td>\n",
       "      <td>169902</td>\n",
       "      <td>-0.899350</td>\n",
       "      <td>51.4230</td>\n",
       "      <td>896d3570-860b-4592-889b-0cc5a4dc4a4e</td>\n",
       "      <td>POLYGON ((479159.801 183890.701, 479165.498 18...</td>\n",
       "    </tr>\n",
       "    <tr>\n",
       "      <th>39</th>\n",
       "      <td>E06000042</td>\n",
       "      <td>Milton Keynes</td>\n",
       "      <td>486408</td>\n",
       "      <td>242308</td>\n",
       "      <td>-0.740700</td>\n",
       "      <td>52.0724</td>\n",
       "      <td>36a37595-954e-4322-b058-57c99c4b1935</td>\n",
       "      <td>POLYGON ((490173.603 256107.999, 490234.897 25...</td>\n",
       "    </tr>\n",
       "    <tr>\n",
       "      <th>40</th>\n",
       "      <td>E06000043</td>\n",
       "      <td>Brighton and Hove</td>\n",
       "      <td>530279</td>\n",
       "      <td>106850</td>\n",
       "      <td>-0.150790</td>\n",
       "      <td>50.8465</td>\n",
       "      <td>3e996943-6917-4b16-8537-8c80acb87700</td>\n",
       "      <td>POLYGON ((529091.899 111919.103, 529060.502 11...</td>\n",
       "    </tr>\n",
       "    <tr>\n",
       "      <th>41</th>\n",
       "      <td>E06000044</td>\n",
       "      <td>Portsmouth</td>\n",
       "      <td>465619</td>\n",
       "      <td>101352</td>\n",
       "      <td>-1.070060</td>\n",
       "      <td>50.8080</td>\n",
       "      <td>10482e7f-3b02-4073-9524-fce7bd185945</td>\n",
       "      <td>MULTIPOLYGON (((465557.602 94917.599, 465553.0...</td>\n",
       "    </tr>\n",
       "    <tr>\n",
       "      <th>42</th>\n",
       "      <td>E06000045</td>\n",
       "      <td>Southampton</td>\n",
       "      <td>442303</td>\n",
       "      <td>113700</td>\n",
       "      <td>-1.399520</td>\n",
       "      <td>50.9212</td>\n",
       "      <td>1d9d452d-8daf-4315-b5d4-a7755a3e50ea</td>\n",
       "      <td>POLYGON ((441891.003 117502.604, 441909.802 11...</td>\n",
       "    </tr>\n",
       "    <tr>\n",
       "      <th>43</th>\n",
       "      <td>E06000046</td>\n",
       "      <td>Isle of Wight</td>\n",
       "      <td>447183</td>\n",
       "      <td>85949</td>\n",
       "      <td>-1.333660</td>\n",
       "      <td>50.6713</td>\n",
       "      <td>7d1fba3f-b8f6-4f26-b0a9-acd30c332c75</td>\n",
       "      <td>MULTIPOLYGON (((429038.396 84843.503, 429056.1...</td>\n",
       "    </tr>\n",
       "    <tr>\n",
       "      <th>44</th>\n",
       "      <td>E06000047</td>\n",
       "      <td>County Durham</td>\n",
       "      <td>410381</td>\n",
       "      <td>532242</td>\n",
       "      <td>-1.840500</td>\n",
       "      <td>54.6851</td>\n",
       "      <td>f49d892a-d426-4b03-807b-090c399cfd55</td>\n",
       "      <td>POLYGON ((416954.896 558226.799, 416959.398 55...</td>\n",
       "    </tr>\n",
       "    <tr>\n",
       "      <th>45</th>\n",
       "      <td>E06000049</td>\n",
       "      <td>Cheshire East</td>\n",
       "      <td>380510</td>\n",
       "      <td>363462</td>\n",
       "      <td>-2.292990</td>\n",
       "      <td>53.1679</td>\n",
       "      <td>b3d48780-3b9b-4148-85eb-471df4f216cf</td>\n",
       "      <td>POLYGON ((371858.196 387837.902, 371862.797 38...</td>\n",
       "    </tr>\n",
       "    <tr>\n",
       "      <th>46</th>\n",
       "      <td>E06000050</td>\n",
       "      <td>Cheshire West and Chester</td>\n",
       "      <td>353097</td>\n",
       "      <td>363145</td>\n",
       "      <td>-2.702980</td>\n",
       "      <td>53.1634</td>\n",
       "      <td>9316553e-c38b-4bd2-8364-575c04a3aad5</td>\n",
       "      <td>POLYGON ((367148.098 382916.801, 367149.401 38...</td>\n",
       "    </tr>\n",
       "    <tr>\n",
       "      <th>47</th>\n",
       "      <td>E06000051</td>\n",
       "      <td>Shropshire</td>\n",
       "      <td>350227</td>\n",
       "      <td>302960</td>\n",
       "      <td>-2.736670</td>\n",
       "      <td>52.6221</td>\n",
       "      <td>9ba1584a-6dd2-47a7-82dd-f5ec0cc6a168</td>\n",
       "      <td>POLYGON ((374571.300 344603.298, 374577.896 34...</td>\n",
       "    </tr>\n",
       "    <tr>\n",
       "      <th>48</th>\n",
       "      <td>E06000052</td>\n",
       "      <td>Cornwall</td>\n",
       "      <td>212497</td>\n",
       "      <td>64493</td>\n",
       "      <td>-4.642540</td>\n",
       "      <td>50.4502</td>\n",
       "      <td>681ce838-fdd8-4030-958e-f2c1c65e0bb7</td>\n",
       "      <td>MULTIPOLYGON (((166048.934 17717.715, 166047.8...</td>\n",
       "    </tr>\n",
       "    <tr>\n",
       "      <th>49</th>\n",
       "      <td>E06000053</td>\n",
       "      <td>Isles of Scilly</td>\n",
       "      <td>91327</td>\n",
       "      <td>11447</td>\n",
       "      <td>-6.302170</td>\n",
       "      <td>49.9233</td>\n",
       "      <td>736dcde5-f49e-4dec-affd-a5bb2e47dfa0</td>\n",
       "      <td>MULTIPOLYGON (((84014.170 5445.450, 84021.580 ...</td>\n",
       "    </tr>\n",
       "  </tbody>\n",
       "</table>\n",
       "</div>"
      ],
      "text/plain": [
       "      LA_code                       LA_name   BNG_E   BNG_N      LONG  \\\n",
       "0   E06000001                    Hartlepool  447160  531474 -1.270180   \n",
       "1   E06000002                 Middlesbrough  451141  516887 -1.210990   \n",
       "2   E06000003          Redcar and Cleveland  464361  519597 -1.006080   \n",
       "3   E06000004              Stockton-on-Tees  444940  518183 -1.306640   \n",
       "4   E06000005                    Darlington  428029  515648 -1.568350   \n",
       "5   E06000006                        Halton  354246  382146 -2.688530   \n",
       "6   E06000007                    Warrington  362744  388456 -2.561670   \n",
       "7   E06000008         Blackburn with Darwen  369490  422806 -2.463600   \n",
       "8   E06000009                     Blackpool  332819  436635 -3.021990   \n",
       "9   E06000010   Kingston upon Hull, City of  511894  431650 -0.303820   \n",
       "10  E06000011      East Riding of Yorkshire  488056  443597 -0.661950   \n",
       "11  E06000012       North East Lincolnshire  523465  404564 -0.139110   \n",
       "12  E06000013            North Lincolnshire  497800  410993 -0.524070   \n",
       "13  E06000014                          York  460864  452589 -1.073750   \n",
       "14  E06000015                         Derby  435609  335375 -1.471890   \n",
       "15  E06000016                     Leicester  458946  304594 -1.130400   \n",
       "16  E06000017                       Rutland  492992  308655 -0.626300   \n",
       "17  E06000018                    Nottingham  456082  339969 -1.166670   \n",
       "18  E06000019      Herefordshire, County of  349434  242834 -2.739310   \n",
       "19  E06000020            Telford and Wrekin  367035  313057 -2.489410   \n",
       "20  E06000021                Stoke-on-Trent  389438  346652 -2.158880   \n",
       "21  E06000022  Bath and North East Somerset  366217  161999 -2.486540   \n",
       "22  E06000023              Bristol, City of  359990  174846 -2.577420   \n",
       "23  E06000024                North Somerset  347614  166718 -2.754380   \n",
       "24  E06000025         South Gloucestershire  367559  183198 -2.469220   \n",
       "25  E06000026                      Plymouth  249945   58255 -4.112970   \n",
       "26  E06000027                        Torbay  289730   64613 -3.555230   \n",
       "27  E06000030                       Swindon  418551  186564 -1.733670   \n",
       "28  E06000031                  Peterborough  517372  300777 -0.268740   \n",
       "29  E06000032                         Luton  508606  222559 -0.423190   \n",
       "30  E06000033               Southend-on-Sea  587777  186837  0.706923   \n",
       "31  E06000034                      Thurrock  562123  181590  0.334861   \n",
       "32  E06000035                        Medway  578207  175198  0.563174   \n",
       "33  E06000036              Bracknell Forest  488169  168792 -0.733630   \n",
       "34  E06000037                West Berkshire  450575  172095 -1.273640   \n",
       "35  E06000038                       Reading  470226  173154 -0.990710   \n",
       "36  E06000039                        Slough  498920  179246 -0.576170   \n",
       "37  E06000040        Windsor and Maidenhead  492079  176541 -0.675410   \n",
       "38  E06000041                     Wokingham  476624  169902 -0.899350   \n",
       "39  E06000042                 Milton Keynes  486408  242308 -0.740700   \n",
       "40  E06000043             Brighton and Hove  530279  106850 -0.150790   \n",
       "41  E06000044                    Portsmouth  465619  101352 -1.070060   \n",
       "42  E06000045                   Southampton  442303  113700 -1.399520   \n",
       "43  E06000046                 Isle of Wight  447183   85949 -1.333660   \n",
       "44  E06000047                 County Durham  410381  532242 -1.840500   \n",
       "45  E06000049                 Cheshire East  380510  363462 -2.292990   \n",
       "46  E06000050     Cheshire West and Chester  353097  363145 -2.702980   \n",
       "47  E06000051                    Shropshire  350227  302960 -2.736670   \n",
       "48  E06000052                      Cornwall  212497   64493 -4.642540   \n",
       "49  E06000053               Isles of Scilly   91327   11447 -6.302170   \n",
       "\n",
       "        LAT                              GlobalID  \\\n",
       "0   54.6761  2efc9848-300e-4ef3-a36e-58d6856b9817   \n",
       "1   54.5447  6d66b015-1f67-40f6-b239-15911fa03834   \n",
       "2   54.5675  a5a6513f-916e-4769-bed2-cd019d18719a   \n",
       "3   54.5569  14e8450b-7e7c-479a-a335-095ac2d9a701   \n",
       "4   54.5353  2f212ecf-daf5-4171-b9c6-825c0d33e5af   \n",
       "5   53.3342  79d75109-ea21-4148-b303-ce7d03795d27   \n",
       "6   53.3916  bd72c5e2-e955-4bd6-8d91-f549a7c7f96d   \n",
       "7   53.7008  cef1af53-4397-4537-8223-39578967089e   \n",
       "8   53.8216  a578b265-93b1-4a96-89d9-6e2edf36918d   \n",
       "9   53.7692  e05ebff0-c763-4b81-aa5d-b94b1a253248   \n",
       "10  53.8811  9baca15e-b4d6-447c-b94c-88f0b6443501   \n",
       "11  53.5233  cd1fcc3a-3fef-4b49-b0ec-5d3e9ff6e6c2   \n",
       "12  53.5864  93cd1895-0976-41c5-b915-2ce901427405   \n",
       "13  53.9658  0d956ce9-c4d2-4786-b2e3-fc72ba870aab   \n",
       "14  52.9146  ba7d1ec9-70f6-4957-b7ee-4806f3194b22   \n",
       "15  52.6359  80d00a58-2471-4b02-bea3-392d18ba24a6   \n",
       "16  52.6676  4a2b6d74-897d-4d6a-b2b1-e03d0d6f9746   \n",
       "17  52.9542  1033bff1-c239-4fd5-bb60-1a4346635388   \n",
       "18  52.0815  100bf0d2-f827-440c-b199-d44f7a0c872f   \n",
       "19  52.7142  e1a39c9e-65a4-4b5c-825d-7c849bb58328   \n",
       "20  53.0171  84c9ef2f-f04e-4327-9337-c939fcd879a2   \n",
       "21  51.3560  86952caf-92ea-4502-8768-d15d8dcd5791   \n",
       "22  51.4711  1f4c4dd9-0456-4108-8fea-64ee60a095b2   \n",
       "23  51.3971  8e61f8b3-e4c2-4c6a-966b-6714addf9264   \n",
       "24  51.5467  e05e407a-b125-427f-911f-82601f4bc0cd   \n",
       "25  50.4049  e8704389-008d-4644-8dad-21ccf356e738   \n",
       "26  50.4709  75866729-5a74-41d3-8940-1a40dd19410a   \n",
       "27  51.5776  9664ebeb-abc4-4649-8baf-d6581a634635   \n",
       "28  52.5921  22f5dc7d-ae93-4404-a875-1fe7a55535b0   \n",
       "29  51.8910  d40e4812-8639-4930-b51c-8fdebaca0f69   \n",
       "30  51.5492  ec11b035-3158-4cec-ab8d-1c6485b5be98   \n",
       "31  51.5100  e0b6bad6-57d3-4703-b654-abeaaeb9e703   \n",
       "32  51.4477  d20543b8-31b4-457c-ad47-9d64046d5ed7   \n",
       "33  51.4113  f04dd657-a1ef-49bf-b53b-e5253c23a2b9   \n",
       "34  51.4456  df866168-e6a3-4ff9-83ef-d5c7aecec342   \n",
       "35  51.4530  612548cf-866c-4ef3-b82a-5acb6c62ffcd   \n",
       "36  51.5035  22aa4757-293f-49f1-a319-9618d9ce2610   \n",
       "37  51.4803  b63e0886-b0aa-4c1d-b81f-98e94b7c7678   \n",
       "38  51.4230  896d3570-860b-4592-889b-0cc5a4dc4a4e   \n",
       "39  52.0724  36a37595-954e-4322-b058-57c99c4b1935   \n",
       "40  50.8465  3e996943-6917-4b16-8537-8c80acb87700   \n",
       "41  50.8080  10482e7f-3b02-4073-9524-fce7bd185945   \n",
       "42  50.9212  1d9d452d-8daf-4315-b5d4-a7755a3e50ea   \n",
       "43  50.6713  7d1fba3f-b8f6-4f26-b0a9-acd30c332c75   \n",
       "44  54.6851  f49d892a-d426-4b03-807b-090c399cfd55   \n",
       "45  53.1679  b3d48780-3b9b-4148-85eb-471df4f216cf   \n",
       "46  53.1634  9316553e-c38b-4bd2-8364-575c04a3aad5   \n",
       "47  52.6221  9ba1584a-6dd2-47a7-82dd-f5ec0cc6a168   \n",
       "48  50.4502  681ce838-fdd8-4030-958e-f2c1c65e0bb7   \n",
       "49  49.9233  736dcde5-f49e-4dec-affd-a5bb2e47dfa0   \n",
       "\n",
       "                                             geometry  \n",
       "0   POLYGON ((447213.900 537036.104, 447228.798 53...  \n",
       "1   POLYGON ((448489.897 522071.798, 448592.597 52...  \n",
       "2   POLYGON ((455525.931 528406.654, 455724.632 52...  \n",
       "3   POLYGON ((444157.002 527956.304, 444165.898 52...  \n",
       "4   POLYGON ((423496.602 524724.299, 423497.204 52...  \n",
       "5   POLYGON ((351539.901 389475.203, 351630.102 38...  \n",
       "6   POLYGON ((367308.201 398265.497, 367315.399 39...  \n",
       "7   POLYGON ((369226.299 431801.198, 369234.000 43...  \n",
       "8   POLYGON ((332978.998 440832.003, 332985.900 44...  \n",
       "9   POLYGON ((510966.600 436533.003, 511217.497 43...  \n",
       "10  POLYGON ((505320.803 476615.800, 505341.498 47...  \n",
       "11  POLYGON ((519904.448 416457.807, 519911.209 41...  \n",
       "12  POLYGON ((497685.909 423059.001, 497815.279 42...  \n",
       "13  POLYGON ((464216.997 462110.902, 464266.203 46...  \n",
       "14  POLYGON ((434972.301 341311.800, 434986.301 34...  \n",
       "15  POLYGON ((457057.200 310757.296, 457090.502 31...  \n",
       "16  POLYGON ((493934.802 318917.900, 493958.597 31...  \n",
       "17  POLYGON ((454895.600 346916.296, 454878.096 34...  \n",
       "18  POLYGON ((342023.896 277833.500, 342103.601 27...  \n",
       "19  POLYGON ((371253.050 325634.098, 371253.001 32...  \n",
       "20  POLYGON ((386974.197 354963.502, 386978.097 35...  \n",
       "21  POLYGON ((376262.799 171210.701, 376272.998 17...  \n",
       "22  MULTIPOLYGON (((347714.483 177311.869, 347715....  \n",
       "23  MULTIPOLYGON (((322986.397 160868.101, 323011....  \n",
       "24  POLYGON ((364892.002 196487.495, 364892.802 19...  \n",
       "25  MULTIPOLYGON (((246493.300 50559.300, 246496.9...  \n",
       "26  POLYGON ((292683.002 69724.601, 292687.801 697...  \n",
       "27  POLYGON ((421485.500 199305.799, 421517.804 19...  \n",
       "28  POLYGON ((531399.296 310254.500, 531826.596 31...  \n",
       "29  POLYGON ((507976.900 226540.203, 507995.896 22...  \n",
       "30  POLYGON ((583025.697 189701.998, 583224.601 18...  \n",
       "31  POLYGON ((565883.299 187916.399, 565887.200 18...  \n",
       "32  POLYGON ((585973.801 181262.803, 585991.099 18...  \n",
       "33  POLYGON ((485140.002 175127.500, 485151.099 17...  \n",
       "34  POLYGON ((447715.603 184480.802, 447729.496 18...  \n",
       "35  POLYGON ((472171.304 177638.001, 472192.799 17...  \n",
       "36  POLYGON ((495534.097 182995.897, 495544.997 18...  \n",
       "37  POLYGON ((489429.297 185836.104, 489442.802 18...  \n",
       "38  POLYGON ((479159.801 183890.701, 479165.498 18...  \n",
       "39  POLYGON ((490173.603 256107.999, 490234.897 25...  \n",
       "40  POLYGON ((529091.899 111919.103, 529060.502 11...  \n",
       "41  MULTIPOLYGON (((465557.602 94917.599, 465553.0...  \n",
       "42  POLYGON ((441891.003 117502.604, 441909.802 11...  \n",
       "43  MULTIPOLYGON (((429038.396 84843.503, 429056.1...  \n",
       "44  POLYGON ((416954.896 558226.799, 416959.398 55...  \n",
       "45  POLYGON ((371858.196 387837.902, 371862.797 38...  \n",
       "46  POLYGON ((367148.098 382916.801, 367149.401 38...  \n",
       "47  POLYGON ((374571.300 344603.298, 374577.896 34...  \n",
       "48  MULTIPOLYGON (((166048.934 17717.715, 166047.8...  \n",
       "49  MULTIPOLYGON (((84014.170 5445.450, 84021.580 ...  "
      ]
     },
     "execution_count": 16,
     "metadata": {},
     "output_type": "execute_result"
    }
   ],
   "source": [
    "gdf.head(50)"
   ]
  },
  {
   "cell_type": "code",
   "execution_count": 17,
   "id": "3c5019f2-efa3-4d1c-878f-812d6f366157",
   "metadata": {},
   "outputs": [],
   "source": [
    "gdf['LA_name'] = gdf['LA_name'].replace({'Bristol, City of': 'Bristol', 'Kingston upon Hull, City of': 'Kingston upon Hull', 'Herefordshire, County of': 'Herefordshire'})"
   ]
  },
  {
   "cell_type": "code",
   "execution_count": 18,
   "id": "262795b7-7013-43bd-bd3e-65d01f6e7a72",
   "metadata": {},
   "outputs": [
    {
     "data": {
      "text/html": [
       "<div>\n",
       "<style scoped>\n",
       "    .dataframe tbody tr th:only-of-type {\n",
       "        vertical-align: middle;\n",
       "    }\n",
       "\n",
       "    .dataframe tbody tr th {\n",
       "        vertical-align: top;\n",
       "    }\n",
       "\n",
       "    .dataframe thead th {\n",
       "        text-align: right;\n",
       "    }\n",
       "</style>\n",
       "<table border=\"1\" class=\"dataframe\">\n",
       "  <thead>\n",
       "    <tr style=\"text-align: right;\">\n",
       "      <th></th>\n",
       "      <th>LA_code</th>\n",
       "      <th>LA_name</th>\n",
       "      <th>BNG_E</th>\n",
       "      <th>BNG_N</th>\n",
       "      <th>LONG</th>\n",
       "      <th>LAT</th>\n",
       "      <th>GlobalID</th>\n",
       "      <th>geometry</th>\n",
       "    </tr>\n",
       "  </thead>\n",
       "  <tbody>\n",
       "    <tr>\n",
       "      <th>0</th>\n",
       "      <td>E06000001</td>\n",
       "      <td>Hartlepool</td>\n",
       "      <td>447160</td>\n",
       "      <td>531474</td>\n",
       "      <td>-1.27018</td>\n",
       "      <td>54.6761</td>\n",
       "      <td>2efc9848-300e-4ef3-a36e-58d6856b9817</td>\n",
       "      <td>POLYGON ((447213.900 537036.104, 447228.798 53...</td>\n",
       "    </tr>\n",
       "    <tr>\n",
       "      <th>1</th>\n",
       "      <td>E06000002</td>\n",
       "      <td>Middlesbrough</td>\n",
       "      <td>451141</td>\n",
       "      <td>516887</td>\n",
       "      <td>-1.21099</td>\n",
       "      <td>54.5447</td>\n",
       "      <td>6d66b015-1f67-40f6-b239-15911fa03834</td>\n",
       "      <td>POLYGON ((448489.897 522071.798, 448592.597 52...</td>\n",
       "    </tr>\n",
       "    <tr>\n",
       "      <th>2</th>\n",
       "      <td>E06000003</td>\n",
       "      <td>Redcar and Cleveland</td>\n",
       "      <td>464361</td>\n",
       "      <td>519597</td>\n",
       "      <td>-1.00608</td>\n",
       "      <td>54.5675</td>\n",
       "      <td>a5a6513f-916e-4769-bed2-cd019d18719a</td>\n",
       "      <td>POLYGON ((455525.931 528406.654, 455724.632 52...</td>\n",
       "    </tr>\n",
       "    <tr>\n",
       "      <th>3</th>\n",
       "      <td>E06000004</td>\n",
       "      <td>Stockton-on-Tees</td>\n",
       "      <td>444940</td>\n",
       "      <td>518183</td>\n",
       "      <td>-1.30664</td>\n",
       "      <td>54.5569</td>\n",
       "      <td>14e8450b-7e7c-479a-a335-095ac2d9a701</td>\n",
       "      <td>POLYGON ((444157.002 527956.304, 444165.898 52...</td>\n",
       "    </tr>\n",
       "    <tr>\n",
       "      <th>4</th>\n",
       "      <td>E06000005</td>\n",
       "      <td>Darlington</td>\n",
       "      <td>428029</td>\n",
       "      <td>515648</td>\n",
       "      <td>-1.56835</td>\n",
       "      <td>54.5353</td>\n",
       "      <td>2f212ecf-daf5-4171-b9c6-825c0d33e5af</td>\n",
       "      <td>POLYGON ((423496.602 524724.299, 423497.204 52...</td>\n",
       "    </tr>\n",
       "    <tr>\n",
       "      <th>5</th>\n",
       "      <td>E06000006</td>\n",
       "      <td>Halton</td>\n",
       "      <td>354246</td>\n",
       "      <td>382146</td>\n",
       "      <td>-2.68853</td>\n",
       "      <td>53.3342</td>\n",
       "      <td>79d75109-ea21-4148-b303-ce7d03795d27</td>\n",
       "      <td>POLYGON ((351539.901 389475.203, 351630.102 38...</td>\n",
       "    </tr>\n",
       "    <tr>\n",
       "      <th>6</th>\n",
       "      <td>E06000007</td>\n",
       "      <td>Warrington</td>\n",
       "      <td>362744</td>\n",
       "      <td>388456</td>\n",
       "      <td>-2.56167</td>\n",
       "      <td>53.3916</td>\n",
       "      <td>bd72c5e2-e955-4bd6-8d91-f549a7c7f96d</td>\n",
       "      <td>POLYGON ((367308.201 398265.497, 367315.399 39...</td>\n",
       "    </tr>\n",
       "    <tr>\n",
       "      <th>7</th>\n",
       "      <td>E06000008</td>\n",
       "      <td>Blackburn with Darwen</td>\n",
       "      <td>369490</td>\n",
       "      <td>422806</td>\n",
       "      <td>-2.46360</td>\n",
       "      <td>53.7008</td>\n",
       "      <td>cef1af53-4397-4537-8223-39578967089e</td>\n",
       "      <td>POLYGON ((369226.299 431801.198, 369234.000 43...</td>\n",
       "    </tr>\n",
       "    <tr>\n",
       "      <th>8</th>\n",
       "      <td>E06000009</td>\n",
       "      <td>Blackpool</td>\n",
       "      <td>332819</td>\n",
       "      <td>436635</td>\n",
       "      <td>-3.02199</td>\n",
       "      <td>53.8216</td>\n",
       "      <td>a578b265-93b1-4a96-89d9-6e2edf36918d</td>\n",
       "      <td>POLYGON ((332978.998 440832.003, 332985.900 44...</td>\n",
       "    </tr>\n",
       "    <tr>\n",
       "      <th>9</th>\n",
       "      <td>E06000010</td>\n",
       "      <td>Kingston upon Hull</td>\n",
       "      <td>511894</td>\n",
       "      <td>431650</td>\n",
       "      <td>-0.30382</td>\n",
       "      <td>53.7692</td>\n",
       "      <td>e05ebff0-c763-4b81-aa5d-b94b1a253248</td>\n",
       "      <td>POLYGON ((510966.600 436533.003, 511217.497 43...</td>\n",
       "    </tr>\n",
       "    <tr>\n",
       "      <th>10</th>\n",
       "      <td>E06000011</td>\n",
       "      <td>East Riding of Yorkshire</td>\n",
       "      <td>488056</td>\n",
       "      <td>443597</td>\n",
       "      <td>-0.66195</td>\n",
       "      <td>53.8811</td>\n",
       "      <td>9baca15e-b4d6-447c-b94c-88f0b6443501</td>\n",
       "      <td>POLYGON ((505320.803 476615.800, 505341.498 47...</td>\n",
       "    </tr>\n",
       "    <tr>\n",
       "      <th>11</th>\n",
       "      <td>E06000012</td>\n",
       "      <td>North East Lincolnshire</td>\n",
       "      <td>523465</td>\n",
       "      <td>404564</td>\n",
       "      <td>-0.13911</td>\n",
       "      <td>53.5233</td>\n",
       "      <td>cd1fcc3a-3fef-4b49-b0ec-5d3e9ff6e6c2</td>\n",
       "      <td>POLYGON ((519904.448 416457.807, 519911.209 41...</td>\n",
       "    </tr>\n",
       "    <tr>\n",
       "      <th>12</th>\n",
       "      <td>E06000013</td>\n",
       "      <td>North Lincolnshire</td>\n",
       "      <td>497800</td>\n",
       "      <td>410993</td>\n",
       "      <td>-0.52407</td>\n",
       "      <td>53.5864</td>\n",
       "      <td>93cd1895-0976-41c5-b915-2ce901427405</td>\n",
       "      <td>POLYGON ((497685.909 423059.001, 497815.279 42...</td>\n",
       "    </tr>\n",
       "    <tr>\n",
       "      <th>13</th>\n",
       "      <td>E06000014</td>\n",
       "      <td>York</td>\n",
       "      <td>460864</td>\n",
       "      <td>452589</td>\n",
       "      <td>-1.07375</td>\n",
       "      <td>53.9658</td>\n",
       "      <td>0d956ce9-c4d2-4786-b2e3-fc72ba870aab</td>\n",
       "      <td>POLYGON ((464216.997 462110.902, 464266.203 46...</td>\n",
       "    </tr>\n",
       "    <tr>\n",
       "      <th>14</th>\n",
       "      <td>E06000015</td>\n",
       "      <td>Derby</td>\n",
       "      <td>435609</td>\n",
       "      <td>335375</td>\n",
       "      <td>-1.47189</td>\n",
       "      <td>52.9146</td>\n",
       "      <td>ba7d1ec9-70f6-4957-b7ee-4806f3194b22</td>\n",
       "      <td>POLYGON ((434972.301 341311.800, 434986.301 34...</td>\n",
       "    </tr>\n",
       "    <tr>\n",
       "      <th>15</th>\n",
       "      <td>E06000016</td>\n",
       "      <td>Leicester</td>\n",
       "      <td>458946</td>\n",
       "      <td>304594</td>\n",
       "      <td>-1.13040</td>\n",
       "      <td>52.6359</td>\n",
       "      <td>80d00a58-2471-4b02-bea3-392d18ba24a6</td>\n",
       "      <td>POLYGON ((457057.200 310757.296, 457090.502 31...</td>\n",
       "    </tr>\n",
       "    <tr>\n",
       "      <th>16</th>\n",
       "      <td>E06000017</td>\n",
       "      <td>Rutland</td>\n",
       "      <td>492992</td>\n",
       "      <td>308655</td>\n",
       "      <td>-0.62630</td>\n",
       "      <td>52.6676</td>\n",
       "      <td>4a2b6d74-897d-4d6a-b2b1-e03d0d6f9746</td>\n",
       "      <td>POLYGON ((493934.802 318917.900, 493958.597 31...</td>\n",
       "    </tr>\n",
       "    <tr>\n",
       "      <th>17</th>\n",
       "      <td>E06000018</td>\n",
       "      <td>Nottingham</td>\n",
       "      <td>456082</td>\n",
       "      <td>339969</td>\n",
       "      <td>-1.16667</td>\n",
       "      <td>52.9542</td>\n",
       "      <td>1033bff1-c239-4fd5-bb60-1a4346635388</td>\n",
       "      <td>POLYGON ((454895.600 346916.296, 454878.096 34...</td>\n",
       "    </tr>\n",
       "    <tr>\n",
       "      <th>18</th>\n",
       "      <td>E06000019</td>\n",
       "      <td>Herefordshire</td>\n",
       "      <td>349434</td>\n",
       "      <td>242834</td>\n",
       "      <td>-2.73931</td>\n",
       "      <td>52.0815</td>\n",
       "      <td>100bf0d2-f827-440c-b199-d44f7a0c872f</td>\n",
       "      <td>POLYGON ((342023.896 277833.500, 342103.601 27...</td>\n",
       "    </tr>\n",
       "    <tr>\n",
       "      <th>19</th>\n",
       "      <td>E06000020</td>\n",
       "      <td>Telford and Wrekin</td>\n",
       "      <td>367035</td>\n",
       "      <td>313057</td>\n",
       "      <td>-2.48941</td>\n",
       "      <td>52.7142</td>\n",
       "      <td>e1a39c9e-65a4-4b5c-825d-7c849bb58328</td>\n",
       "      <td>POLYGON ((371253.050 325634.098, 371253.001 32...</td>\n",
       "    </tr>\n",
       "  </tbody>\n",
       "</table>\n",
       "</div>"
      ],
      "text/plain": [
       "      LA_code                   LA_name   BNG_E   BNG_N     LONG      LAT  \\\n",
       "0   E06000001                Hartlepool  447160  531474 -1.27018  54.6761   \n",
       "1   E06000002             Middlesbrough  451141  516887 -1.21099  54.5447   \n",
       "2   E06000003      Redcar and Cleveland  464361  519597 -1.00608  54.5675   \n",
       "3   E06000004          Stockton-on-Tees  444940  518183 -1.30664  54.5569   \n",
       "4   E06000005                Darlington  428029  515648 -1.56835  54.5353   \n",
       "5   E06000006                    Halton  354246  382146 -2.68853  53.3342   \n",
       "6   E06000007                Warrington  362744  388456 -2.56167  53.3916   \n",
       "7   E06000008     Blackburn with Darwen  369490  422806 -2.46360  53.7008   \n",
       "8   E06000009                 Blackpool  332819  436635 -3.02199  53.8216   \n",
       "9   E06000010        Kingston upon Hull  511894  431650 -0.30382  53.7692   \n",
       "10  E06000011  East Riding of Yorkshire  488056  443597 -0.66195  53.8811   \n",
       "11  E06000012   North East Lincolnshire  523465  404564 -0.13911  53.5233   \n",
       "12  E06000013        North Lincolnshire  497800  410993 -0.52407  53.5864   \n",
       "13  E06000014                      York  460864  452589 -1.07375  53.9658   \n",
       "14  E06000015                     Derby  435609  335375 -1.47189  52.9146   \n",
       "15  E06000016                 Leicester  458946  304594 -1.13040  52.6359   \n",
       "16  E06000017                   Rutland  492992  308655 -0.62630  52.6676   \n",
       "17  E06000018                Nottingham  456082  339969 -1.16667  52.9542   \n",
       "18  E06000019             Herefordshire  349434  242834 -2.73931  52.0815   \n",
       "19  E06000020        Telford and Wrekin  367035  313057 -2.48941  52.7142   \n",
       "\n",
       "                                GlobalID  \\\n",
       "0   2efc9848-300e-4ef3-a36e-58d6856b9817   \n",
       "1   6d66b015-1f67-40f6-b239-15911fa03834   \n",
       "2   a5a6513f-916e-4769-bed2-cd019d18719a   \n",
       "3   14e8450b-7e7c-479a-a335-095ac2d9a701   \n",
       "4   2f212ecf-daf5-4171-b9c6-825c0d33e5af   \n",
       "5   79d75109-ea21-4148-b303-ce7d03795d27   \n",
       "6   bd72c5e2-e955-4bd6-8d91-f549a7c7f96d   \n",
       "7   cef1af53-4397-4537-8223-39578967089e   \n",
       "8   a578b265-93b1-4a96-89d9-6e2edf36918d   \n",
       "9   e05ebff0-c763-4b81-aa5d-b94b1a253248   \n",
       "10  9baca15e-b4d6-447c-b94c-88f0b6443501   \n",
       "11  cd1fcc3a-3fef-4b49-b0ec-5d3e9ff6e6c2   \n",
       "12  93cd1895-0976-41c5-b915-2ce901427405   \n",
       "13  0d956ce9-c4d2-4786-b2e3-fc72ba870aab   \n",
       "14  ba7d1ec9-70f6-4957-b7ee-4806f3194b22   \n",
       "15  80d00a58-2471-4b02-bea3-392d18ba24a6   \n",
       "16  4a2b6d74-897d-4d6a-b2b1-e03d0d6f9746   \n",
       "17  1033bff1-c239-4fd5-bb60-1a4346635388   \n",
       "18  100bf0d2-f827-440c-b199-d44f7a0c872f   \n",
       "19  e1a39c9e-65a4-4b5c-825d-7c849bb58328   \n",
       "\n",
       "                                             geometry  \n",
       "0   POLYGON ((447213.900 537036.104, 447228.798 53...  \n",
       "1   POLYGON ((448489.897 522071.798, 448592.597 52...  \n",
       "2   POLYGON ((455525.931 528406.654, 455724.632 52...  \n",
       "3   POLYGON ((444157.002 527956.304, 444165.898 52...  \n",
       "4   POLYGON ((423496.602 524724.299, 423497.204 52...  \n",
       "5   POLYGON ((351539.901 389475.203, 351630.102 38...  \n",
       "6   POLYGON ((367308.201 398265.497, 367315.399 39...  \n",
       "7   POLYGON ((369226.299 431801.198, 369234.000 43...  \n",
       "8   POLYGON ((332978.998 440832.003, 332985.900 44...  \n",
       "9   POLYGON ((510966.600 436533.003, 511217.497 43...  \n",
       "10  POLYGON ((505320.803 476615.800, 505341.498 47...  \n",
       "11  POLYGON ((519904.448 416457.807, 519911.209 41...  \n",
       "12  POLYGON ((497685.909 423059.001, 497815.279 42...  \n",
       "13  POLYGON ((464216.997 462110.902, 464266.203 46...  \n",
       "14  POLYGON ((434972.301 341311.800, 434986.301 34...  \n",
       "15  POLYGON ((457057.200 310757.296, 457090.502 31...  \n",
       "16  POLYGON ((493934.802 318917.900, 493958.597 31...  \n",
       "17  POLYGON ((454895.600 346916.296, 454878.096 34...  \n",
       "18  POLYGON ((342023.896 277833.500, 342103.601 27...  \n",
       "19  POLYGON ((371253.050 325634.098, 371253.001 32...  "
      ]
     },
     "execution_count": 18,
     "metadata": {},
     "output_type": "execute_result"
    }
   ],
   "source": [
    "gdf.head(20)"
   ]
  },
  {
   "cell_type": "code",
   "execution_count": 19,
   "id": "06068a5b-08db-4bf2-876c-ba052fcbf7b3",
   "metadata": {},
   "outputs": [],
   "source": [
    "merged = pd.merge(df, gdf, on = ['LA_code', 'LA_name'], how = 'left')"
   ]
  },
  {
   "cell_type": "code",
   "execution_count": 20,
   "id": "d4dd3128-8340-491e-99ba-768ddc9f8eda",
   "metadata": {},
   "outputs": [
    {
     "data": {
      "text/html": [
       "<div>\n",
       "<style scoped>\n",
       "    .dataframe tbody tr th:only-of-type {\n",
       "        vertical-align: middle;\n",
       "    }\n",
       "\n",
       "    .dataframe tbody tr th {\n",
       "        vertical-align: top;\n",
       "    }\n",
       "\n",
       "    .dataframe thead th {\n",
       "        text-align: right;\n",
       "    }\n",
       "</style>\n",
       "<table border=\"1\" class=\"dataframe\">\n",
       "  <thead>\n",
       "    <tr style=\"text-align: right;\">\n",
       "      <th></th>\n",
       "      <th>LA_code</th>\n",
       "      <th>LA_name</th>\n",
       "      <th>GI_code</th>\n",
       "      <th>GI_cat</th>\n",
       "      <th>Observation</th>\n",
       "      <th>Percentage</th>\n",
       "      <th>BNG_E</th>\n",
       "      <th>BNG_N</th>\n",
       "      <th>LONG</th>\n",
       "      <th>LAT</th>\n",
       "      <th>GlobalID</th>\n",
       "      <th>geometry</th>\n",
       "    </tr>\n",
       "  </thead>\n",
       "  <tbody>\n",
       "    <tr>\n",
       "      <th>0</th>\n",
       "      <td>E06000001</td>\n",
       "      <td>Hartlepool</td>\n",
       "      <td>1</td>\n",
       "      <td>Gender identity the same as sex</td>\n",
       "      <td>70588</td>\n",
       "      <td>94.51</td>\n",
       "      <td>447160</td>\n",
       "      <td>531474</td>\n",
       "      <td>-1.27018</td>\n",
       "      <td>54.6761</td>\n",
       "      <td>2efc9848-300e-4ef3-a36e-58d6856b9817</td>\n",
       "      <td>POLYGON ((447213.900 537036.104, 447228.798 53...</td>\n",
       "    </tr>\n",
       "    <tr>\n",
       "      <th>1</th>\n",
       "      <td>E06000001</td>\n",
       "      <td>Hartlepool</td>\n",
       "      <td>2</td>\n",
       "      <td>Gender identity different from sex</td>\n",
       "      <td>167</td>\n",
       "      <td>0.22</td>\n",
       "      <td>447160</td>\n",
       "      <td>531474</td>\n",
       "      <td>-1.27018</td>\n",
       "      <td>54.6761</td>\n",
       "      <td>2efc9848-300e-4ef3-a36e-58d6856b9817</td>\n",
       "      <td>POLYGON ((447213.900 537036.104, 447228.798 53...</td>\n",
       "    </tr>\n",
       "    <tr>\n",
       "      <th>2</th>\n",
       "      <td>E06000001</td>\n",
       "      <td>Hartlepool</td>\n",
       "      <td>3</td>\n",
       "      <td>Trans woman</td>\n",
       "      <td>49</td>\n",
       "      <td>0.07</td>\n",
       "      <td>447160</td>\n",
       "      <td>531474</td>\n",
       "      <td>-1.27018</td>\n",
       "      <td>54.6761</td>\n",
       "      <td>2efc9848-300e-4ef3-a36e-58d6856b9817</td>\n",
       "      <td>POLYGON ((447213.900 537036.104, 447228.798 53...</td>\n",
       "    </tr>\n",
       "    <tr>\n",
       "      <th>3</th>\n",
       "      <td>E06000001</td>\n",
       "      <td>Hartlepool</td>\n",
       "      <td>4</td>\n",
       "      <td>Trans man</td>\n",
       "      <td>51</td>\n",
       "      <td>0.07</td>\n",
       "      <td>447160</td>\n",
       "      <td>531474</td>\n",
       "      <td>-1.27018</td>\n",
       "      <td>54.6761</td>\n",
       "      <td>2efc9848-300e-4ef3-a36e-58d6856b9817</td>\n",
       "      <td>POLYGON ((447213.900 537036.104, 447228.798 53...</td>\n",
       "    </tr>\n",
       "    <tr>\n",
       "      <th>4</th>\n",
       "      <td>E06000001</td>\n",
       "      <td>Hartlepool</td>\n",
       "      <td>5</td>\n",
       "      <td>Non-binary</td>\n",
       "      <td>33</td>\n",
       "      <td>0.04</td>\n",
       "      <td>447160</td>\n",
       "      <td>531474</td>\n",
       "      <td>-1.27018</td>\n",
       "      <td>54.6761</td>\n",
       "      <td>2efc9848-300e-4ef3-a36e-58d6856b9817</td>\n",
       "      <td>POLYGON ((447213.900 537036.104, 447228.798 53...</td>\n",
       "    </tr>\n",
       "    <tr>\n",
       "      <th>5</th>\n",
       "      <td>E06000001</td>\n",
       "      <td>Hartlepool</td>\n",
       "      <td>6</td>\n",
       "      <td>All other gender identities</td>\n",
       "      <td>21</td>\n",
       "      <td>0.03</td>\n",
       "      <td>447160</td>\n",
       "      <td>531474</td>\n",
       "      <td>-1.27018</td>\n",
       "      <td>54.6761</td>\n",
       "      <td>2efc9848-300e-4ef3-a36e-58d6856b9817</td>\n",
       "      <td>POLYGON ((447213.900 537036.104, 447228.798 53...</td>\n",
       "    </tr>\n",
       "    <tr>\n",
       "      <th>6</th>\n",
       "      <td>E06000001</td>\n",
       "      <td>Hartlepool</td>\n",
       "      <td>7</td>\n",
       "      <td>Not answered</td>\n",
       "      <td>3777</td>\n",
       "      <td>5.06</td>\n",
       "      <td>447160</td>\n",
       "      <td>531474</td>\n",
       "      <td>-1.27018</td>\n",
       "      <td>54.6761</td>\n",
       "      <td>2efc9848-300e-4ef3-a36e-58d6856b9817</td>\n",
       "      <td>POLYGON ((447213.900 537036.104, 447228.798 53...</td>\n",
       "    </tr>\n",
       "    <tr>\n",
       "      <th>7</th>\n",
       "      <td>E06000002</td>\n",
       "      <td>Middlesbrough</td>\n",
       "      <td>1</td>\n",
       "      <td>Gender identity the same as sex</td>\n",
       "      <td>106009</td>\n",
       "      <td>93.04</td>\n",
       "      <td>451141</td>\n",
       "      <td>516887</td>\n",
       "      <td>-1.21099</td>\n",
       "      <td>54.5447</td>\n",
       "      <td>6d66b015-1f67-40f6-b239-15911fa03834</td>\n",
       "      <td>POLYGON ((448489.897 522071.798, 448592.597 52...</td>\n",
       "    </tr>\n",
       "    <tr>\n",
       "      <th>8</th>\n",
       "      <td>E06000002</td>\n",
       "      <td>Middlesbrough</td>\n",
       "      <td>2</td>\n",
       "      <td>Gender identity different from sex</td>\n",
       "      <td>496</td>\n",
       "      <td>0.44</td>\n",
       "      <td>451141</td>\n",
       "      <td>516887</td>\n",
       "      <td>-1.21099</td>\n",
       "      <td>54.5447</td>\n",
       "      <td>6d66b015-1f67-40f6-b239-15911fa03834</td>\n",
       "      <td>POLYGON ((448489.897 522071.798, 448592.597 52...</td>\n",
       "    </tr>\n",
       "    <tr>\n",
       "      <th>9</th>\n",
       "      <td>E06000002</td>\n",
       "      <td>Middlesbrough</td>\n",
       "      <td>3</td>\n",
       "      <td>Trans woman</td>\n",
       "      <td>141</td>\n",
       "      <td>0.12</td>\n",
       "      <td>451141</td>\n",
       "      <td>516887</td>\n",
       "      <td>-1.21099</td>\n",
       "      <td>54.5447</td>\n",
       "      <td>6d66b015-1f67-40f6-b239-15911fa03834</td>\n",
       "      <td>POLYGON ((448489.897 522071.798, 448592.597 52...</td>\n",
       "    </tr>\n",
       "  </tbody>\n",
       "</table>\n",
       "</div>"
      ],
      "text/plain": [
       "     LA_code        LA_name  GI_code                              GI_cat  \\\n",
       "0  E06000001     Hartlepool        1     Gender identity the same as sex   \n",
       "1  E06000001     Hartlepool        2  Gender identity different from sex   \n",
       "2  E06000001     Hartlepool        3                         Trans woman   \n",
       "3  E06000001     Hartlepool        4                           Trans man   \n",
       "4  E06000001     Hartlepool        5                          Non-binary   \n",
       "5  E06000001     Hartlepool        6         All other gender identities   \n",
       "6  E06000001     Hartlepool        7                        Not answered   \n",
       "7  E06000002  Middlesbrough        1     Gender identity the same as sex   \n",
       "8  E06000002  Middlesbrough        2  Gender identity different from sex   \n",
       "9  E06000002  Middlesbrough        3                         Trans woman   \n",
       "\n",
       "   Observation Percentage   BNG_E   BNG_N     LONG      LAT  \\\n",
       "0        70588      94.51  447160  531474 -1.27018  54.6761   \n",
       "1          167       0.22  447160  531474 -1.27018  54.6761   \n",
       "2           49       0.07  447160  531474 -1.27018  54.6761   \n",
       "3           51       0.07  447160  531474 -1.27018  54.6761   \n",
       "4           33       0.04  447160  531474 -1.27018  54.6761   \n",
       "5           21       0.03  447160  531474 -1.27018  54.6761   \n",
       "6         3777       5.06  447160  531474 -1.27018  54.6761   \n",
       "7       106009      93.04  451141  516887 -1.21099  54.5447   \n",
       "8          496       0.44  451141  516887 -1.21099  54.5447   \n",
       "9          141       0.12  451141  516887 -1.21099  54.5447   \n",
       "\n",
       "                               GlobalID  \\\n",
       "0  2efc9848-300e-4ef3-a36e-58d6856b9817   \n",
       "1  2efc9848-300e-4ef3-a36e-58d6856b9817   \n",
       "2  2efc9848-300e-4ef3-a36e-58d6856b9817   \n",
       "3  2efc9848-300e-4ef3-a36e-58d6856b9817   \n",
       "4  2efc9848-300e-4ef3-a36e-58d6856b9817   \n",
       "5  2efc9848-300e-4ef3-a36e-58d6856b9817   \n",
       "6  2efc9848-300e-4ef3-a36e-58d6856b9817   \n",
       "7  6d66b015-1f67-40f6-b239-15911fa03834   \n",
       "8  6d66b015-1f67-40f6-b239-15911fa03834   \n",
       "9  6d66b015-1f67-40f6-b239-15911fa03834   \n",
       "\n",
       "                                            geometry  \n",
       "0  POLYGON ((447213.900 537036.104, 447228.798 53...  \n",
       "1  POLYGON ((447213.900 537036.104, 447228.798 53...  \n",
       "2  POLYGON ((447213.900 537036.104, 447228.798 53...  \n",
       "3  POLYGON ((447213.900 537036.104, 447228.798 53...  \n",
       "4  POLYGON ((447213.900 537036.104, 447228.798 53...  \n",
       "5  POLYGON ((447213.900 537036.104, 447228.798 53...  \n",
       "6  POLYGON ((447213.900 537036.104, 447228.798 53...  \n",
       "7  POLYGON ((448489.897 522071.798, 448592.597 52...  \n",
       "8  POLYGON ((448489.897 522071.798, 448592.597 52...  \n",
       "9  POLYGON ((448489.897 522071.798, 448592.597 52...  "
      ]
     },
     "execution_count": 20,
     "metadata": {},
     "output_type": "execute_result"
    }
   ],
   "source": [
    "merged.head(10)"
   ]
  },
  {
   "cell_type": "code",
   "execution_count": 21,
   "id": "dd599819-f153-446a-9d3b-2e81c3a973f2",
   "metadata": {},
   "outputs": [],
   "source": [
    "tm = merged[merged.GI_cat == 'Trans man']"
   ]
  },
  {
   "cell_type": "code",
   "execution_count": 22,
   "id": "34030113-06df-4a9d-8018-663b87c5c4ff",
   "metadata": {},
   "outputs": [
    {
     "data": {
      "text/plain": [
       "(331, 12)"
      ]
     },
     "execution_count": 22,
     "metadata": {},
     "output_type": "execute_result"
    }
   ],
   "source": [
    "tm.shape"
   ]
  },
  {
   "cell_type": "code",
   "execution_count": 23,
   "id": "45b0d2db-6c51-4876-8707-b59e72baa05b",
   "metadata": {},
   "outputs": [
    {
     "data": {
      "text/html": [
       "<div>\n",
       "<style scoped>\n",
       "    .dataframe tbody tr th:only-of-type {\n",
       "        vertical-align: middle;\n",
       "    }\n",
       "\n",
       "    .dataframe tbody tr th {\n",
       "        vertical-align: top;\n",
       "    }\n",
       "\n",
       "    .dataframe thead th {\n",
       "        text-align: right;\n",
       "    }\n",
       "</style>\n",
       "<table border=\"1\" class=\"dataframe\">\n",
       "  <thead>\n",
       "    <tr style=\"text-align: right;\">\n",
       "      <th></th>\n",
       "      <th>LA_code</th>\n",
       "      <th>LA_name</th>\n",
       "      <th>GI_code</th>\n",
       "      <th>GI_cat</th>\n",
       "      <th>Observation</th>\n",
       "      <th>Percentage</th>\n",
       "      <th>BNG_E</th>\n",
       "      <th>BNG_N</th>\n",
       "      <th>LONG</th>\n",
       "      <th>LAT</th>\n",
       "      <th>GlobalID</th>\n",
       "      <th>geometry</th>\n",
       "    </tr>\n",
       "  </thead>\n",
       "  <tbody>\n",
       "    <tr>\n",
       "      <th>3</th>\n",
       "      <td>E06000001</td>\n",
       "      <td>Hartlepool</td>\n",
       "      <td>4</td>\n",
       "      <td>Trans man</td>\n",
       "      <td>51</td>\n",
       "      <td>0.07</td>\n",
       "      <td>447160</td>\n",
       "      <td>531474</td>\n",
       "      <td>-1.27018</td>\n",
       "      <td>54.6761</td>\n",
       "      <td>2efc9848-300e-4ef3-a36e-58d6856b9817</td>\n",
       "      <td>POLYGON ((447213.900 537036.104, 447228.798 53...</td>\n",
       "    </tr>\n",
       "    <tr>\n",
       "      <th>10</th>\n",
       "      <td>E06000002</td>\n",
       "      <td>Middlesbrough</td>\n",
       "      <td>4</td>\n",
       "      <td>Trans man</td>\n",
       "      <td>174</td>\n",
       "      <td>0.15</td>\n",
       "      <td>451141</td>\n",
       "      <td>516887</td>\n",
       "      <td>-1.21099</td>\n",
       "      <td>54.5447</td>\n",
       "      <td>6d66b015-1f67-40f6-b239-15911fa03834</td>\n",
       "      <td>POLYGON ((448489.897 522071.798, 448592.597 52...</td>\n",
       "    </tr>\n",
       "    <tr>\n",
       "      <th>17</th>\n",
       "      <td>E06000003</td>\n",
       "      <td>Redcar and Cleveland</td>\n",
       "      <td>4</td>\n",
       "      <td>Trans man</td>\n",
       "      <td>98</td>\n",
       "      <td>0.09</td>\n",
       "      <td>464361</td>\n",
       "      <td>519597</td>\n",
       "      <td>-1.00608</td>\n",
       "      <td>54.5675</td>\n",
       "      <td>a5a6513f-916e-4769-bed2-cd019d18719a</td>\n",
       "      <td>POLYGON ((455525.931 528406.654, 455724.632 52...</td>\n",
       "    </tr>\n",
       "    <tr>\n",
       "      <th>24</th>\n",
       "      <td>E06000004</td>\n",
       "      <td>Stockton-on-Tees</td>\n",
       "      <td>4</td>\n",
       "      <td>Trans man</td>\n",
       "      <td>122</td>\n",
       "      <td>0.08</td>\n",
       "      <td>444940</td>\n",
       "      <td>518183</td>\n",
       "      <td>-1.30664</td>\n",
       "      <td>54.5569</td>\n",
       "      <td>14e8450b-7e7c-479a-a335-095ac2d9a701</td>\n",
       "      <td>POLYGON ((444157.002 527956.304, 444165.898 52...</td>\n",
       "    </tr>\n",
       "    <tr>\n",
       "      <th>31</th>\n",
       "      <td>E06000005</td>\n",
       "      <td>Darlington</td>\n",
       "      <td>4</td>\n",
       "      <td>Trans man</td>\n",
       "      <td>71</td>\n",
       "      <td>0.08</td>\n",
       "      <td>428029</td>\n",
       "      <td>515648</td>\n",
       "      <td>-1.56835</td>\n",
       "      <td>54.5353</td>\n",
       "      <td>2f212ecf-daf5-4171-b9c6-825c0d33e5af</td>\n",
       "      <td>POLYGON ((423496.602 524724.299, 423497.204 52...</td>\n",
       "    </tr>\n",
       "    <tr>\n",
       "      <th>...</th>\n",
       "      <td>...</td>\n",
       "      <td>...</td>\n",
       "      <td>...</td>\n",
       "      <td>...</td>\n",
       "      <td>...</td>\n",
       "      <td>...</td>\n",
       "      <td>...</td>\n",
       "      <td>...</td>\n",
       "      <td>...</td>\n",
       "      <td>...</td>\n",
       "      <td>...</td>\n",
       "      <td>...</td>\n",
       "    </tr>\n",
       "    <tr>\n",
       "      <th>2285</th>\n",
       "      <td>W06000020</td>\n",
       "      <td>Torfaen</td>\n",
       "      <td>4</td>\n",
       "      <td>Trans man</td>\n",
       "      <td>51</td>\n",
       "      <td>0.07</td>\n",
       "      <td>327459</td>\n",
       "      <td>200480</td>\n",
       "      <td>-3.05101</td>\n",
       "      <td>51.6984</td>\n",
       "      <td>a9bfd875-581d-4b13-a88c-0be157037504</td>\n",
       "      <td>POLYGON ((323898.201 211287.499, 324115.698 21...</td>\n",
       "    </tr>\n",
       "    <tr>\n",
       "      <th>2292</th>\n",
       "      <td>W06000021</td>\n",
       "      <td>Monmouthshire</td>\n",
       "      <td>4</td>\n",
       "      <td>Trans man</td>\n",
       "      <td>32</td>\n",
       "      <td>0.04</td>\n",
       "      <td>337812</td>\n",
       "      <td>209231</td>\n",
       "      <td>-2.90280</td>\n",
       "      <td>51.7783</td>\n",
       "      <td>856d4586-ee01-46c6-8030-155676e72ec8</td>\n",
       "      <td>MULTIPOLYGON (((345965.201 181030.700, 345944....</td>\n",
       "    </tr>\n",
       "    <tr>\n",
       "      <th>2299</th>\n",
       "      <td>W06000022</td>\n",
       "      <td>Newport</td>\n",
       "      <td>4</td>\n",
       "      <td>Trans man</td>\n",
       "      <td>130</td>\n",
       "      <td>0.1</td>\n",
       "      <td>337897</td>\n",
       "      <td>187432</td>\n",
       "      <td>-2.89769</td>\n",
       "      <td>51.5823</td>\n",
       "      <td>9ded1cac-b393-4732-a068-4fbe1e8881cc</td>\n",
       "      <td>POLYGON ((342211.900 194845.495, 342221.803 19...</td>\n",
       "    </tr>\n",
       "    <tr>\n",
       "      <th>2306</th>\n",
       "      <td>W06000023</td>\n",
       "      <td>Powys</td>\n",
       "      <td>4</td>\n",
       "      <td>Trans man</td>\n",
       "      <td>54</td>\n",
       "      <td>0.05</td>\n",
       "      <td>302329</td>\n",
       "      <td>273255</td>\n",
       "      <td>-3.43531</td>\n",
       "      <td>52.3486</td>\n",
       "      <td>82c92ce3-674b-41dc-8702-31072fa0fc10</td>\n",
       "      <td>POLYGON ((322392.901 334017.198, 322378.002 33...</td>\n",
       "    </tr>\n",
       "    <tr>\n",
       "      <th>2313</th>\n",
       "      <td>W06000024</td>\n",
       "      <td>Merthyr Tydfil</td>\n",
       "      <td>4</td>\n",
       "      <td>Trans man</td>\n",
       "      <td>34</td>\n",
       "      <td>0.07</td>\n",
       "      <td>305916</td>\n",
       "      <td>206424</td>\n",
       "      <td>-3.36425</td>\n",
       "      <td>51.7486</td>\n",
       "      <td>0c604196-e06d-4644-8fa0-cf983deefc3f</td>\n",
       "      <td>POLYGON ((303435.502 214925.598, 303431.602 21...</td>\n",
       "    </tr>\n",
       "  </tbody>\n",
       "</table>\n",
       "<p>331 rows × 12 columns</p>\n",
       "</div>"
      ],
      "text/plain": [
       "        LA_code               LA_name  GI_code     GI_cat  Observation  \\\n",
       "3     E06000001            Hartlepool        4  Trans man           51   \n",
       "10    E06000002         Middlesbrough        4  Trans man          174   \n",
       "17    E06000003  Redcar and Cleveland        4  Trans man           98   \n",
       "24    E06000004      Stockton-on-Tees        4  Trans man          122   \n",
       "31    E06000005            Darlington        4  Trans man           71   \n",
       "...         ...                   ...      ...        ...          ...   \n",
       "2285  W06000020               Torfaen        4  Trans man           51   \n",
       "2292  W06000021         Monmouthshire        4  Trans man           32   \n",
       "2299  W06000022               Newport        4  Trans man          130   \n",
       "2306  W06000023                 Powys        4  Trans man           54   \n",
       "2313  W06000024        Merthyr Tydfil        4  Trans man           34   \n",
       "\n",
       "     Percentage   BNG_E   BNG_N     LONG      LAT  \\\n",
       "3          0.07  447160  531474 -1.27018  54.6761   \n",
       "10         0.15  451141  516887 -1.21099  54.5447   \n",
       "17         0.09  464361  519597 -1.00608  54.5675   \n",
       "24         0.08  444940  518183 -1.30664  54.5569   \n",
       "31         0.08  428029  515648 -1.56835  54.5353   \n",
       "...         ...     ...     ...      ...      ...   \n",
       "2285       0.07  327459  200480 -3.05101  51.6984   \n",
       "2292       0.04  337812  209231 -2.90280  51.7783   \n",
       "2299        0.1  337897  187432 -2.89769  51.5823   \n",
       "2306       0.05  302329  273255 -3.43531  52.3486   \n",
       "2313       0.07  305916  206424 -3.36425  51.7486   \n",
       "\n",
       "                                  GlobalID  \\\n",
       "3     2efc9848-300e-4ef3-a36e-58d6856b9817   \n",
       "10    6d66b015-1f67-40f6-b239-15911fa03834   \n",
       "17    a5a6513f-916e-4769-bed2-cd019d18719a   \n",
       "24    14e8450b-7e7c-479a-a335-095ac2d9a701   \n",
       "31    2f212ecf-daf5-4171-b9c6-825c0d33e5af   \n",
       "...                                    ...   \n",
       "2285  a9bfd875-581d-4b13-a88c-0be157037504   \n",
       "2292  856d4586-ee01-46c6-8030-155676e72ec8   \n",
       "2299  9ded1cac-b393-4732-a068-4fbe1e8881cc   \n",
       "2306  82c92ce3-674b-41dc-8702-31072fa0fc10   \n",
       "2313  0c604196-e06d-4644-8fa0-cf983deefc3f   \n",
       "\n",
       "                                               geometry  \n",
       "3     POLYGON ((447213.900 537036.104, 447228.798 53...  \n",
       "10    POLYGON ((448489.897 522071.798, 448592.597 52...  \n",
       "17    POLYGON ((455525.931 528406.654, 455724.632 52...  \n",
       "24    POLYGON ((444157.002 527956.304, 444165.898 52...  \n",
       "31    POLYGON ((423496.602 524724.299, 423497.204 52...  \n",
       "...                                                 ...  \n",
       "2285  POLYGON ((323898.201 211287.499, 324115.698 21...  \n",
       "2292  MULTIPOLYGON (((345965.201 181030.700, 345944....  \n",
       "2299  POLYGON ((342211.900 194845.495, 342221.803 19...  \n",
       "2306  POLYGON ((322392.901 334017.198, 322378.002 33...  \n",
       "2313  POLYGON ((303435.502 214925.598, 303431.602 21...  \n",
       "\n",
       "[331 rows x 12 columns]"
      ]
     },
     "execution_count": 23,
     "metadata": {},
     "output_type": "execute_result"
    }
   ],
   "source": [
    "tm"
   ]
  },
  {
   "cell_type": "code",
   "execution_count": 31,
   "id": "d166ac27-dd50-4c39-a4dc-baf89e8ca274",
   "metadata": {},
   "outputs": [
    {
     "data": {
      "text/html": [
       "<div>\n",
       "<style scoped>\n",
       "    .dataframe tbody tr th:only-of-type {\n",
       "        vertical-align: middle;\n",
       "    }\n",
       "\n",
       "    .dataframe tbody tr th {\n",
       "        vertical-align: top;\n",
       "    }\n",
       "\n",
       "    .dataframe thead th {\n",
       "        text-align: right;\n",
       "    }\n",
       "</style>\n",
       "<table border=\"1\" class=\"dataframe\">\n",
       "  <thead>\n",
       "    <tr style=\"text-align: right;\">\n",
       "      <th></th>\n",
       "      <th>LA_code</th>\n",
       "      <th>LA_name</th>\n",
       "      <th>GI_code</th>\n",
       "      <th>GI_cat</th>\n",
       "      <th>Observation</th>\n",
       "      <th>Percentage</th>\n",
       "      <th>geometry</th>\n",
       "    </tr>\n",
       "  </thead>\n",
       "  <tbody>\n",
       "    <tr>\n",
       "      <th>3</th>\n",
       "      <td>E06000001</td>\n",
       "      <td>Hartlepool</td>\n",
       "      <td>4</td>\n",
       "      <td>Trans man</td>\n",
       "      <td>51</td>\n",
       "      <td>0.07</td>\n",
       "      <td>POLYGON ((447213.900 537036.104, 447233.696 53...</td>\n",
       "    </tr>\n",
       "    <tr>\n",
       "      <th>10</th>\n",
       "      <td>E06000002</td>\n",
       "      <td>Middlesbrough</td>\n",
       "      <td>4</td>\n",
       "      <td>Trans man</td>\n",
       "      <td>174</td>\n",
       "      <td>0.15</td>\n",
       "      <td>POLYGON ((448489.897 522071.798, 448609.401 52...</td>\n",
       "    </tr>\n",
       "    <tr>\n",
       "      <th>17</th>\n",
       "      <td>E06000003</td>\n",
       "      <td>Redcar and Cleveland</td>\n",
       "      <td>4</td>\n",
       "      <td>Trans man</td>\n",
       "      <td>98</td>\n",
       "      <td>0.09</td>\n",
       "      <td>POLYGON ((455525.931 528406.654, 455724.632 52...</td>\n",
       "    </tr>\n",
       "  </tbody>\n",
       "</table>\n",
       "</div>"
      ],
      "text/plain": [
       "      LA_code               LA_name  GI_code     GI_cat  Observation  \\\n",
       "3   E06000001            Hartlepool        4  Trans man           51   \n",
       "10  E06000002         Middlesbrough        4  Trans man          174   \n",
       "17  E06000003  Redcar and Cleveland        4  Trans man           98   \n",
       "\n",
       "    Percentage                                           geometry  \n",
       "3         0.07  POLYGON ((447213.900 537036.104, 447233.696 53...  \n",
       "10        0.15  POLYGON ((448489.897 522071.798, 448609.401 52...  \n",
       "17        0.09  POLYGON ((455525.931 528406.654, 455724.632 52...  "
      ]
     },
     "execution_count": 31,
     "metadata": {},
     "output_type": "execute_result"
    }
   ],
   "source": [
    "tm[:3]"
   ]
  },
  {
   "cell_type": "code",
   "execution_count": 32,
   "id": "c544a6ea-f3a8-4a12-8762-d881af611b75",
   "metadata": {},
   "outputs": [],
   "source": [
    "tm = tm[:3]"
   ]
  },
  {
   "cell_type": "code",
   "execution_count": 33,
   "id": "9f5e2275-7862-4dde-95b6-e2369c8b37de",
   "metadata": {},
   "outputs": [],
   "source": [
    "tm = gpd.GeoDataFrame(tm, geometry='geometry')"
   ]
  },
  {
   "cell_type": "code",
   "execution_count": 35,
   "id": "c7777e67-e24d-4d74-ae8c-97bc819d3928",
   "metadata": {},
   "outputs": [
    {
     "name": "stdout",
     "output_type": "stream",
     "text": [
      "Size of GeoJSON: 72216 bytes\n"
     ]
    }
   ],
   "source": [
    "import plotly.express as px\n",
    "import json\n",
    "# Drop unnecessary columns\n",
    "# tm = tm.drop(['BNG_E', 'BNG_N', 'LONG', 'LAT', 'GlobalID'], axis=1)\n",
    "\n",
    "# Simplify the geometries\n",
    "tm['geometry'] = tm.geometry.simplify(tolerance=10, preserve_topology=True)\n",
    "\n",
    "# Convert to GeoJSON and inspect the size and contents\n",
    "geojson = tm.geometry.to_json()\n",
    "print(f\"Size of GeoJSON: {len(geojson)} bytes\")\n",
    "\n",
    "# Write GeoJSON to a file to inspect its contents\n",
    "with open('geometry.geojson', 'w') as f:\n",
    "    f.write(geojson)"
   ]
  },
  {
   "cell_type": "code",
   "execution_count": 36,
   "id": "5fc52827-740c-4b21-99d7-1105c2036755",
   "metadata": {},
   "outputs": [],
   "source": [
    "tm['Percentage'] = pd.to_numeric(tm['Percentage'])"
   ]
  },
  {
   "cell_type": "code",
   "execution_count": 37,
   "id": "40984b16-ad20-4862-b1a6-c0107ce15575",
   "metadata": {},
   "outputs": [
    {
     "data": {
      "text/plain": [
       "Index([3, 10, 17], dtype='int64')"
      ]
     },
     "execution_count": 37,
     "metadata": {},
     "output_type": "execute_result"
    }
   ],
   "source": [
    "tm.index"
   ]
  },
  {
   "cell_type": "code",
   "execution_count": 39,
   "id": "10314ff5-ed73-4e58-838b-8e7520866d57",
   "metadata": {},
   "outputs": [],
   "source": [
    "tm.reset_index(inplace=True)"
   ]
  },
  {
   "cell_type": "code",
   "execution_count": 40,
   "id": "97a1d2f7-e899-4ffe-b27c-505dac977615",
   "metadata": {},
   "outputs": [
    {
     "data": {
      "text/html": [
       "<div>\n",
       "<style scoped>\n",
       "    .dataframe tbody tr th:only-of-type {\n",
       "        vertical-align: middle;\n",
       "    }\n",
       "\n",
       "    .dataframe tbody tr th {\n",
       "        vertical-align: top;\n",
       "    }\n",
       "\n",
       "    .dataframe thead th {\n",
       "        text-align: right;\n",
       "    }\n",
       "</style>\n",
       "<table border=\"1\" class=\"dataframe\">\n",
       "  <thead>\n",
       "    <tr style=\"text-align: right;\">\n",
       "      <th></th>\n",
       "      <th>index</th>\n",
       "      <th>LA_code</th>\n",
       "      <th>LA_name</th>\n",
       "      <th>GI_code</th>\n",
       "      <th>GI_cat</th>\n",
       "      <th>Observation</th>\n",
       "      <th>Percentage</th>\n",
       "      <th>geometry</th>\n",
       "    </tr>\n",
       "  </thead>\n",
       "  <tbody>\n",
       "    <tr>\n",
       "      <th>0</th>\n",
       "      <td>3</td>\n",
       "      <td>E06000001</td>\n",
       "      <td>Hartlepool</td>\n",
       "      <td>4</td>\n",
       "      <td>Trans man</td>\n",
       "      <td>51</td>\n",
       "      <td>0.07</td>\n",
       "      <td>POLYGON ((447213.900 537036.104, 447233.696 53...</td>\n",
       "    </tr>\n",
       "    <tr>\n",
       "      <th>1</th>\n",
       "      <td>10</td>\n",
       "      <td>E06000002</td>\n",
       "      <td>Middlesbrough</td>\n",
       "      <td>4</td>\n",
       "      <td>Trans man</td>\n",
       "      <td>174</td>\n",
       "      <td>0.15</td>\n",
       "      <td>POLYGON ((448489.897 522071.798, 448609.401 52...</td>\n",
       "    </tr>\n",
       "    <tr>\n",
       "      <th>2</th>\n",
       "      <td>17</td>\n",
       "      <td>E06000003</td>\n",
       "      <td>Redcar and Cleveland</td>\n",
       "      <td>4</td>\n",
       "      <td>Trans man</td>\n",
       "      <td>98</td>\n",
       "      <td>0.09</td>\n",
       "      <td>POLYGON ((455525.931 528406.654, 455724.632 52...</td>\n",
       "    </tr>\n",
       "  </tbody>\n",
       "</table>\n",
       "</div>"
      ],
      "text/plain": [
       "   index    LA_code               LA_name  GI_code     GI_cat  Observation  \\\n",
       "0      3  E06000001            Hartlepool        4  Trans man           51   \n",
       "1     10  E06000002         Middlesbrough        4  Trans man          174   \n",
       "2     17  E06000003  Redcar and Cleveland        4  Trans man           98   \n",
       "\n",
       "   Percentage                                           geometry  \n",
       "0        0.07  POLYGON ((447213.900 537036.104, 447233.696 53...  \n",
       "1        0.15  POLYGON ((448489.897 522071.798, 448609.401 52...  \n",
       "2        0.09  POLYGON ((455525.931 528406.654, 455724.632 52...  "
      ]
     },
     "execution_count": 40,
     "metadata": {},
     "output_type": "execute_result"
    }
   ],
   "source": []
  },
  {
   "cell_type": "code",
   "execution_count": 44,
   "id": "0b1c7f08-1032-46e3-aeee-61f1e8713228",
   "metadata": {},
   "outputs": [
    {
     "data": {
      "application/vnd.plotly.v1+json": {
       "config": {
        "plotlyServerURL": "https://plot.ly"
       },
       "data": [
        {
         "coloraxis": "coloraxis",
         "geo": "geo",
         "geojson": "{\"type\": \"FeatureCollection\", \"features\": [{\"id\": \"3\", \"type\": \"Feature\", \"properties\": {}, \"geometry\": {\"type\": \"Polygon\", \"coordinates\": [[[447213.8995000003, 537036.1044999994], [447233.6958999997, 537035.1046999991], [447259.09889999963, 537108.8036000002], [447280.70100000035, 537120.1004000008], [447378.0998999998, 537095.0976], [447455.29839999974, 537023.6980000008], [447491.4035, 537028.7964999992], [447519.50270000007, 537071.6042999998], [447550.49590000045, 537078.1023999993], [447629.3021999998, 537027.0969999991], [447721.5974000003, 536998.3953000009], [447851.20150000043, 537036.0044999998], [447834.20019999985, 536965.0047999993], [447923.7002999997, 536980.2005000003], [447977.79619999975, 536742.9984000009], [448059.19969999976, 536539.5965999998], [448168.7023, 536406.4046999998], [448290.10259999987, 536324.7981000002], [448488.39630000014, 536450.5021000002], [448560.5982999997, 536637.8983999994], [448677.8019000003, 536626.1018000003], [448740.7034, 536600.5990999993], [448793.10080000013, 536547.8041999992], [449072.9923999999, 536806.4272000007], [449208.1900000004, 536702.6099999994], [449299.2999999998, 536659.2300000004], [449353.46999999974, 536590.5999999996], [449426.9199999999, 536549.8300000001], [449475.11000000034, 536467.9199999999], [449657.9000000004, 536303.5700000003], [449721.98000000045, 536203.6500000004], [449888.76999999955, 536032.9900000002], [450089.9500000002, 535922.25], [450272.5, 535780.25], [450367.7000000002, 535756.0], [450383.2000000002, 535778.1500000004], [450402.2000000002, 535754.3000000007], [450509.9000000004, 535706.9000000004], [450568.5999999996, 535615.6999999993], [450701.9500000002, 535569.9499999993], [450925.0499999998, 535372.8000000007], [450969.4000000004, 535357.4000000004], [450982.7999999998, 535313.0500000007], [451097.0999999996, 535255.6999999993], [451165.2999999998, 535165.0999999996], [451239.0, 535140.0], [451317.9000000004, 535082.0999999996], [451333.4000000004, 535084.5999999996], [451303.0999999996, 535126.0999999996], [451348.7000000002, 535122.1999999993], [451496.9000000004, 535061.1999999993], [451627.4500000002, 534933.5], [451697.75, 534891.6999999993], [451830.25, 534844.4499999993], [451941.0499999998, 534776.4000000004], [451973.7000000002, 534810.1999999993], [451946.9500000002, 534850.0], [451955.1500000004, 534862.5999999996], [451983.5499999998, 534859.5], [451996.0999999996, 534812.8000000007], [452021.8499999996, 534806.9499999993], [452064.5, 534751.75], [452098.7000000002, 534780.25], [452095.5999999996, 534801.0500000007], [452125.7000000002, 534780.3000000007], [452126.5, 534761.6999999993], [452110.1500000004, 534757.0], [452201.7999999998, 534766.0500000007], [452203.7000000002, 534745.0500000007], [452181.4500000002, 534722.5500000007], [452214.5999999996, 534720.4499999993], [452220.5499999998, 534688.5999999996], [452207.7999999998, 534680.0], [452222.9500000002, 534680.4499999993], [452207.2999999998, 534673.9000000004], [452202.5999999996, 534630.1500000004], [452250.7000000002, 534618.75], [452235.25, 534590.6500000004], [452284.5999999996, 534609.6500000004], [452255.2999999998, 534570.5999999996], [452327.25, 534584.3000000007], [452368.4500000002, 534618.9000000004], [452356.2000000002, 534589.6500000004], [452374.4500000002, 534604.4000000004], [452394.1500000004, 534647.0500000007], [452391.7000000002, 534714.0500000007], [452414.6500000004, 534751.75], [452486.0, 534743.8000000007], [452493.75, 534730.4499999993], [452478.5499999998, 534712.5], [452500.9000000004, 534724.1999999993], [452502.4500000002, 534691.9000000004], [452554.7000000002, 534670.1500000004], [452532.0499999998, 534656.9499999993], [452496.2999999998, 534684.4000000004], [452498.2000000002, 534645.5999999996], [452528.0999999996, 534656.6999999993], [452567.4500000002, 534625.1999999993], [452562.2000000002, 534613.0999999996], [452548.1500000004, 534619.75], [452545.1500000004, 534600.4499999993], [452541.25, 534623.4499999993], [452525.4500000002, 534616.8499999996], [452535.5, 534577.5], [452513.9000000004, 534543.8000000007], [452528.0, 534537.9499999993], [452550.6500000004, 534572.3499999996], [452573.9000000004, 534578.1999999993], [452580.6500000004, 534510.5500000007], [452567.25, 534488.0999999996], [452585.25, 534492.8000000007], [452610.5999999996, 534428.1500000004], [452637.4000000004, 534437.1500000004], [452657.3200000003, 534405.1899999995], [452680.0999999996, 534402.8000000007], [452672.75, 534471.1999999993], [452689.2000000002, 534483.3499999996], [452713.75, 534457.0999999996], [452711.7999999998, 534493.4499999993], [452740.0700000003, 534476.1999999993], [452731.5, 534459.9000000004], [452781.6500000004, 534469.0999999996], [452842.1500000004, 534506.4499999993], [452868.6500000004, 534473.75], [452853.5999999996, 534562.8000000007], [452867.5, 534567.3499999996], [452891.75, 534509.0], [452875.4000000004, 534448.6999999993], [452908.4000000004, 534467.25], [452909.2000000002, 534440.9000000004], [452927.16810000036, 534463.9554999992], [452912.4500000002, 534428.0999999996], [452870.3499999996, 534410.0500000007], [452877.5499999998, 534371.75], [452892.75, 534370.5999999996], [452903.7999999998, 534392.0500000007], [452953.9500000002, 534392.1999999993], [452948.9500000002, 534358.6500000004], [452970.7999999998, 534344.3499999996], [452957.0499999998, 534342.6999999993], [452968.4000000004, 534313.8499999996], [452998.8499999996, 534289.4499999993], [453019.5499999998, 534316.4499999993], [453044.0499999998, 534310.6999999993], [453009.9500000002, 534278.3499999996], [453043.4000000004, 534262.75], [453061.25, 534325.1500000004], [453088.5, 534340.8499999996], [453112.0999999996, 534325.8000000007], [453096.9000000004, 534284.0500000007], [453130.7999999998, 534244.0], [453083.7000000002, 534273.6999999993], [453069.0, 534244.9000000004], [453099.7249999996, 534214.0], [453133.5999999996, 534242.6999999993], [453140.7999999998, 534220.3499999996], [453058.7999999998, 534183.1999999993], [453104.2000000002, 534166.4000000004], [453103.0499999998, 534140.5], [453141.8499999996, 534116.1999999993], [453131.7999999998, 534103.5], [453147.4000000004, 534045.1999999993], [453211.0, 534008.5999999996], [453211.2000000002, 533994.9499999993], [453255.25, 533991.1999999993], [453257.3499999996, 533945.0], [453277.5, 533931.5999999996], [453250.4000000004, 533893.4000000004], [453295.0999999996, 533882.4000000004], [453262.6500000004, 533857.5999999996], [453303.5499999998, 533783.4000000004], [453288.0499999998, 533779.6999999993], [453290.5, 533750.1500000004], [453258.0499999998, 533755.1999999993], [453288.7000000002, 533726.4499999993], [453247.5999999996, 533698.4000000004], [453242.4500000002, 533683.8000000007], [453258.0999999996, 533681.1500000004], [453235.2999999998, 533670.8499999996], [453261.5999999996, 533666.4499999993], [453260.8499999996, 533651.8000000007], [453238.7999999998, 533653.5500000007], [453253.1500000004, 533637.3000000007], [453229.4500000002, 533639.4499999993], [453246.25, 533626.3000000007], [453236.4500000002, 533593.75], [453271.25, 533576.0500000007], [453263.2999999998, 533556.0500000007], [453234.0, 533546.9000000004], [453240.2000000002, 533532.3499999996], [453221.9000000004, 533531.1999999993], [453223.75, 533510.0500000007], [453238.9000000004, 533509.1500000004], [453248.5259999996, 533453.5299999993], [453351.9500000002, 533292.8499999996], [453342.2000000002, 533286.6999999993], [453179.11000000034, 533522.5600000005], [453140.53000000026, 533538.1199999992], [453070.0499999998, 533523.3000000007], [453073.38999999966, 533501.8300000001], [453033.1299999999, 533458.2200000007], [453039.6299999999, 533444.1699999999], [453070.71999999974, 533441.0], [453055.58999999985, 533393.8200000003], [453031.03000000026, 533415.0600000005], [452991.5, 533393.8000000007], [452917.8700000001, 533416.5500000007], [452836.45999999996, 533405.3200000003], [452771.36000000034, 533429.6799999997], [452741.01999999955, 533467.0999999996], [452753.0599999996, 533479.9299999997], [452646.78000000026, 533432.5], [452443.65479999967, 533454.6295999996], [452424.2000000002, 533428.6199999992], [452379.26999999955, 533443.6699999999], [452181.78000000026, 533359.3499999996], [452089.66000000015, 533255.5099999998], [452059.9900000002, 533184.3399999999], [452018.2400000002, 533147.9199999999], [452145.07239999995, 532908.2554000001], [452113.69039999973, 532849.8329000007], [452056.36199999973, 532825.4019000009], [452034.2000000002, 532752.5], [451958.5499999998, 532652.4000000004], [451898.5, 532611.4499999993], [451800.4299999997, 532578.7599999998], [451789.1500000004, 532334.0], [451831.3300000001, 532210.5899999999], [451832.3200000003, 532135.9399999995], [451892.0599999996, 531874.8100000005], [451989.4000000004, 531732.8000000007], [452048.7000000002, 531577.5], [452291.2000000002, 531294.5500000007], [452287.0999999996, 531262.8000000007], [452243.5499999998, 531277.4499999993], [452246.8499999996, 531259.0500000007], [452302.4500000002, 531223.75], [452329.25, 531235.75], [452433.75, 531196.9000000004], [452481.6500000004, 531134.4499999993], [452489.0499999998, 531089.0999999996], [452471.9000000004, 531019.25], [452519.5, 530761.0], [452528.7000000002, 530745.6999999993], [452581.0, 530773.3000000007], [452569.5999999996, 530743.5999999996], [452606.5999999996, 530738.8000000007], [452578.4000000004, 530704.4000000004], [452580.5999999996, 530681.5999999996], [452553.0999999996, 530675.1999999993], [452562.2999999998, 530646.9000000004], [452585.5999999996, 530654.9000000004], [452571.4000000004, 530635.5999999996], [452575.2000000002, 530571.3000000007], [452660.75, 530485.3000000007], [452713.6500000004, 530459.0], [452659.2999999998, 530452.8000000007], [452621.5499999998, 530467.8000000007], [452668.1500000004, 530347.3000000007], [452741.5, 530230.8000000007], [452741.8499999996, 530195.6500000004], [452715.8499999996, 530159.9499999993], [452773.9000000004, 530156.0], [452967.2999999998, 529811.1500000004], [452971.5499999998, 529713.8000000007], [452994.7999999998, 529721.9000000004], [453005.0999999996, 529680.5999999996], [453021.5999999996, 529674.1999999993], [453064.5999999996, 529700.1999999993], [453146.0, 529621.0999999996], [453169.5999999996, 529568.1999999993], [453146.0, 529558.1999999993], [453204.0, 529441.5999999996], [453386.2999999998, 529205.5999999996], [453470.0, 529143.5999999996], [453574.5, 529026.9000000004], [453891.0, 528767.3000000007], [454018.5, 528623.0], [454204.0, 528468.0], [454324.0999999996, 528441.8000000007], [454392.0999999996, 528481.9000000004], [454463.2764999997, 528458.2407000009], [455106.79760000017, 528430.1978999991], [455062.70299999975, 528342.7028999999], [454796.9977000002, 528152.1974], [454756.3990000002, 528100.3023000006], [454766.4992000004, 527948.7957000006], [454826.00380000006, 527615.3011000007], [454820.6032999996, 527435.7025000006], [454784.49810000043, 527286.8950999994], [454656.99650000036, 526950.1015000008], [454567.0016999999, 526768.3036000002], [454499.9034000002, 526669.7017999999], [454457.49899999984, 526363.7993999999], [454287.79920000024, 526366.7984999996], [454114.00150000025, 526396.1000999995], [453699.5965, 526551.9955000002], [453447.29760000017, 526616.1971000005], [453220.69859999977, 526597.4024999999], [453145.60259999987, 526619.2961999997], [453046.2991000004, 526618.5964000002], [452561.2008999996, 526590.0045999996], [452512.5963000003, 526561.9026999995], [452359.09800000023, 526408.8965000007], [452297.2023, 526275.6045999993], [452358.19930000044, 526179.3022000007], [452351.99899999984, 526107.1028000005], [452101.9014999997, 525815.6963], [451916.0991000002, 525686.3033000007], [451741.0976999998, 525597.2988000009], [451515.90029999986, 525566.2977000009], [451260.09729999956, 525477.8029999994], [451148.50040000025, 525456.7990000006], [450927.40079999994, 525461.8975000009], [450807.699, 525600.0979999993], [450761.60089999996, 525626.5003999993], [450539.19859999977, 525583.7027000003], [450472.7022000002, 525604.9966000002], [450434.29669999983, 525657.6015000008], [450477.40189999994, 525766.0004999992], [450470.59970000014, 525807.7984999996], [450441.50289999973, 525835.9004999995], [450363.0016999999, 525817.1958000008], [450328.7022000002, 525781.9958999995], [450274.69710000046, 525674.9965000004], [450208.2006000001, 525663.0998999998], [450164.50179999974, 525723.1028000005], [450172.3016999997, 525816.6960000005], [450139.79959999956, 525855.9047999997], [450160.0990000004, 525875.2992000002], [450257.5968000004, 525882.6971000005], [450288.1035000002, 525903.8010000009], [450286.99870000035, 525937.6013999991], [450239.301, 525972.3014000002], [450156.80090000015, 525940.2006000001], [450103.8016999997, 525843.9981999993], [450082.19959999993, 525839.3994999994], [450058.80009999964, 525843.0984000005], [450051.8990000002, 525863.0026999991], [450069.5022, 525975.6005000006], [450016.50299999956, 526027.1956999991], [449966.19990000036, 526014.4993999992], [449885.59609999973, 525957.2957000006], [449874.20150000043, 525930.4034000002], [449881.39940000046, 525849.7964999992], [449865.1979, 525816.8958999999], [449812.89940000046, 525823.4041000009], [449819.3964999998, 525927.9041000009], [449798.5036000004, 525960.5047999993], [449766.9992000004, 525957.5955999997], [449708.8962000003, 525878.7982000001], [449677.8041000003, 525878.7982000001], [449659.69799999986, 525901.9015999995], [449644.70019999985, 526027.1956999991], [449591.8987999996, 526091.1974], [449602.7988, 526184.0008000005], [449570.70079999976, 526227.8982999995], [449537.3990000002, 526239.4049999993], [449494.2030999996, 526221.3002000004], [449429.0011, 526221.5000999998], [449237.8970999997, 526132.0956999995], [449238.90299999993, 526098.6952999998], [449284.3992999997, 526031.7043999992], [449334.3973000003, 525996.5044999998], [449342.7001, 525967.3028999995], [449253.1009999998, 525971.6016000006], [449221.70380000025, 525914.5979999993], [449150.4994999999, 525858.2040999997], [449128.60059999954, 525771.0989999995], [449004.29810000025, 525851.1961000003], [448925.3021, 525857.1043999996], [448786.00179999974, 525917.0972000007], [448685.0987999998, 525899.9022000004], [448630.3021, 525852.4956999999], [448557.8032999998, 525822.4043000005], [448472.85030000005, 525830.2020999994], [448450.09800000023, 525779.7964999992], [448396.2001, 525735.0993000008], [448362.0985000003, 525676.2961999997], [448256.1989000002, 525694.4010000005], [448181.0039999997, 525613.3041999992], [448112.0999999996, 525621.102], [448090.90189999994, 525608.7954999991], [448059.90050000045, 525630.6992000006], [448027.2006000001, 525693.1013999991], [448045.80150000006, 525689.3024000004], [448117.89630000014, 525862.3028999995], [447955.30370000005, 525952.1972000003], [447887.1995000001, 525745.6963], [447807.8985000001, 525752.0044999998], [447739.2006000001, 525779.5965999998], [447680.0011, 525746.5960000008], [447676.80200000014, 525725.4021000005], [447622.5990000004, 525707.5972000007], [447433.3995000003, 525690.2021999992], [447413.70210000034, 525737.8984999992], [447390.5005000001, 525745.2963999994], [447381.29899999965, 525903.2011999991], [447323.79789999966, 525857.2043999992], [447296.2017000001, 525939.1009], [447105.3037999999, 525820.4048999995], [447023.39740000013, 525880.3977000006], [446979.5996000003, 525891.6044999994], [446900.3975999998, 525984.4978999998], [446834.19799999986, 526030.2049000002], [446702.1037999997, 526082.6997999996], [446639.2023, 526128.1967999991], [446590.1029000003, 526138.0040000007], [446265.70100000035, 526092.8969], [446192.3035000004, 526069.3037], [446174.4034000002, 526127.9968999997], [445864.6035000002, 525990.9960999992], [445775.6969999997, 526185.5003999993], [445569.90029999986, 526096.6958000008], [445565.2006000001, 526112.3014000002], [445471.50370000023, 526091.4973000009], [445354.80310000014, 526096.0960000008], [445379.3981999997, 526381.6042999998], [445361.80319999997, 526706.4013], [445407.29949999973, 526898.1963999998], [445397.8010999998, 526934.3959999997], [445216.40160000045, 526966.8967000004], [445105.2993999999, 526958.5990999993], [444996.5965, 527059.7002000008], [444892.29640000034, 527066.1983000003], [444830.6975999996, 527088.9017999992], [444737.9983999999, 527234.5000999998], [444736.7039000001, 527285.6954999994], [444652.2002999997, 527354.3958], [444626.50040000025, 527400.2027000003], [444592.10199999996, 527416.6980000008], [444563.5987999998, 527459.5956999995], [444565.29729999974, 527494.5956999995], [444516.0990000004, 527522.6975999996], [444505.7019999996, 527557.9975000005], [444540.00150000025, 527547.2006000001], [444550.90139999986, 527562.2962999996], [444538.09690000024, 527632.1963], [444460.8984000003, 527669.8955000006], [444420.39859999996, 527715.1026000008], [444348.79849999957, 527749.1028000005], [444320.1963999998, 527791.8005999997], [444289.3021, 527806.5964000002], [444267.2960999999, 527850.8037], [444296.09609999973, 527878.8957000002], [444216.0036000004, 528004.8995999992], [444165.89829999954, 527955.9035999998], [444126.0993999997, 528005.7993999999], [444064.6984000001, 528000.5009000003], [443921.3992999997, 527962.9015999995], [443854.10309999995, 527924.3026999999], [443574.6037999997, 527983.9956], [443562.20320000034, 527912.9958999995], [443459.7006000001, 527909.7968000006], [443410.70019999985, 527859.9011000004], [443402.0016000001, 527805.6965999994], [443373.90249999985, 527758.9000000004], [443403.0981999999, 527256.0040000007], [443377.00260000024, 527027.8992999997], [443336.89859999996, 526924.1989999991], [443225.3016999997, 526721.9967999998], [443024.09750000015, 526445.3959999997], [443005.3976999996, 526449.1050000004], [442959.70359999966, 526622.3953000009], [442869.6015999997, 526825.3971999995], [442718.29640000034, 526990.4000000004], [442601.1010999996, 527039.8958], [442535.99810000043, 527035.9969999995], [442058.6997999996, 527269.4001000002], [441989.90299999993, 527264.1017000005], [441745.0, 527184.2045000009], [441611.801, 527217.0951000005], [441250.79920000024, 527462.9047999997], [441090.5976999998, 527631.4965000004], [440896.4018000001, 527777.6046999991], [440743.8021999998, 527799.7982999999], [440592.90110000037, 527789.8012000006], [440465.8035000004, 527803.4973000009], [440353.0027999999, 527766.9977000002], [440140.1978000002, 527748.9028999992], [440083.80150000006, 527773.0960000008], [440028.6997999996, 527860.9008000009], [439962.09619999956, 527857.8016999997], [439936.2973999996, 527871.8977000006], [439913.90380000044, 527956.4035], [439868.10250000004, 528028.6028000005], [439865.49710000027, 528076.8990000002], [440179.09800000023, 528072.6001999993], [440398.2022000002, 528120.0965999998], [440462.10140000004, 528117.2973999996], [440625.8978000004, 528204.3025000002], [440818.7993000001, 528260.0965999998], [440980.7982000001, 528376.3033000007], [440999.80310000014, 528375.3036000002], [441044.2028000001, 528332.2959000003], [441081.89919999987, 528330.3964000009], [441223.79669999983, 528414.1024999991], [441346.9036999997, 528422.3001000006], [441440.60059999954, 528449.8023000006], [441523.39749999996, 528351.3004999999], [441556.8970999997, 528342.0031000003], [441635.59619999956, 528361.9974000007], [441665.5011, 528321.7989000008], [441704.09619999956, 528355.6992000006], [441865.6004999997, 528398.2970000003], [441922.4007000001, 528397.7971000001], [442037.79860000033, 528353.8997000009], [442061.70100000035, 528367.6958000008], [442046.3981999997, 528595.1007000003], [442120.70270000026, 528612.0957999993], [442176.7030999996, 528583.1041000001], [442267.8027999997, 528599.7993000001], [442424.1492999997, 528596.7946000006], [442470.7185000004, 528560.5997000001], [442604.5970999999, 528543.3955000006], [442606.79849999957, 528633.2996999994], [442560.9972000001, 528764.2022999991], [442585.2971999999, 528894.6531000007], [442531.7104000002, 528972.4375], [442496.7419999996, 529059.1945999991], [442473.87229999993, 529072.6213000007], [442452.62569999974, 529136.6563000008], [442453.39910000004, 529267.6981000006], [442475.0011999998, 529356.4026999995], [442359.0014000004, 529459.9031000007], [442326.6973000001, 529441.4984000009], [442253.1019000001, 529463.5021000002], [442211.00260000024, 529455.9043000005], [442192.0965999998, 529471.1998999994], [442197.3981999997, 529497.9022000004], [442268.29750000034, 529550.5972000007], [442277.2022000002, 529587.6964999996], [442262.5011999998, 529627.9949999992], [442287.50019999966, 529641.4012000002], [442258.50239999965, 529710.7013000008], [442237.5022, 529704.4031000007], [442217.4007000001, 529729.1960000005], [442264.49650000036, 529755.2985999994], [442259.3021, 529797.0965999998], [442166.29789999966, 529897.9977000002], [442175.10360000003, 529920.0013999995], [442243.6035000002, 529963.5988999996], [442246.2997000003, 530078.1961000003], [442280.5991000002, 530127.2020999994], [442368.2028999999, 530165.8011000007], [442403.6979, 530206.4993999992], [442442.3013000004, 530204.3000000007], [442451.40380000044, 530275.7995999996], [442496.3970999997, 530278.2989000008], [442522.40199999977, 530312.2991000004], [442495.3004999999, 530373.2017000001], [442504.09800000023, 530433.0045999996], [442467.80319999997, 530472.7031999994], [442438.59920000006, 530590.4995000008], [442620.09779999964, 530607.1046999991], [442652.59979999997, 530665.0980999991], [442788.6020999998, 530699.7982000001], [442940.3030000003, 530893.6027000006], [443029.59700000007, 530885.8049999997], [443045.5016999999, 530941.7989000008], [443111.0005000001, 531045.4991999995], [443138.9017000003, 531119.6980000008], [443128.9994000001, 531142.1016000006], [443151.8959999997, 531233.3955000006], [443149.7028000001, 531357.4000000004], [443079.19930000044, 531552.3041999992], [443178.19770000037, 531580.6960000005], [443173.59700000007, 531735.6017000005], [443192.7997000003, 531934.9046999998], [443178.60170000046, 531995.9971999992], [443191.7030999996, 532008.3036000002], [443239.7966, 532002.7951999996], [443235.8965999996, 532101.7969000004], [443208.4983000001, 532273.5976999998], [443158.7971000001, 532299.7002000008], [443187.30030000024, 532434.6016000006], [443154.60030000005, 532626.2968000006], [443003.3035000004, 532868.8972999994], [442811.9025999997, 532915.8038999997], [442729.99619999994, 532913.4046], [442342.7999, 533059.9025999997], [442351.00370000023, 533093.6030000001], [443091.50090000033, 533200.8023000006], [443147.19629999995, 532998.6001999993], [443300.2988, 532928.1004000008], [443326.89740000013, 532939.5971000008], [443444.7028000001, 533133.0017000008], [443546.29849999957, 533109.7982999999], [443684.5022, 533130.8023000006], [443862.3975999998, 533109.8982999995], [443972.0981999999, 533132.0020000003], [443946.59619999956, 533280.7993999999], [443969.09700000007, 533351.6991000008], [444099.3030000003, 533442.8029999994], [444226.20270000026, 533496.2977000009], [444401.20409999974, 533655.8021000009], [444295.4035, 533872.5999999996], [444385.49729999993, 533957.8956000004], [444317.2034, 534183.1010999996], [444317.4013, 534237.0956999995], [444606.90189999994, 534277.4041000009], [444608.1963999998, 534380.2047000006], [444706.7001, 534413.8950999994], [444805.50069999974, 534529.0021000002], [444793.80090000015, 534550.4959999993], [444941.0, 534588.9049999993], [444933.2991000004, 534734.5033], [444997.8002000004, 534738.2021999992], [444990.6023000004, 534848.4006999992], [444957.20160000026, 534959.6987999994], [445116.80119999964, 535009.9045000002], [445071.1978000002, 535111.9952000007], [445103.60089999996, 535198.8004000001], [445099.3958999999, 535243.7974999994], [445063.99980000034, 535283.5961000007], [445021.8015999999, 535414.6985999998], [444930.70189999975, 535513.7002000008], [444926.5959000001, 535534.0044], [444961.9012000002, 535539.3028999995], [444963.2039999999, 535565.8953000009], [444838.90139999986, 535798.9986000005], [444889.7982000001, 535912.0962000005], [444895.1986999996, 535958.5029000007], [444885.0985000003, 535995.2024000008], [444836.1969999997, 536055.4952000007], [444954.20040000044, 536166.3035000004], [444984.30310000014, 536098.0030000005], [444982.59640000015, 536124.7952999994], [445041.79590000026, 536130.0037999991], [445058.7971999999, 536148.5985000003], [445076.4003999997, 536136.3019999992], [445233.8975999998, 536238.8026999999], [445355.0999999996, 536250.0994000006], [445376.1001000004, 536239.1026000008], [445436.29729999974, 536266.5047999993], [445547.6963999998, 536265.4949999992], [445693.5020000003, 536183.0986000001], [445815.8504999997, 536162.9543999992], [445838.2028000001, 536188.8969999999], [445873.4009999996, 536193.6955999993], [445931.2977999998, 536270.8035000004], [446120.39829999954, 536391.0990999993], [446259.2039000001, 536555.8018999994], [446300.3962000003, 536582.4043000005], [446297.19710000046, 536620.0035999995], [446317.39749999996, 536638.7982000001], [446321.9983000001, 536681.9957999997], [446354.69820000045, 536670.9989999998], [446359.40199999977, 536691.8030999992], [446395.6019000001, 536681.9957999997], [446474.5979000004, 536731.2017000001], [446605.80150000006, 536771.5001999997], [446696.0025000004, 536842.4999000002], [446752.4977000002, 536959.3964000009], [446799.5027999999, 536931.5044], [446953.6029000003, 536955.0976], [447072.1009999998, 537135.9958999995], [447097.00100000016, 537152.0012999997], [447139.9001000002, 537125.2989000008], [447187.59779999964, 537048.3010000009], [447213.8995000003, 537036.1044999994]]]}, \"bbox\": [439865.49710000027, 525456.7990000006, 455106.79760000017, 537152.0012999997]}, {\"id\": \"10\", \"type\": \"Feature\", \"properties\": {}, \"geometry\": {\"type\": \"Polygon\", \"coordinates\": [[[448489.89690000005, 522071.7979000006], [448609.4008999998, 522071.09809999913], [448906.0993999997, 521984.0031000003], [449129.30140000023, 521819.60009999946], [449190.90029999986, 521746.8010000009], [449396.49909999967, 521566.00269999914], [449804.4977000002, 521362.50100000016], [449991.0998999998, 521297.19969999976], [450401.7039999999, 521190.1002999991], [450894.9977000002, 520988.99789999984], [451186.60080000013, 520930.60459999926], [451388.90160000045, 520941.6015000008], [451658.0038999999, 521012.6010999996], [451894.29920000024, 521145.3030999992], [452174.1035000002, 520814.3979000002], [452057.6997999996, 520713.79670000076], [451895.09889999963, 520609.49650000036], [451698.19859999977, 520553.2026000004], [451996.0020000003, 520317.2002000008], [452027.1024000002, 520315.8005999997], [452098.10059999954, 520272.7028999999], [452187.50179999974, 520199.8037999999], [452421.29870000016, 520273.80260000005], [452436.4036999997, 520267.10449999943], [452685.1984000001, 520018.2957000006], [452800.1015999997, 519700.89660000056], [452884.6958999997, 519638.10459999926], [452966.6023000004, 519634.89550000057], [453030.6004999997, 519614.7013000008], [453060.1013000002, 519587.6989999991], [453109.80260000005, 519594.59699999914], [453261.1984000001, 519559.2971000001], [453272.0982999997, 519500.60390000045], [453348.8021, 519344.0987], [453338.80090000015, 519292.70340000093], [453359.1002000002, 519207.89770000055], [453348.3980999999, 519171.09830000065], [453391.19820000045, 519040.6955999993], [453382.7965000002, 518940.70419999957], [453398.6023000004, 518893.5976999998], [453383.8024000004, 518784.09899999946], [453400.39969999995, 518735.40300000086], [453500.4040999999, 518666.7026000004], [453531.6034000004, 518617.3968000002], [453631.2037000004, 518535.8001000006], [453729.3035000004, 518334.19779999927], [453789.20380000025, 518307.2954999991], [453850.1019000001, 518226.9985000007], [453981.5033999998, 518027.0956999995], [453996.699, 517963.1040000003], [453779.2026000004, 517879.8979000002], [453584.09970000014, 517834.50090000033], [453502.0036000004, 517798.30120000057], [453379.90249999985, 517712.9956], [453191.29669999983, 517526.2991000004], [453008.3964999998, 517450.6007000003], [452755.6030000001, 517397.2960000001], [452513.8990000002, 517295.5951000005], [452378.2017999999, 517210.29949999973], [452131.09729999956, 516956.6020999998], [452060.8989000004, 516918.2030999996], [451913.30399999954, 516875.49540000036], [452413.4989, 516304.8987000007], [452554.8027999997, 516194.5002999995], [452955.29839999974, 515807.2011999991], [453169.1009999998, 515621.7042999994], [453158.95139999967, 515611.59720000066], [453213.4017000003, 515562.90110000037], [453958.4996999996, 514948.1970000006], [454182.99619999994, 514807.3973999992], [454380.8035000004, 514732.19889999926], [454287.29619999975, 514547.60170000046], [454146.9983000001, 514391.4964000005], [454270.19600000046, 514257.8047000002], [454354.89749999996, 514199.7013000008], [454375.19680000003, 514007.8961999994], [454432.5, 513904.29590000026], [454495.2037000004, 513716.09970000014], [454739.9994999999, 513769.6043999996], [454916.8973000003, 513753.6989999991], [455048.49679999985, 513695.2957000006], [455241.2993000001, 513565.30289999954], [455299.40220000036, 513662.09520000033], [455420.7034999998, 513675.40139999986], [455517.7973999996, 513725.4969999995], [455563.90380000044, 513722.49789999984], [455611.19739999995, 513743.0020000003], [455775.80179999955, 513728.3961999994], [455944.6030000001, 513640.0014999993], [455907.09619999956, 513398.7006000001], [455824.2002999997, 513092.8980999999], [455816.4994999999, 513001.0044], [455711.59750000015, 512832.80260000005], [455680.10140000004, 512690.8032000009], [455637.3013000004, 512626.2017000001], [455602.80399999954, 512501.4974000007], [455525.3992999997, 512391.1989999991], [455384.9035, 512310.8019999992], [455355.1964999996, 512112.2988000009], [455271.20409999974, 512088.2957000006], [455210.6029000003, 512095.2037000004], [455144.1972000003, 512107.8001000006], [455066.8008000003, 512152.7971999999], [454971.7023, 512172.2017000001], [454662.1002000002, 512204.6023999993], [454606.6026999997, 512219.0982000008], [454550.00040000025, 512258.99679999985], [454429.30090000015, 512276.20189999975], [454293.1007000003, 512345.50210000016], [454231.0979000004, 512330.2963999994], [454224.3492999999, 512301.15479999967], [454194.39910000004, 512333.79539999925], [454146.9983000001, 512344.3024000004], [454142.00179999974, 512329.4966000002], [454122.4031999996, 512333.5954999998], [454104.6021999996, 512295.0965], [454093.8010999998, 512341.0033], [454060.6972000003, 512363.4968999997], [454043.1021999996, 512324.99789999984], [454008.9017000003, 512336.70460000075], [453969.9025999997, 512319.7993999999], [453950.3041000003, 512340.80340000056], [453911.0987999998, 512338.90389999934], [453900.89969999995, 512299.79509999976], [453877.30229999963, 512289.6980000008], [453883.09860000014, 512270.80340000056], [453850.90160000045, 512278.80120000057], [453851.50349999964, 512235.50349999964], [453806.40299999993, 512206.90169999935], [453732.1974999998, 512242.6015000008], [453698.90390000027, 512228.29560000077], [453671.3984000003, 512264.59520000033], [453619.1989000002, 512222.0974000003], [453581.2511, 512235.1536999997], [453555.00289999973, 512272.6029000003], [453594.4967, 512300.1950000003], [453571.5011999998, 512330.4964000005], [453574.19739999995, 512370.09500000067], [453621.6972000003, 512393.99819999933], [453595.4036999997, 512467.9969999995], [453572.59779999964, 512456.30030000024], [453531.49619999994, 512475.6048000008], [453486.29679999966, 512463.49829999916], [453448.3035000004, 512421.40029999986], [453236.6032999996, 512606.4974000007], [453195.4028000003, 512627.8013000004], [453121.4034000002, 512579.90499999933], [453009.69930000044, 512662.0014999993], [452917.0, 512694.6020999998], [452864.8995000003, 512745.29759999923], [452736.40020000003, 512680.0963000003], [452566.29640000034, 512631.40020000003], [452457.60170000046, 512659.8021000009], [452192.9023000002, 512664.90059999935], [452173.89740000013, 512637.6984000001], [452111.1030000001, 512614.59500000067], [451761.19909999985, 512695.7017999999], [451655.10170000046, 512687.90399999917], [451454.30150000006, 512802.4013], [451347.2971000001, 512906.6013999991], [451108.0996000003, 512971.20299999975], [450982.89829999954, 513030.1961000003], [450667.40110000037, 513039.3035000004], [450619.80229999963, 513063.9964000005], [450591.3980999999, 513126.3984999992], [450499.80370000005, 513134.5962000005], [450106.1020999998, 513238.4964000005], [450024.09669999965, 513213.30370000005], [449912.49980000034, 513223.6007000003], [449924.10059999954, 513125.9986000005], [449840.2977999998, 513172.1953999996], [449732.79870000016, 513075.60309999995], [449608.99909999967, 513040.8029999994], [449532.89719999954, 513092.2982999999], [449449.4983999999, 513083.3008999992], [449435.6961000003, 513117.6010999996], [449389.79590000026, 513153.5008000005], [449342.5022, 513181.8026999999], [449286.50179999974, 513173.09520000033], [449209.40220000036, 513236.2971000001], [449164.2028000001, 513181.50280000083], [449067.7026000004, 513160.7986999992], [449021.0025000004, 513178.6035999991], [448965.49679999985, 513177.30399999954], [448865.8964999998, 513147.2026000004], [448793.9994999999, 513189.50049999915], [448768.90160000045, 513182.40249999985], [448735.2039999999, 513220.70150000043], [448668.3036000002, 513191.39990000054], [448647.9960000003, 513215.6030000001], [448614.90029999986, 513223.00090000033], [448575.10140000004, 513346.69549999945], [448248.1023000004, 513262.89949999936], [448244.59810000006, 513152.30110000074], [448109.29669999983, 513278.8048999999], [448068.9040999999, 513292.0011], [447991.7962999996, 513296.0], [447976.79849999957, 513275.29590000026], [447878.8967000004, 513290.70150000043], [447836.40160000045, 513261.59979999997], [447811.6994000003, 513277.1953999996], [447758.5022999998, 513274.4960999992], [447738.49980000034, 513324.40190000087], [447710.20270000026, 513322.9023000002], [447669.8019000003, 513367.7993999999], [447603.1983000003, 513386.6040000003], [447593.8979000002, 513420.40440000035], [447544.6007000003, 513445.49719999917], [447557.29810000025, 513454.2047000006], [447535.9020999996, 513483.69629999995], [447499.6980999997, 513472.6994000003], [447476.1007000003, 513510.69849999994], [447428.40299999993, 513497.3024000004], [447379.99629999977, 513514.0976], [447362.5003000004, 513500.6013999991], [447277.6997999996, 513519.1961000003], [447243.20249999966, 513548.29780000076], [447218.0963000003, 513539.30030000024], [447176.79669999983, 513552.4966000002], [447143.50320000015, 513515.1972000003], [447120.4994999999, 513532.90220000036], [447082.2012, 513530.0030000005], [447024.7001, 513615.3986000009], [446917.9018000001, 513684.9986000005], [446915.29640000034, 513713.6004000008], [446865.90020000003, 513711.8010000009], [446814.2037000004, 513783.10060000047], [446778.40359999985, 513783.10060000047], [446777.19990000036, 513797.8962999992], [446800.3025000002, 513810.3027999997], [446788.2977, 513822.09940000065], [446756.00179999974, 513815.0013999995], [446750.99710000027, 513857.2993000001], [446677.3026999999, 513870.89540000074], [446655.5027999999, 513860.49840000086], [446626.10089999996, 513898.4975000005], [446592.5022, 513893.69889999926], [446561.5007999996, 513911.50379999913], [446572.9036999997, 513938.1962000001], [446554.59970000014, 513974.4957999997], [446578.19710000046, 513982.1035999991], [446576.0038999999, 514060.5011], [446593.0959000001, 514061.8007999994], [446589.50100000016, 514089.2028999999], [446609.70139999967, 514120.0041000005], [446631.3035000004, 514120.0041000005], [446656.09640000015, 514154.8041999992], [446636.49789999984, 514210.49819999933], [446610.69909999985, 514226.9035], [446618.80399999954, 514275.99950000085], [446585.19710000046, 514296.2037000004], [446576.9025999997, 514367.6031999998], [446527.6961000003, 514399.6041000001], [446522.9963999996, 514421.3978000004], [446567.2971000001, 514549.1012999993], [446567.8990000002, 514614.90249999985], [446540.0965999998, 514690.4008000009], [446563.9001000002, 514807.2973999996], [446502.3013000004, 514821.8032000009], [446495.2023, 514880.59640000015], [446468.49650000036, 514901.4003999997], [446477.4012000002, 514926.40330000035], [446444.29729999974, 514941.9988000002], [446445.8968000002, 514956.0047999993], [446466.6002000002, 514947.7971999999], [446468.8015999999, 514968.2013000008], [446417.40189999994, 514973.8997000009], [446431.5998999998, 515006.80030000024], [446407.5985000003, 515013.0985000003], [446418.5974000003, 515072.10160000063], [446385.69959999993, 515098.1041000001], [446398.1002000002, 515145.3005999997], [446365.20239999983, 515235.6048000008], [446389.0965999998, 515258.69820000045], [446391.3969999999, 515298.6966999993], [446372.6972000003, 515296.99719999917], [446370.5039999997, 515315.6019000001], [446395.50299999956, 515377.90399999917], [446373.0022, 515420.7017999999], [446389.5005999999, 515525.3018999994], [446361.89609999955, 515744.7990000006], [446370.70189999975, 515785.8972999994], [446335.29760000017, 515897.6952999998], [446384.9988000002, 515944.5019000005], [446374.0987999998, 515985.50009999983], [446391.19909999985, 515995.7971999999], [446396.50069999974, 516060.8984999992], [446429.90139999986, 516080.90279999934], [446428.2028999999, 516106.5954999998], [446454.60360000003, 516088.50060000084], [446468.60369999986, 516113.9034000002], [446557.19689999986, 516167.99789999984], [446575.5998999998, 516226.30120000057], [446612.9994999999, 516268.7990000006], [446618.301, 516334.1002999991], [446725.39609999955, 516512.2993000001], [446731.9014999997, 516563.60459999926], [446758.3021999998, 516588.0976], [446771.40359999985, 516696.89650000073], [446745.2997000003, 516827.5990999993], [446749.39749999996, 516902.79759999923], [446769.69689999986, 516928.2003000006], [446764.19739999995, 516960.50100000016], [446818.4994000001, 516996.20079999976], [446803.0976, 517110.89800000004], [446872.49629999977, 517119.09559999965], [446853.7965000002, 517195.7037000004], [446918.50370000023, 517301.90330000035], [446953.8997999998, 517625.5007000007], [447048.19849999994, 517663.0998999998], [447081.5992999999, 517736.9988000002], [447198.59669999965, 517834.1009999998], [447245.40390000027, 517931.90300000086], [447271.4006000003, 518107.80260000005], [447255.0011999998, 518199.8962999992], [447233.59700000007, 518235.9958999995], [446967.1001000004, 518396.99980000034], [446797.20239999983, 518605.50019999966], [446599.8980999999, 519004.69590000063], [446483.89829999954, 519130.0999999996], [446834.0990000004, 519290.90399999917], [447273.19799999986, 519372.30069999956], [447438.2971000001, 519429.20439999923], [447594.5987, 519519.3986000009], [447763.3998999996, 519682.9017999992], [447814.8985000001, 519773.19590000063], [447860.9967, 519914.39550000057], [447915.00179999974, 520331.29619999975], [448028.39609999955, 521518.1963999998], [448061.0959999999, 521684.8987000007], [448129.20019999985, 521839.30450000055], [448200.50349999964, 521921.7008999996], [448379.7017000001, 522033.1989999991], [448489.89690000005, 522071.7979000006]]]}, \"bbox\": [446335.29760000017, 512088.2957000006, 455944.6030000001, 522071.7979000006]}, {\"id\": \"17\", \"type\": \"Feature\", \"properties\": {}, \"geometry\": {\"type\": \"Polygon\", \"coordinates\": [[[455525.93099999987, 528406.6542000007], [455724.63210000005, 528369.6193000004], [455747.1160000004, 528399.9480000008], [455782.8870000001, 528387.6720000003], [455742.6710000001, 528151.6630000006], [455755.2659999998, 528094.4120000005], [455800.5099999998, 528100.8939999994], [455859.0360000003, 528081.2880000006], [455915.8679999998, 528095.2589999996], [455935.0769999996, 528065.8900000006], [456038.2120000003, 527995.5629999992], [456185.32100000046, 527964.7390000001], [456259.2719999999, 527976.2489999998], [456295.38800000027, 527961.432], [456297.37200000044, 527916.1879999992], [456246.30700000003, 527892.9049999993], [456290.625, 527859.1699999999], [456294.7259999998, 527811.5449999999], [456213.59800000023, 527786.6740000006], [456165.97300000023, 527743.2829999998], [456125.75600000005, 527745.1349999998], [456112.2620000001, 527760.7449999992], [456158.2999999998, 527841.1789999995], [456032.676, 527862.7899999991], [455999.81400000025, 527849.1370000001], [455965.8150000004, 527802.5040000007], [455945.3099999996, 527660.9519999996], [455968.79200000037, 527565.0399999991], [456001.20299999975, 527500.8790000007], [456134.15699999966, 527346.7589999996], [456310.56799999997, 527232.591], [456513.23900000006, 527226.5050000008], [456630.0530000003, 527199.2530000005], [456710.48699999973, 527123.8469999991], [456824.4210000001, 526934.8670000006], [456951.1030000001, 526809.7870000005], [457269.5039999997, 526597.5380000006], [457530.48900000006, 526374.8110000007], [457931.3339999998, 526120.6520000007], [458118.659, 526056.9930000007], [458443.3030000003, 525893.4800000004], [459007.1849999996, 525675.9920000006], [459160.21999999974, 525641.2259999998], [459313.0959999999, 525634.5580000002], [459460.89300000016, 525651.5449999999], [459744.5800000001, 525722.9820000008], [459938.62200000044, 525691.3129999992], [460007.4000000004, 525770.8000000007], [459948.0, 525682.4000000004], [459989.7000000002, 525661.0999999996], [460036.3811999997, 525669.1174999997], [460018.2999999998, 525706.0999999996], [460128.5999999996, 525736.9000000004], [460152.2000000002, 525730.5999999996], [460169.7999999998, 525752.6999999993], [460072.5, 525753.1999999993], [460060.0999999996, 525723.9000000004], [460034.2999999998, 525725.0999999996], [460017.7000000002, 525742.0], [460019.7000000002, 525767.8000000007], [460118.7999999998, 525774.6999999993], [460038.6500000004, 525826.8499999996], [459885.0, 525839.8000000007], [459841.5, 525855.4000000004], [459940.5999999996, 525850.9000000004], [459839.4000000004, 525867.5], [460048.2000000002, 525855.5999999996], [460091.25, 525887.4499999993], [460048.0999999996, 525905.5], [460084.5, 525930.5], [460020.25, 525938.1500000004], [460058.9000000004, 525942.6500000004], [460059.7999999998, 525958.9499999993], [459601.7999999998, 526016.6999999993], [459581.9000000004, 526039.5999999996], [459722.2999999998, 526008.5], [459745.8388, 526062.4938999992], [459683.0999999996, 526097.9000000004], [459681.9000000004, 526154.5], [459697.2999999998, 526144.1999999993], [459723.7999999998, 526154.3000000007], [459734.7999999998, 526133.3000000007], [459775.0, 526117.0999999996], [459791.7999999998, 526163.5999999996], [459824.5, 526121.3000000007], [459824.7999999998, 526162.1999999993], [459863.7999999998, 526197.6999999993], [459868.11479999963, 526141.5810000002], [459894.0999999996, 526101.5999999996], [459896.4000000004, 526163.6999999993], [459921.5, 526112.9000000004], [459993.5, 526067.3000000007], [460209.2999999998, 526056.5999999996], [460439.0, 526079.5999999996], [460494.7000000002, 526111.5999999996], [460682.2999999998, 526136.3000000007], [460714.9000000004, 526133.5], [460715.2290000003, 526116.2547999993], [460735.7000000002, 526111.9000000004], [460801.5, 526119.5999999996], [460794.3742000004, 526069.1334000006], [460829.9000000004, 526064.0], [460767.2999999998, 526025.5999999996], [460742.2999999998, 525979.4000000004], [460757.0999999996, 525977.3000000007], [460748.5, 525962.5], [460679.5, 525922.1999999993], [460659.5999999996, 525868.6999999993], [460647.5999999996, 525880.5999999996], [460615.0, 525872.4000000004], [460592.5, 525859.0999999996], [460602.5, 525842.0999999996], [460542.4000000004, 525830.4000000004], [460594.2999999998, 525838.6999999993], [460540.9000000004, 525812.6999999993], [460597.2000000002, 525821.3000000007], [460587.7000000002, 525800.5999999996], [460461.9000000004, 525781.5999999996], [460433.2999999998, 525758.9000000004], [460365.0, 525769.1999999993], [460334.5, 525739.6999999993], [460279.2000000002, 525773.0999999996], [460272.2999999998, 525786.9000000004], [460290.7000000002, 525806.9000000004], [460230.3848000001, 525813.3468999993], [460267.0, 525771.9000000004], [460257.5, 525757.0], [460292.4000000004, 525754.5], [460274.4000000004, 525731.0], [460323.2000000002, 525709.1999999993], [460282.0999999996, 525679.1999999993], [460337.2999999998, 525670.5], [460244.0948999999, 525642.8816999998], [460244.6040000003, 525619.6215000004], [460254.7249999996, 525620.7109999992], [460249.5860000001, 525594.023], [460353.2110000001, 525560.4470000006], [460485.6610000003, 525461.5989999995], [460635.2039999999, 525402.8609999996], [460766.01400000043, 525328.5659999996], [460896.1639999999, 525311.4680000003], [461088.2999999998, 525346.1999999993], [461346.75, 525430.4000000004], [461689.0999999996, 525506.6999999993], [461835.0, 525570.0999999996], [462000.0, 525613.0999999996], [461821.7999999998, 525547.0], [461815.2000000002, 525524.0999999996], [461725.0, 525492.4000000004], [461727.0999999996, 525478.8000000007], [461627.9000000004, 525451.5999999996], [461609.5, 525468.0], [461612.5, 525442.0], [461399.0, 525398.9499999993], [461325.88910000026, 525352.1202000007], [461336.5, 525332.0500000007], [461958.2000000002, 525480.4000000004], [461576.2999999998, 525369.4000000004], [461299.7999999998, 525317.9000000004], [461246.6500000004, 525289.3000000007], [461346.3499999996, 525294.8000000007], [461371.1500000004, 525273.5500000007], [461403.1500000004, 525274.0], [461409.0999999996, 525249.5500000007], [461372.4000000004, 525237.5999999996], [461505.7999999998, 525240.8000000007], [461861.5, 525312.0999999996], [462000.0, 525363.0], [462000.8499999996, 525351.6699999999], [461897.2999999998, 525309.5], [461599.7999999998, 525240.9000000004], [461451.2999999998, 525222.6999999993], [461445.9500000002, 525210.8000000007], [461560.5999999996, 525206.6999999993], [461578.2999999998, 525192.0], [461552.7000000002, 525190.3000000007], [461574.7999999998, 525183.0], [461566.2999999998, 525168.5], [461590.7999999998, 525151.3000000007], [461558.30399999954, 525118.1760000009], [461473.23309999984, 525096.4122000001], [461522.75239999965, 525081.5106000006], [461560.3503999999, 524999.4368999992], [461644.0290000001, 524913.0073000006], [461740.54580000043, 524753.9035], [462070.4455000004, 524379.7574000005], [462213.04279999994, 524251.6031999998], [462323.31510000024, 524127.3463000003], [462569.93740000017, 523962.1671999991], [462768.5306000002, 523774.7502999995], [462918.91700000037, 523659.2039999999], [463083.2240000004, 523575.8599999994], [463475.2379999999, 523299.4360000007], [463534.7690000003, 523241.09500000067], [463988.3990000002, 523059.7229999993], [464787.70600000024, 522636.9179999996], [464948.04399999976, 522567.59699999914], [465026.96300000045, 522556.75799999945], [465286.1229999997, 522452.7770000007], [465504.801, 522390.0700000003], [465974.1699999999, 522164.67500000075], [466000.0, 522158.1500000004], [466002.81900000013, 522175.3049999997], [466687.0099999998, 521926.1400000006], [466931.3499999996, 521878.12399999984], [467057.71499999985, 521816.7410000004], [467298.6370000001, 521758.0979999993], [467352.8849999998, 521763.71800000034], [467465.26300000027, 521819.5999999996], [467497.59499999974, 521885.9910000004], [467575.4879999999, 521876.46499999985], [467571.2690000003, 521901.3420000002], [467588.0290000001, 521905.80700000003], [467739.0, 521888.1199999992], [467630.5480000004, 521925.9790000003], [467632.3729999997, 521989.2039999999], [467581.83800000045, 522007.6190000009], [467731.45999999996, 521981.1610000003], [467728.28500000015, 522058.2870000005], [467875.949, 522041.64499999955], [467886.63800000027, 522051.59300000034], [467870.409, 522080.7620000001], [468003.2709999997, 522054.16899999976], [468043.642, 522084.66599999927], [468119.6660000002, 522078.36099999957], [468153.50299999956, 522131.4690000005], [468224.2999999998, 522120.6070000008], [468143.17899999954, 522170.4550000001], [468345.5, 522216.9000000004], [468503.0, 522212.30000000075], [468507.0999999996, 522235.19999999925], [468523.2999999998, 522235.30000000075], [468608.7999999998, 522218.9000000004], [468651.4000000004, 522190.30000000075], [468700.9000000004, 522202.19999999925], [468742.4000000004, 522191.5999999996], [468756.7999999998, 522166.9000000004], [468847.0999999996, 522135.0999999996], [468882.7000000002, 522087.30000000075], [468993.0, 522046.9000000004], [469021.7400000002, 521896.01999999955], [469049.7000000002, 521969.0999999996], [469104.28000000026, 521994.5099999998], [469110.71999999974, 522027.30000000075], [469135.01999999955, 522047.5], [469284.51999999955, 522044.69999999925], [469370.1200000001, 522013.19999999925], [469433.71999999974, 522028.5], [469451.4299999997, 521986.52999999933], [469562.11000000034, 521902.52999999933], [469577.61000000034, 521919.44999999925], [469606.7400000002, 521918.01999999955], [469716.08999999985, 521851.8800000008], [469865.53000000026, 521711.69999999925], [469895.8700000001, 521779.3300000001], [469954.71999999974, 521780.0800000001], [470048.7999999998, 521719.4000000004], [470033.0999999996, 521740.5], [470051.0999999996, 521763.5], [470128.0, 521721.30000000075], [470128.4000000004, 521683.4000000004], [470093.4900000002, 521664.51999999955], [470106.5, 521656.0999999996], [470125.5, 521657.80000000075], [470125.0, 521679.80000000075], [470139.9000000004, 521685.69999999925], [470142.7999999998, 521735.19999999925], [470175.7999999998, 521731.0], [470309.7999999998, 521596.7599999998], [470389.5999999996, 521572.5], [470430.1900000004, 521500.47000000067], [470415.79000000004, 521458.2400000002], [470464.5999999996, 521386.0399999991], [470458.0, 521343.5], [470575.38999999966, 521289.77999999933], [470435.4000000004, 521314.5999999996], [470425.23000000045, 521299.33999999985], [470448.5999999996, 521302.5], [470603.08999999985, 521240.97000000067], [470582.9900000002, 521190.6300000008], [470604.58999999985, 521191.6899999995], [470627.08999999985, 521168.1099999994], [470598.20999999996, 521140.4900000002], [470651.46999999974, 521110.76999999955], [470624.23000000045, 521100.08999999985], [470625.7400000002, 521055.3599999994], [470588.21999999974, 521046.5099999998], [470631.25, 521034.0399999991], [470631.5999999996, 521009.69999999925], [470578.4199999999, 521001.7599999998], [470623.1026999997, 520971.95940000005], [470651.2736999998, 520927.35529999994], [470717.6799999997, 520898.8499999996], [470724.26999999955, 520883.41000000015], [470708.08999999985, 520877.5999999996], [470758.28000000026, 520864.3300000001], [470807.54000000004, 520811.7899999991], [470835.25, 520806.25], [470827.96999999974, 520785.9900000002], [470895.0373999998, 520730.0644000005], [471171.93960000016, 520546.91530000046], [471192.67339999974, 520573.659], [471263.8897000002, 520591.0875000004], [471194.9500000002, 520563.80000000075], [471178.27990000043, 520532.7923000008], [471196.54980000015, 520532.9124999996], [471216.6224999996, 520488.0792999994], [471285.6151999999, 520411.15359999985], [471569.99959999975, 520216.3155000005], [471625.04949999973, 520212.2288000006], [471606.65950000007, 520229.5371000003], [471651.8531999998, 520234.4650999997], [471703.6500000004, 520278.1500000004], [471810.58999999985, 520295.47000000067], [471823.9500000002, 520320.44999999925], [471813.5599999996, 520331.3300000001], [471835.1699999999, 520346.3599999994], [471797.21999999974, 520364.6300000008], [471868.98000000045, 520377.8800000008], [471830.04000000004, 520391.8200000003], [472160.2999999998, 520356.98000000045], [472224.5, 520440.0700000003], [472247.5999999996, 520439.98000000045], [472186.7999999998, 520478.8800000008], [472312.0, 520421.0700000003], [472319.4000000004, 520366.77999999933], [472333.7999999998, 520430.0700000003], [472406.6699999999, 520357.72000000067], [472422.5800000001, 520364.9399999995], [472471.08999999985, 520323.48000000045], [472522.7400000002, 520319.8699999992], [472489.1200000001, 520306.23000000045], [472452.0999999996, 520322.5999999996], [472453.2599999998, 520281.1099999994], [472466.04000000004, 520277.97000000067], [472473.21999999974, 520301.8200000003], [472482.8700000001, 520263.4399999995], [472596.2599999998, 520228.94999999925], [472617.4400000004, 520167.1699999999], [472637.8099999996, 520180.8599999994], [472608.95999999996, 520220.4299999997], [472631.48000000045, 520225.72000000067], [472590.88999999966, 520247.44999999925], [472586.5099999998, 520269.9199999999], [472600.5, 520276.1899999995], [472541.4500000002, 520298.7899999991], [472598.0800000001, 520293.26999999955], [472704.45999999996, 520246.3599999994], [472678.7000000002, 520231.8300000001], [472700.48000000045, 520209.02999999933], [472675.5700000003, 520129.6400000006], [472699.88999999966, 520136.2400000002], [472732.75, 520213.19999999925], [472725.1200000001, 520240.5099999998], [472858.78000000026, 520203.8100000005], [472892.0999999996, 520208.8300000001], [472730.5599999996, 520268.72000000067], [472782.6900000004, 520279.8699999992], [472757.08999999985, 520299.2100000009], [472872.2000000002, 520286.2100000009], [472883.9000000004, 520258.3200000003], [472900.6200000001, 520279.48000000045], [472906.2999999998, 520249.4900000002], [472913.88999999966, 520275.4299999997], [472944.2000000002, 520278.72000000067], [472967.8099999996, 520220.1500000004], [472924.95999999996, 520201.0999999996], [472967.5700000003, 520178.6099999994], [472978.25, 520190.94999999925], [473125.4400000004, 520187.1199999992], [473139.46999999974, 520193.1899999995], [473120.1900000004, 520199.4600000009], [473137.13999999966, 520217.4900000002], [473139.26999999955, 520197.9900000002], [473181.28000000026, 520197.9299999997], [473200.3300000001, 520223.3499999996], [473250.8300000001, 520239.66000000015], [473324.4500000002, 520254.1400000006], [473388.1299999999, 520247.5800000001], [473392.3799999999, 520181.8800000008], [473364.1299999999, 520152.1099999994], [473377.5700000003, 520132.52999999933], [473403.53000000026, 520150.4600000009], [473403.23000000045, 520200.3800000008], [473429.8799999999, 520254.8499999996], [473482.1299999999, 520264.0999999996], [473600.8499999996, 520329.1400000006], [473725.6699999999, 520299.8499999996], [473757.83999999985, 520303.3699999992], [473755.7400000002, 520316.98000000045], [473831.8200000003, 520309.5800000001], [473846.95999999996, 520292.4399999995], [473917.5499999998, 520294.0999999996], [473921.75, 520279.5700000003], [473950.3300000001, 520310.7100000009], [473985.0700000003, 520304.8599999994], [474014.01999999955, 520319.4900000002], [474022.51999999955, 520299.3900000006], [474079.9199999999, 520293.58999999985], [474095.4199999999, 520277.6899999995], [474141.4199999999, 520318.8900000006], [474159.3200000003, 520295.3900000006], [474201.71999999974, 520323.1899999995], [474315.1200000001, 520273.7899999991], [474324.01999999955, 520234.08999999985], [474359.4199999999, 520216.7899999991], [474480.1200000001, 520213.58999999985], [474544.1200000001, 520177.7899999991], [474563.9199999999, 520196.8900000006], [474624.4199999999, 520173.2899999991], [474643.01999999955, 520183.2899999991], [474663.1200000001, 520172.58999999985], [474653.3200000003, 520154.08999999985], [474692.0700000003, 520129.7100000009], [474752.3700000001, 520142.6099999994], [474914.6699999999, 520037.1099999994], [474981.0700000003, 520018.7100000009], [475040.4000000004, 519962.01999999955], [475157.86000000034, 519918.33999999985], [475300.8799999999, 519892.26999999955], [475446.4400000004, 519824.9000000004], [475491.1500000004, 519830.0], [475602.0099999998, 519768.7100000009], [475601.46999999974, 519731.3800000008], [475656.83999999985, 519736.4600000009], [475735.5499999998, 519685.0399999991], [475791.5, 519680.8200000003], [475879.9000000004, 519559.9000000004], [475895.04000000004, 519573.0700000003], [475923.16000000015, 519494.6400000006], [475996.70999999996, 519457.8300000001], [476135.0599999996, 519287.6500000004], [476188.1500000004, 519283.83999999985], [476201.8499999996, 519251.73000000045], [476191.6299999999, 519221.6099999994], [476212.3300000001, 519228.41000000015], [476216.6799999997, 519190.8699999992], [476335.5099999998, 519291.58999999985], [476431.33999999985, 519302.4399999995], [476468.9900000002, 519321.0], [476531.1699999999, 519306.0399999991], [476547.6500000004, 519314.2899999991], [476545.5800000001, 519337.91000000015], [476592.0499999998, 519295.8200000003], [476630.1699999999, 519293.30000000075], [476637.23000000045, 519255.52999999933], [476718.0499999998, 519233.7899999991], [476711.61000000034, 519213.48000000045], [476734.23000000045, 519213.2100000009], [476729.96999999974, 519173.4000000004], [476753.0499999998, 519229.6300000008], [476798.76999999955, 519228.9000000004], [476848.8700000001, 519199.44999999925], [476835.3700000001, 519151.2599999998], [476874.7400000002, 519196.2599999998], [476930.4500000002, 519170.7100000009], [476953.8700000001, 519180.0], [476937.7599999998, 519133.3699999992], [476964.8499999996, 519148.01999999955], [477064.4500000002, 519135.72000000067], [477077.3700000001, 519114.69999999925], [477067.5, 519063.7100000009], [476942.0999999996, 519022.8599999994], [476974.75, 519014.58999999985], [476982.5999999996, 518992.0600000005], [477028.5499999998, 519034.4900000002], [477084.1299999999, 519043.7400000002], [477134.8499999996, 519022.6699999999], [477161.5, 518959.02999999933], [477128.9299999997, 518901.6300000008], [477151.33999999985, 518882.01999999955], [477209.25, 518898.9900000002], [477231.79000000004, 518959.33999999985], [477291.1200000001, 519029.69999999925], [477340.0999999996, 519062.7400000002], [477370.8799999999, 519060.1099999994], [477389.53000000026, 519085.1699999999], [477408.08999999985, 519068.3499999996], [477465.8300000001, 519097.4600000009], [477489.16000000015, 519058.9900000002], [477542.8799999999, 519091.26999999955], [477582.26999999955, 519051.6500000004], [477580.0099999998, 518933.1400000006], [477590.1699999999, 519051.3599999994], [477660.78000000026, 519111.8699999992], [477710.7599999998, 519104.0999999996], [477713.58999999985, 519070.8300000001], [477690.0700000003, 519063.75], [477686.8200000003, 519037.8499999996], [477712.96999999974, 519015.1400000006], [477755.04000000004, 519049.91000000015], [477816.9900000002, 519043.19999999925], [477837.2400000002, 519016.1799999997], [477836.88999999966, 519044.9000000004], [477848.75, 519014.48000000045], [477862.1299999999, 519061.02999999933], [477955.16000000015, 519140.1099999994], [477955.11000000034, 519117.3100000005], [478001.1799999997, 519188.66000000015], [478003.7599999998, 519170.9399999995], [478040.5599999996, 519155.6300000008], [478050.04000000004, 519124.80000000075], [478070.16000000015, 519167.6400000006], [478138.3499999996, 519144.6199999992], [478144.73000000045, 519113.1899999995], [478194.9500000002, 519157.8300000001], [478223.66000000015, 519145.6699999999], [478243.2599999998, 519223.5999999996], [478273.5700000003, 519274.0099999998], [478282.33999999985, 519261.5399999991], [478289.4000000004, 519289.5099999998], [478301.3200000003, 519255.0600000005], [478315.04000000004, 519261.48000000045], [478366.3099999996, 519120.3499999996], [478368.6799999997, 519052.6300000008], [478435.7400000002, 519084.6500000004], [478450.95999999996, 519064.9299999997], [478363.20999999996, 519027.55000000075], [478364.9029000001, 518979.00320000015], [478308.8035000004, 518913.00210000016], [478194.1972000003, 518927.6978999991], [478101.3990000002, 518859.0976], [478073.8027999997, 518798.90479999967], [478074.9983000001, 518695.9043000005], [477996.5959999999, 518655.3958999999], [477958.00090000033, 518595.10309999995], [477956.5003000004, 518538.1994000003], [477996.29920000024, 518448.09520000033], [477997.0990000004, 518402.04839999974], [477953.79590000026, 518407.79670000076], [477816.7960000001, 518488.9035], [477786.0996000003, 518481.1956999991], [477805.3024000004, 518422.7025000006], [477878.69990000036, 518372.9967], [477888.19820000045, 518319.1020999998], [477869.8035000004, 518280.0033], [477788.90299999993, 518211.50290000066], [477733.39719999954, 518116.3002000004], [477677.2977999998, 518058.6966999993], [477700.79619999975, 517975.00060000084], [477668.3024000004, 517967.70270000026], [477596.1994000003, 518009.5008000005], [477484.70139999967, 517954.7963999994], [477398.10360000003, 517948.8980999999], [477297.49729999993, 518007.0014999993], [477190.7980000004, 517983.8980999999], [477094.19880000036, 518034.8035000004], [477061.4000000004, 517987.19710000046], [477035.0981999999, 517978.79949999973], [476955.50040000025, 518027.89550000057], [476906.7969000004, 518026.6958000008], [476869.3973000003, 518067.70409999974], [476806.3967000004, 518028.59530000016], [476762.20320000034, 518026.19600000046], [476731.4985999996, 518056.99719999917], [476714.1014999999, 518115.4003999997], [476699.69739999995, 518116.60009999946], [476538.8032999998, 517937.30140000023], [476493.19990000036, 517912.2985999994], [476400.0965999998, 517761.50170000084], [476338.59669999965, 517765.1007000003], [476307.1995000001, 517728.2013000008], [476228.5992999999, 517742.1973000001], [476085.3002000004, 517724.0024999995], [475979.3016999997, 517669.89800000004], [475937.3013000004, 517626.00049999915], [475912.09619999956, 517530.9977000002], [475862.7000000002, 517517.70150000043], [475798.6029000003, 517468.59559999965], [475731.1995000001, 517324.49679999985], [475625.20100000035, 517287.3975000009], [475547.4006000003, 517210.19959999993], [475479.70040000044, 517077.6974999998], [475360.6004999997, 516995.30110000074], [475350.69820000045, 516923.2017000001], [475258.6997999996, 516755.59970000014], [475236.19909999985, 516677.90190000087], [475188.4024, 516642.60199999996], [475033.19739999995, 516404.40020000003], [475017.4988000002, 516253.60339999944], [474906.6026999997, 516115.90279999934], [474901.59800000023, 516072.1952999998], [474867.29849999957, 516023.6992000006], [474864.09949999955, 515968.39499999955], [474783.00100000016, 515862.29539999925], [474731.1973000001, 515754.09640000015], [474654.4028000003, 515676.1986999996], [474637.8962000003, 515614.1963999998], [474608.29640000034, 515577.29700000025], [474578.3997999998, 515438.0967999995], [474546.10390000045, 515345.30340000056], [474515.6962000001, 515310.8033000007], [474530.2982000001, 515274.8036000002], [474514.4017000003, 515219.2993999999], [474522.39940000046, 515184.49939999916], [474491.2001, 515182.30000000075], [474482.09750000015, 515167.4043000005], [474508.6961000003, 515132.20439999923], [474534.6020999998, 515015.69769999944], [474505.0022999998, 514928.2028000001], [474439.19849999994, 514906.79890000075], [474490.69710000046, 514843.19710000046], [474523.29810000025, 514640.6951000001], [474512.00239999965, 514597.99730000086], [474538.19689999986, 514529.39690000005], [474542.40189999994, 514457.7973999996], [474531.19689999986, 514401.40359999985], [474474.99849999975, 514320.79659999907], [474464.7993999999, 514280.49819999933], [474401.09800000023, 514244.5985000003], [474398.59979999997, 514194.50280000083], [474425.5033999998, 514139.3986000009], [474435.9003999997, 514000.7982000001], [474461.5014000004, 513905.29560000077], [474466.90189999994, 513758.6974999998], [474487.90199999977, 513718.6989999991], [474497.90330000035, 513640.0014999993], [474535.8965999996, 513580.4985000007], [474541.09920000006, 513512.4979999997], [474475.89719999954, 513439.69889999926], [474411.80009999964, 513412.3967000004], [474405.7977, 513389.6031999998], [474413.1029000003, 512861.3044000007], [474355.29669999983, 512535.8976000007], [474458.79700000025, 512228.5954999998], [474673.10259999987, 511741.8048999999], [474908.6969999997, 511423.3959999997], [474983.6034000004, 511267.50060000084], [474973.8989000004, 511080.90399999917], [474692.2971000001, 510900.79560000077], [474191.69820000045, 510878.8018999994], [473720.99590000045, 511008.6046999991], [473494.9988000002, 511022.5008000005], [472921.3981999997, 511227.40210000053], [472877.89719999954, 511696.89770000055], [472824.5022, 511648.50159999914], [472758.2037000004, 511688.3002000004], [472596.99619999994, 511812.80450000055], [472584.2988, 511876.69629999995], [471717.50380000006, 511848.0044999998], [471718.0974000003, 511787.6018000003], [471617.9035, 511700.69659999944], [471461.09889999963, 511613.00170000084], [471255.6979, 511539.2028999999], [470585.9020999996, 511362.70340000093], [470290.80319999997, 511304.1001999993], [469866.6030000001, 511163.3004999999], [469707.80310000014, 511167.5991999991], [469471.2028999999, 511226.3024000004], [469239.8958999999, 511202.3992999997], [468984.99990000017, 511075.7954999991], [468507.60259999987, 510883.60050000064], [467951.49789999984, 510800.3044000007], [467900.2960999999, 510819.4989], [466949.20359999966, 511815.3037999999], [465676.801, 512196.30480000004], [464636.29899999965, 512421.20040000044], [463316.80069999956, 512295.0965], [462483.8021999998, 511393.2047000006], [462386.6010999996, 511467.30340000056], [462315.0999999996, 511489.5971000008], [462310.3013000004, 511510.5011], [462233.2017999999, 511528.89580000006], [462143.8005999997, 511520.5982000008], [462109.5011, 511540.70240000077], [462091.4031999996, 511524.2971000001], [462084.7000000002, 511555.6981000006], [461978.5036000004, 511605.3038999997], [461842.3033999996, 511598.09600000083], [461684.6001000004, 511646.50210000016], [461647.20050000027, 511635.69519999996], [461558.6980999997, 511645.2025000006], [461496.00260000024, 511698.8970999997], [461244.50349999964, 511847.60459999926], [461228.4008999998, 511881.5048999991], [461123.49899999984, 511925.80220000073], [461094.40220000036, 511970.29949999973], [461056.10390000045, 511980.19659999944], [460973.9006000003, 512072.6001999993], [460858.0987, 512009.5982000008], [460666.9040000001, 511866.6991000008], [460461.60199999996, 512078.6984000001], [460373.8992999997, 512146.39910000004], [460077.2006999999, 512315.2006999999], [459791.5011, 512445.3035000004], [459205.90390000027, 512385.7006000001], [458730.0979000004, 512758.50379999913], [458604.59979999997, 512726.6030000001], [458425.4017000003, 512716.79580000043], [458268.1024000002, 512665.3004999999], [458043.90270000044, 512625.2019999996], [457976.4003999997, 512631.0002999995], [457615.90160000045, 512478.8038999997], [457628.5990000004, 512219.0982000008], [457589.59979999997, 512080.3979000002], [457529.6995000001, 512029.6024999991], [457503.8016999997, 511947.09610000066], [457458.89910000004, 511874.7968000006], [457400.5982999997, 511871.69769999944], [457296.90020000003, 511805.69659999944], [457197.29980000015, 511786.3021000009], [456956.29669999983, 511839.39690000005], [456909.2008999996, 511870.7979000006], [456788.69930000044, 511865.6994000003], [456660.70299999975, 511837.7973999996], [456644.99619999994, 511864.9996000007], [456475.60140000004, 511917.60449999943], [456387.0, 511980.79649999924], [455389.4960000003, 512278.5011999998], [455384.9035, 512310.8019999992], [455525.3992999997, 512391.1989999991], [455602.80399999954, 512501.4974000007], [455637.3013000004, 512626.2017000001], [455680.10140000004, 512690.8032000009], [455711.59750000015, 512832.80260000005], [455816.4994999999, 513001.0044], [455824.2002999997, 513092.8980999999], [455907.09619999956, 513398.7006000001], [455944.6030000001, 513640.0014999993], [455775.80179999955, 513728.3961999994], [455611.19739999995, 513743.0020000003], [455563.90380000044, 513722.49789999984], [455517.7973999996, 513725.4969999995], [455420.7034999998, 513675.40139999986], [455299.40220000036, 513662.09520000033], [455241.2993000001, 513565.30289999954], [455048.49679999985, 513695.2957000006], [454916.8973000003, 513753.6989999991], [454739.9994999999, 513769.6043999996], [454495.2037000004, 513716.09970000014], [454432.5, 513904.29590000026], [454375.19680000003, 514007.8961999994], [454354.89749999996, 514199.7013000008], [454270.19600000046, 514257.8047000002], [454146.9983000001, 514391.4964000005], [454287.29619999975, 514547.60170000046], [454380.8035000004, 514732.19889999926], [454182.99619999994, 514807.3973999992], [453958.4996999996, 514948.1970000006], [453213.4017000003, 515562.90110000037], [453158.95139999967, 515611.59720000066], [453169.1009999998, 515621.7042999994], [452955.29839999974, 515807.2011999991], [452554.8027999997, 516194.5002999995], [452413.4989, 516304.8987000007], [451913.30399999954, 516875.49540000036], [452060.8989000004, 516918.2030999996], [452131.09729999956, 516956.6020999998], [452378.2017999999, 517210.29949999973], [452513.8990000002, 517295.5951000005], [452755.6030000001, 517397.2960000001], [453008.3964999998, 517450.6007000003], [453191.29669999983, 517526.2991000004], [453379.90249999985, 517712.9956], [453502.0036000004, 517798.30120000057], [453584.09970000014, 517834.50090000033], [453779.2026000004, 517879.8979000002], [453996.699, 517963.1040000003], [453997.6967000002, 517983.2982999999], [453922.5016999999, 518126.0974000003], [453816.0003000004, 518272.4955000002], [453789.20380000025, 518307.2954999991], [453729.3035000004, 518334.19779999927], [453625.29619999975, 518543.2980000004], [453531.6034000004, 518617.3968000002], [453500.4040999999, 518666.7026000004], [453400.39969999995, 518735.40300000086], [453383.8024000004, 518784.09899999946], [453398.6023000004, 518893.5976999998], [453382.7965000002, 518940.70419999957], [453391.19820000045, 519040.6955999993], [453348.3980999999, 519171.09830000065], [453359.1002000002, 519207.89770000055], [453338.80090000015, 519292.70340000093], [453348.8021, 519344.0987], [453272.0982999997, 519500.60390000045], [453261.1984000001, 519559.2971000001], [453109.80260000005, 519594.59699999914], [453060.1013000002, 519587.6989999991], [453030.6004999997, 519614.7013000008], [452966.6023000004, 519634.89550000057], [452884.6958999997, 519638.10459999926], [452800.1015999997, 519700.89660000056], [452685.1984000001, 520018.2957000006], [452436.4036999997, 520267.10449999943], [452421.29870000016, 520273.80260000005], [452187.50179999974, 520199.8037999999], [452098.10059999954, 520272.7028999999], [452027.1024000002, 520315.8005999997], [451996.0020000003, 520317.2002000008], [451698.19859999977, 520553.2026000004], [451895.09889999963, 520609.49650000036], [452057.6997999996, 520713.79670000076], [452174.1035000002, 520814.3979000002], [451894.29920000024, 521145.3030999992], [452052.59609999973, 521279.2048000004], [452525.69770000037, 521781.9009000007], [452591.3036000002, 521900.0971000008], [452720.70160000026, 522035.6983000003], [452853.9994999999, 522134.6998999994], [453076.59970000014, 522381.2993000001], [453207.3992999997, 522536.4048999995], [453234.8965999996, 522636.99620000087], [453448.3035000004, 522851.6046999991], [453486.4040000001, 522914.9966000002], [453613.4025999997, 523000.1021999996], [453733.4013, 523184.6994000003], [453867.80399999954, 523313.2026000004], [453933.5005999999, 523412.3041999992], [454459.6014999999, 523947.9009000007], [454585.80040000007, 524139.2960999999], [454666.9978, 524361.6024999991], [454724.8038999997, 524604.4030000009], [454749.5968000004, 524804.2958000004], [454758.09750000015, 525110.7980000004], [454710.5976999998, 525387.4988000002], [454494.0987999998, 526005.9017999992], [454460.4013, 526166.7958000004], [454455.9983999999, 526336.7971000001], [454498.0976999998, 526664.3034000006], [454656.99650000036, 526950.1015000008], [454784.49810000043, 527286.8950999994], [454820.6032999996, 527435.7025000006], [454821.7988, 527656.3993999995], [454752.79590000026, 528085.5965], [454796.9977000002, 528152.1974], [455062.70299999975, 528342.7028999999], [455106.79760000017, 528430.1978999991], [455525.93099999987, 528406.6542000007]]]}, \"bbox\": [451698.19859999977, 510800.3044000007, 478450.95999999996, 528430.1978999991]}], \"bbox\": [439865.49710000027, 510800.3044000007, 478450.95999999996, 537152.0012999997]}",
         "hovertemplate": "_index=%{location}<br>Percentage=%{z}<extra></extra>",
         "locations": [
          0,
          1,
          2
         ],
         "name": "",
         "type": "choropleth",
         "z": [
          0.07,
          0.15,
          0.09
         ]
        }
       ],
       "layout": {
        "coloraxis": {
         "cmax": 100,
         "cmin": 0,
         "colorbar": {
          "title": {
           "text": "Percentage"
          }
         },
         "colorscale": [
          [
           0,
           "#440154"
          ],
          [
           0.1111111111111111,
           "#482878"
          ],
          [
           0.2222222222222222,
           "#3e4989"
          ],
          [
           0.3333333333333333,
           "#31688e"
          ],
          [
           0.4444444444444444,
           "#26828e"
          ],
          [
           0.5555555555555556,
           "#1f9e89"
          ],
          [
           0.6666666666666666,
           "#35b779"
          ],
          [
           0.7777777777777778,
           "#6ece58"
          ],
          [
           0.8888888888888888,
           "#b5de2b"
          ],
          [
           1,
           "#fde725"
          ]
         ]
        },
        "geo": {
         "center": {},
         "domain": {
          "x": [
           0,
           1
          ],
          "y": [
           0,
           1
          ]
         }
        },
        "height": 360,
        "legend": {
         "tracegroupgap": 0
        },
        "margin": {
         "t": 60
        },
        "template": {
         "data": {
          "bar": [
           {
            "error_x": {
             "color": "#2a3f5f"
            },
            "error_y": {
             "color": "#2a3f5f"
            },
            "marker": {
             "line": {
              "color": "#E5ECF6",
              "width": 0.5
             },
             "pattern": {
              "fillmode": "overlay",
              "size": 10,
              "solidity": 0.2
             }
            },
            "type": "bar"
           }
          ],
          "barpolar": [
           {
            "marker": {
             "line": {
              "color": "#E5ECF6",
              "width": 0.5
             },
             "pattern": {
              "fillmode": "overlay",
              "size": 10,
              "solidity": 0.2
             }
            },
            "type": "barpolar"
           }
          ],
          "carpet": [
           {
            "aaxis": {
             "endlinecolor": "#2a3f5f",
             "gridcolor": "white",
             "linecolor": "white",
             "minorgridcolor": "white",
             "startlinecolor": "#2a3f5f"
            },
            "baxis": {
             "endlinecolor": "#2a3f5f",
             "gridcolor": "white",
             "linecolor": "white",
             "minorgridcolor": "white",
             "startlinecolor": "#2a3f5f"
            },
            "type": "carpet"
           }
          ],
          "choropleth": [
           {
            "colorbar": {
             "outlinewidth": 0,
             "ticks": ""
            },
            "type": "choropleth"
           }
          ],
          "contour": [
           {
            "colorbar": {
             "outlinewidth": 0,
             "ticks": ""
            },
            "colorscale": [
             [
              0,
              "#0d0887"
             ],
             [
              0.1111111111111111,
              "#46039f"
             ],
             [
              0.2222222222222222,
              "#7201a8"
             ],
             [
              0.3333333333333333,
              "#9c179e"
             ],
             [
              0.4444444444444444,
              "#bd3786"
             ],
             [
              0.5555555555555556,
              "#d8576b"
             ],
             [
              0.6666666666666666,
              "#ed7953"
             ],
             [
              0.7777777777777778,
              "#fb9f3a"
             ],
             [
              0.8888888888888888,
              "#fdca26"
             ],
             [
              1,
              "#f0f921"
             ]
            ],
            "type": "contour"
           }
          ],
          "contourcarpet": [
           {
            "colorbar": {
             "outlinewidth": 0,
             "ticks": ""
            },
            "type": "contourcarpet"
           }
          ],
          "heatmap": [
           {
            "colorbar": {
             "outlinewidth": 0,
             "ticks": ""
            },
            "colorscale": [
             [
              0,
              "#0d0887"
             ],
             [
              0.1111111111111111,
              "#46039f"
             ],
             [
              0.2222222222222222,
              "#7201a8"
             ],
             [
              0.3333333333333333,
              "#9c179e"
             ],
             [
              0.4444444444444444,
              "#bd3786"
             ],
             [
              0.5555555555555556,
              "#d8576b"
             ],
             [
              0.6666666666666666,
              "#ed7953"
             ],
             [
              0.7777777777777778,
              "#fb9f3a"
             ],
             [
              0.8888888888888888,
              "#fdca26"
             ],
             [
              1,
              "#f0f921"
             ]
            ],
            "type": "heatmap"
           }
          ],
          "heatmapgl": [
           {
            "colorbar": {
             "outlinewidth": 0,
             "ticks": ""
            },
            "colorscale": [
             [
              0,
              "#0d0887"
             ],
             [
              0.1111111111111111,
              "#46039f"
             ],
             [
              0.2222222222222222,
              "#7201a8"
             ],
             [
              0.3333333333333333,
              "#9c179e"
             ],
             [
              0.4444444444444444,
              "#bd3786"
             ],
             [
              0.5555555555555556,
              "#d8576b"
             ],
             [
              0.6666666666666666,
              "#ed7953"
             ],
             [
              0.7777777777777778,
              "#fb9f3a"
             ],
             [
              0.8888888888888888,
              "#fdca26"
             ],
             [
              1,
              "#f0f921"
             ]
            ],
            "type": "heatmapgl"
           }
          ],
          "histogram": [
           {
            "marker": {
             "pattern": {
              "fillmode": "overlay",
              "size": 10,
              "solidity": 0.2
             }
            },
            "type": "histogram"
           }
          ],
          "histogram2d": [
           {
            "colorbar": {
             "outlinewidth": 0,
             "ticks": ""
            },
            "colorscale": [
             [
              0,
              "#0d0887"
             ],
             [
              0.1111111111111111,
              "#46039f"
             ],
             [
              0.2222222222222222,
              "#7201a8"
             ],
             [
              0.3333333333333333,
              "#9c179e"
             ],
             [
              0.4444444444444444,
              "#bd3786"
             ],
             [
              0.5555555555555556,
              "#d8576b"
             ],
             [
              0.6666666666666666,
              "#ed7953"
             ],
             [
              0.7777777777777778,
              "#fb9f3a"
             ],
             [
              0.8888888888888888,
              "#fdca26"
             ],
             [
              1,
              "#f0f921"
             ]
            ],
            "type": "histogram2d"
           }
          ],
          "histogram2dcontour": [
           {
            "colorbar": {
             "outlinewidth": 0,
             "ticks": ""
            },
            "colorscale": [
             [
              0,
              "#0d0887"
             ],
             [
              0.1111111111111111,
              "#46039f"
             ],
             [
              0.2222222222222222,
              "#7201a8"
             ],
             [
              0.3333333333333333,
              "#9c179e"
             ],
             [
              0.4444444444444444,
              "#bd3786"
             ],
             [
              0.5555555555555556,
              "#d8576b"
             ],
             [
              0.6666666666666666,
              "#ed7953"
             ],
             [
              0.7777777777777778,
              "#fb9f3a"
             ],
             [
              0.8888888888888888,
              "#fdca26"
             ],
             [
              1,
              "#f0f921"
             ]
            ],
            "type": "histogram2dcontour"
           }
          ],
          "mesh3d": [
           {
            "colorbar": {
             "outlinewidth": 0,
             "ticks": ""
            },
            "type": "mesh3d"
           }
          ],
          "parcoords": [
           {
            "line": {
             "colorbar": {
              "outlinewidth": 0,
              "ticks": ""
             }
            },
            "type": "parcoords"
           }
          ],
          "pie": [
           {
            "automargin": true,
            "type": "pie"
           }
          ],
          "scatter": [
           {
            "fillpattern": {
             "fillmode": "overlay",
             "size": 10,
             "solidity": 0.2
            },
            "type": "scatter"
           }
          ],
          "scatter3d": [
           {
            "line": {
             "colorbar": {
              "outlinewidth": 0,
              "ticks": ""
             }
            },
            "marker": {
             "colorbar": {
              "outlinewidth": 0,
              "ticks": ""
             }
            },
            "type": "scatter3d"
           }
          ],
          "scattercarpet": [
           {
            "marker": {
             "colorbar": {
              "outlinewidth": 0,
              "ticks": ""
             }
            },
            "type": "scattercarpet"
           }
          ],
          "scattergeo": [
           {
            "marker": {
             "colorbar": {
              "outlinewidth": 0,
              "ticks": ""
             }
            },
            "type": "scattergeo"
           }
          ],
          "scattergl": [
           {
            "marker": {
             "colorbar": {
              "outlinewidth": 0,
              "ticks": ""
             }
            },
            "type": "scattergl"
           }
          ],
          "scattermapbox": [
           {
            "marker": {
             "colorbar": {
              "outlinewidth": 0,
              "ticks": ""
             }
            },
            "type": "scattermapbox"
           }
          ],
          "scatterpolar": [
           {
            "marker": {
             "colorbar": {
              "outlinewidth": 0,
              "ticks": ""
             }
            },
            "type": "scatterpolar"
           }
          ],
          "scatterpolargl": [
           {
            "marker": {
             "colorbar": {
              "outlinewidth": 0,
              "ticks": ""
             }
            },
            "type": "scatterpolargl"
           }
          ],
          "scatterternary": [
           {
            "marker": {
             "colorbar": {
              "outlinewidth": 0,
              "ticks": ""
             }
            },
            "type": "scatterternary"
           }
          ],
          "surface": [
           {
            "colorbar": {
             "outlinewidth": 0,
             "ticks": ""
            },
            "colorscale": [
             [
              0,
              "#0d0887"
             ],
             [
              0.1111111111111111,
              "#46039f"
             ],
             [
              0.2222222222222222,
              "#7201a8"
             ],
             [
              0.3333333333333333,
              "#9c179e"
             ],
             [
              0.4444444444444444,
              "#bd3786"
             ],
             [
              0.5555555555555556,
              "#d8576b"
             ],
             [
              0.6666666666666666,
              "#ed7953"
             ],
             [
              0.7777777777777778,
              "#fb9f3a"
             ],
             [
              0.8888888888888888,
              "#fdca26"
             ],
             [
              1,
              "#f0f921"
             ]
            ],
            "type": "surface"
           }
          ],
          "table": [
           {
            "cells": {
             "fill": {
              "color": "#EBF0F8"
             },
             "line": {
              "color": "white"
             }
            },
            "header": {
             "fill": {
              "color": "#C8D4E3"
             },
             "line": {
              "color": "white"
             }
            },
            "type": "table"
           }
          ]
         },
         "layout": {
          "annotationdefaults": {
           "arrowcolor": "#2a3f5f",
           "arrowhead": 0,
           "arrowwidth": 1
          },
          "autotypenumbers": "strict",
          "coloraxis": {
           "colorbar": {
            "outlinewidth": 0,
            "ticks": ""
           }
          },
          "colorscale": {
           "diverging": [
            [
             0,
             "#8e0152"
            ],
            [
             0.1,
             "#c51b7d"
            ],
            [
             0.2,
             "#de77ae"
            ],
            [
             0.3,
             "#f1b6da"
            ],
            [
             0.4,
             "#fde0ef"
            ],
            [
             0.5,
             "#f7f7f7"
            ],
            [
             0.6,
             "#e6f5d0"
            ],
            [
             0.7,
             "#b8e186"
            ],
            [
             0.8,
             "#7fbc41"
            ],
            [
             0.9,
             "#4d9221"
            ],
            [
             1,
             "#276419"
            ]
           ],
           "sequential": [
            [
             0,
             "#0d0887"
            ],
            [
             0.1111111111111111,
             "#46039f"
            ],
            [
             0.2222222222222222,
             "#7201a8"
            ],
            [
             0.3333333333333333,
             "#9c179e"
            ],
            [
             0.4444444444444444,
             "#bd3786"
            ],
            [
             0.5555555555555556,
             "#d8576b"
            ],
            [
             0.6666666666666666,
             "#ed7953"
            ],
            [
             0.7777777777777778,
             "#fb9f3a"
            ],
            [
             0.8888888888888888,
             "#fdca26"
            ],
            [
             1,
             "#f0f921"
            ]
           ],
           "sequentialminus": [
            [
             0,
             "#0d0887"
            ],
            [
             0.1111111111111111,
             "#46039f"
            ],
            [
             0.2222222222222222,
             "#7201a8"
            ],
            [
             0.3333333333333333,
             "#9c179e"
            ],
            [
             0.4444444444444444,
             "#bd3786"
            ],
            [
             0.5555555555555556,
             "#d8576b"
            ],
            [
             0.6666666666666666,
             "#ed7953"
            ],
            [
             0.7777777777777778,
             "#fb9f3a"
            ],
            [
             0.8888888888888888,
             "#fdca26"
            ],
            [
             1,
             "#f0f921"
            ]
           ]
          },
          "colorway": [
           "#636efa",
           "#EF553B",
           "#00cc96",
           "#ab63fa",
           "#FFA15A",
           "#19d3f3",
           "#FF6692",
           "#B6E880",
           "#FF97FF",
           "#FECB52"
          ],
          "font": {
           "color": "#2a3f5f"
          },
          "geo": {
           "bgcolor": "white",
           "lakecolor": "white",
           "landcolor": "#E5ECF6",
           "showlakes": true,
           "showland": true,
           "subunitcolor": "white"
          },
          "hoverlabel": {
           "align": "left"
          },
          "hovermode": "closest",
          "mapbox": {
           "style": "light"
          },
          "paper_bgcolor": "white",
          "plot_bgcolor": "#E5ECF6",
          "polar": {
           "angularaxis": {
            "gridcolor": "white",
            "linecolor": "white",
            "ticks": ""
           },
           "bgcolor": "#E5ECF6",
           "radialaxis": {
            "gridcolor": "white",
            "linecolor": "white",
            "ticks": ""
           }
          },
          "scene": {
           "xaxis": {
            "backgroundcolor": "#E5ECF6",
            "gridcolor": "white",
            "gridwidth": 2,
            "linecolor": "white",
            "showbackground": true,
            "ticks": "",
            "zerolinecolor": "white"
           },
           "yaxis": {
            "backgroundcolor": "#E5ECF6",
            "gridcolor": "white",
            "gridwidth": 2,
            "linecolor": "white",
            "showbackground": true,
            "ticks": "",
            "zerolinecolor": "white"
           },
           "zaxis": {
            "backgroundcolor": "#E5ECF6",
            "gridcolor": "white",
            "gridwidth": 2,
            "linecolor": "white",
            "showbackground": true,
            "ticks": "",
            "zerolinecolor": "white"
           }
          },
          "shapedefaults": {
           "line": {
            "color": "#2a3f5f"
           }
          },
          "ternary": {
           "aaxis": {
            "gridcolor": "white",
            "linecolor": "white",
            "ticks": ""
           },
           "baxis": {
            "gridcolor": "white",
            "linecolor": "white",
            "ticks": ""
           },
           "bgcolor": "#E5ECF6",
           "caxis": {
            "gridcolor": "white",
            "linecolor": "white",
            "ticks": ""
           }
          },
          "title": {
           "x": 0.05
          },
          "xaxis": {
           "automargin": true,
           "gridcolor": "white",
           "linecolor": "white",
           "ticks": "",
           "title": {
            "standoff": 15
           },
           "zerolinecolor": "white",
           "zerolinewidth": 2
          },
          "yaxis": {
           "automargin": true,
           "gridcolor": "white",
           "linecolor": "white",
           "ticks": "",
           "title": {
            "standoff": 15
           },
           "zerolinecolor": "white",
           "zerolinewidth": 2
          }
         }
        }
       }
      },
      "text/html": [
       "<div>                            <div id=\"c478ce6c-7b87-474e-81e2-e39b7325552e\" class=\"plotly-graph-div\" style=\"height:525px; width:100%;\"></div>            <script type=\"text/javascript\">                require([\"plotly\"], function(Plotly) {                    window.PLOTLYENV=window.PLOTLYENV || {};                                    if (document.getElementById(\"c478ce6c-7b87-474e-81e2-e39b7325552e\")) {                    Plotly.newPlot(                        \"c478ce6c-7b87-474e-81e2-e39b7325552e\",                        [{\"coloraxis\":\"coloraxis\",\"geo\":\"geo\",\"geojson\":\"{\\\"type\\\": \\\"FeatureCollection\\\", \\\"features\\\": [{\\\"id\\\": \\\"3\\\", \\\"type\\\": \\\"Feature\\\", \\\"properties\\\": {}, \\\"geometry\\\": {\\\"type\\\": \\\"Polygon\\\", \\\"coordinates\\\": [[[447213.8995000003, 537036.1044999994], [447233.6958999997, 537035.1046999991], [447259.09889999963, 537108.8036000002], [447280.70100000035, 537120.1004000008], [447378.0998999998, 537095.0976], [447455.29839999974, 537023.6980000008], [447491.4035, 537028.7964999992], [447519.50270000007, 537071.6042999998], [447550.49590000045, 537078.1023999993], [447629.3021999998, 537027.0969999991], [447721.5974000003, 536998.3953000009], [447851.20150000043, 537036.0044999998], [447834.20019999985, 536965.0047999993], [447923.7002999997, 536980.2005000003], [447977.79619999975, 536742.9984000009], [448059.19969999976, 536539.5965999998], [448168.7023, 536406.4046999998], [448290.10259999987, 536324.7981000002], [448488.39630000014, 536450.5021000002], [448560.5982999997, 536637.8983999994], [448677.8019000003, 536626.1018000003], [448740.7034, 536600.5990999993], [448793.10080000013, 536547.8041999992], [449072.9923999999, 536806.4272000007], [449208.1900000004, 536702.6099999994], [449299.2999999998, 536659.2300000004], [449353.46999999974, 536590.5999999996], [449426.9199999999, 536549.8300000001], [449475.11000000034, 536467.9199999999], [449657.9000000004, 536303.5700000003], [449721.98000000045, 536203.6500000004], [449888.76999999955, 536032.9900000002], [450089.9500000002, 535922.25], [450272.5, 535780.25], [450367.7000000002, 535756.0], [450383.2000000002, 535778.1500000004], [450402.2000000002, 535754.3000000007], [450509.9000000004, 535706.9000000004], [450568.5999999996, 535615.6999999993], [450701.9500000002, 535569.9499999993], [450925.0499999998, 535372.8000000007], [450969.4000000004, 535357.4000000004], [450982.7999999998, 535313.0500000007], [451097.0999999996, 535255.6999999993], [451165.2999999998, 535165.0999999996], [451239.0, 535140.0], [451317.9000000004, 535082.0999999996], [451333.4000000004, 535084.5999999996], [451303.0999999996, 535126.0999999996], [451348.7000000002, 535122.1999999993], [451496.9000000004, 535061.1999999993], [451627.4500000002, 534933.5], [451697.75, 534891.6999999993], [451830.25, 534844.4499999993], [451941.0499999998, 534776.4000000004], [451973.7000000002, 534810.1999999993], [451946.9500000002, 534850.0], [451955.1500000004, 534862.5999999996], [451983.5499999998, 534859.5], [451996.0999999996, 534812.8000000007], [452021.8499999996, 534806.9499999993], [452064.5, 534751.75], [452098.7000000002, 534780.25], [452095.5999999996, 534801.0500000007], [452125.7000000002, 534780.3000000007], [452126.5, 534761.6999999993], [452110.1500000004, 534757.0], [452201.7999999998, 534766.0500000007], [452203.7000000002, 534745.0500000007], [452181.4500000002, 534722.5500000007], [452214.5999999996, 534720.4499999993], [452220.5499999998, 534688.5999999996], [452207.7999999998, 534680.0], [452222.9500000002, 534680.4499999993], [452207.2999999998, 534673.9000000004], [452202.5999999996, 534630.1500000004], [452250.7000000002, 534618.75], [452235.25, 534590.6500000004], [452284.5999999996, 534609.6500000004], [452255.2999999998, 534570.5999999996], [452327.25, 534584.3000000007], [452368.4500000002, 534618.9000000004], [452356.2000000002, 534589.6500000004], [452374.4500000002, 534604.4000000004], [452394.1500000004, 534647.0500000007], [452391.7000000002, 534714.0500000007], [452414.6500000004, 534751.75], [452486.0, 534743.8000000007], [452493.75, 534730.4499999993], [452478.5499999998, 534712.5], [452500.9000000004, 534724.1999999993], [452502.4500000002, 534691.9000000004], [452554.7000000002, 534670.1500000004], [452532.0499999998, 534656.9499999993], [452496.2999999998, 534684.4000000004], [452498.2000000002, 534645.5999999996], [452528.0999999996, 534656.6999999993], [452567.4500000002, 534625.1999999993], [452562.2000000002, 534613.0999999996], [452548.1500000004, 534619.75], [452545.1500000004, 534600.4499999993], [452541.25, 534623.4499999993], [452525.4500000002, 534616.8499999996], [452535.5, 534577.5], [452513.9000000004, 534543.8000000007], [452528.0, 534537.9499999993], [452550.6500000004, 534572.3499999996], [452573.9000000004, 534578.1999999993], [452580.6500000004, 534510.5500000007], [452567.25, 534488.0999999996], [452585.25, 534492.8000000007], [452610.5999999996, 534428.1500000004], [452637.4000000004, 534437.1500000004], [452657.3200000003, 534405.1899999995], [452680.0999999996, 534402.8000000007], [452672.75, 534471.1999999993], [452689.2000000002, 534483.3499999996], [452713.75, 534457.0999999996], [452711.7999999998, 534493.4499999993], [452740.0700000003, 534476.1999999993], [452731.5, 534459.9000000004], [452781.6500000004, 534469.0999999996], [452842.1500000004, 534506.4499999993], [452868.6500000004, 534473.75], [452853.5999999996, 534562.8000000007], [452867.5, 534567.3499999996], [452891.75, 534509.0], [452875.4000000004, 534448.6999999993], [452908.4000000004, 534467.25], [452909.2000000002, 534440.9000000004], [452927.16810000036, 534463.9554999992], [452912.4500000002, 534428.0999999996], [452870.3499999996, 534410.0500000007], [452877.5499999998, 534371.75], [452892.75, 534370.5999999996], [452903.7999999998, 534392.0500000007], [452953.9500000002, 534392.1999999993], [452948.9500000002, 534358.6500000004], [452970.7999999998, 534344.3499999996], [452957.0499999998, 534342.6999999993], [452968.4000000004, 534313.8499999996], [452998.8499999996, 534289.4499999993], [453019.5499999998, 534316.4499999993], [453044.0499999998, 534310.6999999993], [453009.9500000002, 534278.3499999996], [453043.4000000004, 534262.75], [453061.25, 534325.1500000004], [453088.5, 534340.8499999996], [453112.0999999996, 534325.8000000007], [453096.9000000004, 534284.0500000007], [453130.7999999998, 534244.0], [453083.7000000002, 534273.6999999993], [453069.0, 534244.9000000004], [453099.7249999996, 534214.0], [453133.5999999996, 534242.6999999993], [453140.7999999998, 534220.3499999996], [453058.7999999998, 534183.1999999993], [453104.2000000002, 534166.4000000004], [453103.0499999998, 534140.5], [453141.8499999996, 534116.1999999993], [453131.7999999998, 534103.5], [453147.4000000004, 534045.1999999993], [453211.0, 534008.5999999996], [453211.2000000002, 533994.9499999993], [453255.25, 533991.1999999993], [453257.3499999996, 533945.0], [453277.5, 533931.5999999996], [453250.4000000004, 533893.4000000004], [453295.0999999996, 533882.4000000004], [453262.6500000004, 533857.5999999996], [453303.5499999998, 533783.4000000004], [453288.0499999998, 533779.6999999993], [453290.5, 533750.1500000004], [453258.0499999998, 533755.1999999993], [453288.7000000002, 533726.4499999993], [453247.5999999996, 533698.4000000004], [453242.4500000002, 533683.8000000007], [453258.0999999996, 533681.1500000004], [453235.2999999998, 533670.8499999996], [453261.5999999996, 533666.4499999993], [453260.8499999996, 533651.8000000007], [453238.7999999998, 533653.5500000007], [453253.1500000004, 533637.3000000007], [453229.4500000002, 533639.4499999993], [453246.25, 533626.3000000007], [453236.4500000002, 533593.75], [453271.25, 533576.0500000007], [453263.2999999998, 533556.0500000007], [453234.0, 533546.9000000004], [453240.2000000002, 533532.3499999996], [453221.9000000004, 533531.1999999993], [453223.75, 533510.0500000007], [453238.9000000004, 533509.1500000004], [453248.5259999996, 533453.5299999993], [453351.9500000002, 533292.8499999996], [453342.2000000002, 533286.6999999993], [453179.11000000034, 533522.5600000005], [453140.53000000026, 533538.1199999992], [453070.0499999998, 533523.3000000007], [453073.38999999966, 533501.8300000001], [453033.1299999999, 533458.2200000007], [453039.6299999999, 533444.1699999999], [453070.71999999974, 533441.0], [453055.58999999985, 533393.8200000003], [453031.03000000026, 533415.0600000005], [452991.5, 533393.8000000007], [452917.8700000001, 533416.5500000007], [452836.45999999996, 533405.3200000003], [452771.36000000034, 533429.6799999997], [452741.01999999955, 533467.0999999996], [452753.0599999996, 533479.9299999997], [452646.78000000026, 533432.5], [452443.65479999967, 533454.6295999996], [452424.2000000002, 533428.6199999992], [452379.26999999955, 533443.6699999999], [452181.78000000026, 533359.3499999996], [452089.66000000015, 533255.5099999998], [452059.9900000002, 533184.3399999999], [452018.2400000002, 533147.9199999999], [452145.07239999995, 532908.2554000001], [452113.69039999973, 532849.8329000007], [452056.36199999973, 532825.4019000009], [452034.2000000002, 532752.5], [451958.5499999998, 532652.4000000004], [451898.5, 532611.4499999993], [451800.4299999997, 532578.7599999998], [451789.1500000004, 532334.0], [451831.3300000001, 532210.5899999999], [451832.3200000003, 532135.9399999995], [451892.0599999996, 531874.8100000005], [451989.4000000004, 531732.8000000007], [452048.7000000002, 531577.5], [452291.2000000002, 531294.5500000007], [452287.0999999996, 531262.8000000007], [452243.5499999998, 531277.4499999993], [452246.8499999996, 531259.0500000007], [452302.4500000002, 531223.75], [452329.25, 531235.75], [452433.75, 531196.9000000004], [452481.6500000004, 531134.4499999993], [452489.0499999998, 531089.0999999996], [452471.9000000004, 531019.25], [452519.5, 530761.0], [452528.7000000002, 530745.6999999993], [452581.0, 530773.3000000007], [452569.5999999996, 530743.5999999996], [452606.5999999996, 530738.8000000007], [452578.4000000004, 530704.4000000004], [452580.5999999996, 530681.5999999996], [452553.0999999996, 530675.1999999993], [452562.2999999998, 530646.9000000004], [452585.5999999996, 530654.9000000004], [452571.4000000004, 530635.5999999996], [452575.2000000002, 530571.3000000007], [452660.75, 530485.3000000007], [452713.6500000004, 530459.0], [452659.2999999998, 530452.8000000007], [452621.5499999998, 530467.8000000007], [452668.1500000004, 530347.3000000007], [452741.5, 530230.8000000007], [452741.8499999996, 530195.6500000004], [452715.8499999996, 530159.9499999993], [452773.9000000004, 530156.0], [452967.2999999998, 529811.1500000004], [452971.5499999998, 529713.8000000007], [452994.7999999998, 529721.9000000004], [453005.0999999996, 529680.5999999996], [453021.5999999996, 529674.1999999993], [453064.5999999996, 529700.1999999993], [453146.0, 529621.0999999996], [453169.5999999996, 529568.1999999993], [453146.0, 529558.1999999993], [453204.0, 529441.5999999996], [453386.2999999998, 529205.5999999996], [453470.0, 529143.5999999996], [453574.5, 529026.9000000004], [453891.0, 528767.3000000007], [454018.5, 528623.0], [454204.0, 528468.0], [454324.0999999996, 528441.8000000007], [454392.0999999996, 528481.9000000004], [454463.2764999997, 528458.2407000009], [455106.79760000017, 528430.1978999991], [455062.70299999975, 528342.7028999999], [454796.9977000002, 528152.1974], [454756.3990000002, 528100.3023000006], [454766.4992000004, 527948.7957000006], [454826.00380000006, 527615.3011000007], [454820.6032999996, 527435.7025000006], [454784.49810000043, 527286.8950999994], [454656.99650000036, 526950.1015000008], [454567.0016999999, 526768.3036000002], [454499.9034000002, 526669.7017999999], [454457.49899999984, 526363.7993999999], [454287.79920000024, 526366.7984999996], [454114.00150000025, 526396.1000999995], [453699.5965, 526551.9955000002], [453447.29760000017, 526616.1971000005], [453220.69859999977, 526597.4024999999], [453145.60259999987, 526619.2961999997], [453046.2991000004, 526618.5964000002], [452561.2008999996, 526590.0045999996], [452512.5963000003, 526561.9026999995], [452359.09800000023, 526408.8965000007], [452297.2023, 526275.6045999993], [452358.19930000044, 526179.3022000007], [452351.99899999984, 526107.1028000005], [452101.9014999997, 525815.6963], [451916.0991000002, 525686.3033000007], [451741.0976999998, 525597.2988000009], [451515.90029999986, 525566.2977000009], [451260.09729999956, 525477.8029999994], [451148.50040000025, 525456.7990000006], [450927.40079999994, 525461.8975000009], [450807.699, 525600.0979999993], [450761.60089999996, 525626.5003999993], [450539.19859999977, 525583.7027000003], [450472.7022000002, 525604.9966000002], [450434.29669999983, 525657.6015000008], [450477.40189999994, 525766.0004999992], [450470.59970000014, 525807.7984999996], [450441.50289999973, 525835.9004999995], [450363.0016999999, 525817.1958000008], [450328.7022000002, 525781.9958999995], [450274.69710000046, 525674.9965000004], [450208.2006000001, 525663.0998999998], [450164.50179999974, 525723.1028000005], [450172.3016999997, 525816.6960000005], [450139.79959999956, 525855.9047999997], [450160.0990000004, 525875.2992000002], [450257.5968000004, 525882.6971000005], [450288.1035000002, 525903.8010000009], [450286.99870000035, 525937.6013999991], [450239.301, 525972.3014000002], [450156.80090000015, 525940.2006000001], [450103.8016999997, 525843.9981999993], [450082.19959999993, 525839.3994999994], [450058.80009999964, 525843.0984000005], [450051.8990000002, 525863.0026999991], [450069.5022, 525975.6005000006], [450016.50299999956, 526027.1956999991], [449966.19990000036, 526014.4993999992], [449885.59609999973, 525957.2957000006], [449874.20150000043, 525930.4034000002], [449881.39940000046, 525849.7964999992], [449865.1979, 525816.8958999999], [449812.89940000046, 525823.4041000009], [449819.3964999998, 525927.9041000009], [449798.5036000004, 525960.5047999993], [449766.9992000004, 525957.5955999997], [449708.8962000003, 525878.7982000001], [449677.8041000003, 525878.7982000001], [449659.69799999986, 525901.9015999995], [449644.70019999985, 526027.1956999991], [449591.8987999996, 526091.1974], [449602.7988, 526184.0008000005], [449570.70079999976, 526227.8982999995], [449537.3990000002, 526239.4049999993], [449494.2030999996, 526221.3002000004], [449429.0011, 526221.5000999998], [449237.8970999997, 526132.0956999995], [449238.90299999993, 526098.6952999998], [449284.3992999997, 526031.7043999992], [449334.3973000003, 525996.5044999998], [449342.7001, 525967.3028999995], [449253.1009999998, 525971.6016000006], [449221.70380000025, 525914.5979999993], [449150.4994999999, 525858.2040999997], [449128.60059999954, 525771.0989999995], [449004.29810000025, 525851.1961000003], [448925.3021, 525857.1043999996], [448786.00179999974, 525917.0972000007], [448685.0987999998, 525899.9022000004], [448630.3021, 525852.4956999999], [448557.8032999998, 525822.4043000005], [448472.85030000005, 525830.2020999994], [448450.09800000023, 525779.7964999992], [448396.2001, 525735.0993000008], [448362.0985000003, 525676.2961999997], [448256.1989000002, 525694.4010000005], [448181.0039999997, 525613.3041999992], [448112.0999999996, 525621.102], [448090.90189999994, 525608.7954999991], [448059.90050000045, 525630.6992000006], [448027.2006000001, 525693.1013999991], [448045.80150000006, 525689.3024000004], [448117.89630000014, 525862.3028999995], [447955.30370000005, 525952.1972000003], [447887.1995000001, 525745.6963], [447807.8985000001, 525752.0044999998], [447739.2006000001, 525779.5965999998], [447680.0011, 525746.5960000008], [447676.80200000014, 525725.4021000005], [447622.5990000004, 525707.5972000007], [447433.3995000003, 525690.2021999992], [447413.70210000034, 525737.8984999992], [447390.5005000001, 525745.2963999994], [447381.29899999965, 525903.2011999991], [447323.79789999966, 525857.2043999992], [447296.2017000001, 525939.1009], [447105.3037999999, 525820.4048999995], [447023.39740000013, 525880.3977000006], [446979.5996000003, 525891.6044999994], [446900.3975999998, 525984.4978999998], [446834.19799999986, 526030.2049000002], [446702.1037999997, 526082.6997999996], [446639.2023, 526128.1967999991], [446590.1029000003, 526138.0040000007], [446265.70100000035, 526092.8969], [446192.3035000004, 526069.3037], [446174.4034000002, 526127.9968999997], [445864.6035000002, 525990.9960999992], [445775.6969999997, 526185.5003999993], [445569.90029999986, 526096.6958000008], [445565.2006000001, 526112.3014000002], [445471.50370000023, 526091.4973000009], [445354.80310000014, 526096.0960000008], [445379.3981999997, 526381.6042999998], [445361.80319999997, 526706.4013], [445407.29949999973, 526898.1963999998], [445397.8010999998, 526934.3959999997], [445216.40160000045, 526966.8967000004], [445105.2993999999, 526958.5990999993], [444996.5965, 527059.7002000008], [444892.29640000034, 527066.1983000003], [444830.6975999996, 527088.9017999992], [444737.9983999999, 527234.5000999998], [444736.7039000001, 527285.6954999994], [444652.2002999997, 527354.3958], [444626.50040000025, 527400.2027000003], [444592.10199999996, 527416.6980000008], [444563.5987999998, 527459.5956999995], [444565.29729999974, 527494.5956999995], [444516.0990000004, 527522.6975999996], [444505.7019999996, 527557.9975000005], [444540.00150000025, 527547.2006000001], [444550.90139999986, 527562.2962999996], [444538.09690000024, 527632.1963], [444460.8984000003, 527669.8955000006], [444420.39859999996, 527715.1026000008], [444348.79849999957, 527749.1028000005], [444320.1963999998, 527791.8005999997], [444289.3021, 527806.5964000002], [444267.2960999999, 527850.8037], [444296.09609999973, 527878.8957000002], [444216.0036000004, 528004.8995999992], [444165.89829999954, 527955.9035999998], [444126.0993999997, 528005.7993999999], [444064.6984000001, 528000.5009000003], [443921.3992999997, 527962.9015999995], [443854.10309999995, 527924.3026999999], [443574.6037999997, 527983.9956], [443562.20320000034, 527912.9958999995], [443459.7006000001, 527909.7968000006], [443410.70019999985, 527859.9011000004], [443402.0016000001, 527805.6965999994], [443373.90249999985, 527758.9000000004], [443403.0981999999, 527256.0040000007], [443377.00260000024, 527027.8992999997], [443336.89859999996, 526924.1989999991], [443225.3016999997, 526721.9967999998], [443024.09750000015, 526445.3959999997], [443005.3976999996, 526449.1050000004], [442959.70359999966, 526622.3953000009], [442869.6015999997, 526825.3971999995], [442718.29640000034, 526990.4000000004], [442601.1010999996, 527039.8958], [442535.99810000043, 527035.9969999995], [442058.6997999996, 527269.4001000002], [441989.90299999993, 527264.1017000005], [441745.0, 527184.2045000009], [441611.801, 527217.0951000005], [441250.79920000024, 527462.9047999997], [441090.5976999998, 527631.4965000004], [440896.4018000001, 527777.6046999991], [440743.8021999998, 527799.7982999999], [440592.90110000037, 527789.8012000006], [440465.8035000004, 527803.4973000009], [440353.0027999999, 527766.9977000002], [440140.1978000002, 527748.9028999992], [440083.80150000006, 527773.0960000008], [440028.6997999996, 527860.9008000009], [439962.09619999956, 527857.8016999997], [439936.2973999996, 527871.8977000006], [439913.90380000044, 527956.4035], [439868.10250000004, 528028.6028000005], [439865.49710000027, 528076.8990000002], [440179.09800000023, 528072.6001999993], [440398.2022000002, 528120.0965999998], [440462.10140000004, 528117.2973999996], [440625.8978000004, 528204.3025000002], [440818.7993000001, 528260.0965999998], [440980.7982000001, 528376.3033000007], [440999.80310000014, 528375.3036000002], [441044.2028000001, 528332.2959000003], [441081.89919999987, 528330.3964000009], [441223.79669999983, 528414.1024999991], [441346.9036999997, 528422.3001000006], [441440.60059999954, 528449.8023000006], [441523.39749999996, 528351.3004999999], [441556.8970999997, 528342.0031000003], [441635.59619999956, 528361.9974000007], [441665.5011, 528321.7989000008], [441704.09619999956, 528355.6992000006], [441865.6004999997, 528398.2970000003], [441922.4007000001, 528397.7971000001], [442037.79860000033, 528353.8997000009], [442061.70100000035, 528367.6958000008], [442046.3981999997, 528595.1007000003], [442120.70270000026, 528612.0957999993], [442176.7030999996, 528583.1041000001], [442267.8027999997, 528599.7993000001], [442424.1492999997, 528596.7946000006], [442470.7185000004, 528560.5997000001], [442604.5970999999, 528543.3955000006], [442606.79849999957, 528633.2996999994], [442560.9972000001, 528764.2022999991], [442585.2971999999, 528894.6531000007], [442531.7104000002, 528972.4375], [442496.7419999996, 529059.1945999991], [442473.87229999993, 529072.6213000007], [442452.62569999974, 529136.6563000008], [442453.39910000004, 529267.6981000006], [442475.0011999998, 529356.4026999995], [442359.0014000004, 529459.9031000007], [442326.6973000001, 529441.4984000009], [442253.1019000001, 529463.5021000002], [442211.00260000024, 529455.9043000005], [442192.0965999998, 529471.1998999994], [442197.3981999997, 529497.9022000004], [442268.29750000034, 529550.5972000007], [442277.2022000002, 529587.6964999996], [442262.5011999998, 529627.9949999992], [442287.50019999966, 529641.4012000002], [442258.50239999965, 529710.7013000008], [442237.5022, 529704.4031000007], [442217.4007000001, 529729.1960000005], [442264.49650000036, 529755.2985999994], [442259.3021, 529797.0965999998], [442166.29789999966, 529897.9977000002], [442175.10360000003, 529920.0013999995], [442243.6035000002, 529963.5988999996], [442246.2997000003, 530078.1961000003], [442280.5991000002, 530127.2020999994], [442368.2028999999, 530165.8011000007], [442403.6979, 530206.4993999992], [442442.3013000004, 530204.3000000007], [442451.40380000044, 530275.7995999996], [442496.3970999997, 530278.2989000008], [442522.40199999977, 530312.2991000004], [442495.3004999999, 530373.2017000001], [442504.09800000023, 530433.0045999996], [442467.80319999997, 530472.7031999994], [442438.59920000006, 530590.4995000008], [442620.09779999964, 530607.1046999991], [442652.59979999997, 530665.0980999991], [442788.6020999998, 530699.7982000001], [442940.3030000003, 530893.6027000006], [443029.59700000007, 530885.8049999997], [443045.5016999999, 530941.7989000008], [443111.0005000001, 531045.4991999995], [443138.9017000003, 531119.6980000008], [443128.9994000001, 531142.1016000006], [443151.8959999997, 531233.3955000006], [443149.7028000001, 531357.4000000004], [443079.19930000044, 531552.3041999992], [443178.19770000037, 531580.6960000005], [443173.59700000007, 531735.6017000005], [443192.7997000003, 531934.9046999998], [443178.60170000046, 531995.9971999992], [443191.7030999996, 532008.3036000002], [443239.7966, 532002.7951999996], [443235.8965999996, 532101.7969000004], [443208.4983000001, 532273.5976999998], [443158.7971000001, 532299.7002000008], [443187.30030000024, 532434.6016000006], [443154.60030000005, 532626.2968000006], [443003.3035000004, 532868.8972999994], [442811.9025999997, 532915.8038999997], [442729.99619999994, 532913.4046], [442342.7999, 533059.9025999997], [442351.00370000023, 533093.6030000001], [443091.50090000033, 533200.8023000006], [443147.19629999995, 532998.6001999993], [443300.2988, 532928.1004000008], [443326.89740000013, 532939.5971000008], [443444.7028000001, 533133.0017000008], [443546.29849999957, 533109.7982999999], [443684.5022, 533130.8023000006], [443862.3975999998, 533109.8982999995], [443972.0981999999, 533132.0020000003], [443946.59619999956, 533280.7993999999], [443969.09700000007, 533351.6991000008], [444099.3030000003, 533442.8029999994], [444226.20270000026, 533496.2977000009], [444401.20409999974, 533655.8021000009], [444295.4035, 533872.5999999996], [444385.49729999993, 533957.8956000004], [444317.2034, 534183.1010999996], [444317.4013, 534237.0956999995], [444606.90189999994, 534277.4041000009], [444608.1963999998, 534380.2047000006], [444706.7001, 534413.8950999994], [444805.50069999974, 534529.0021000002], [444793.80090000015, 534550.4959999993], [444941.0, 534588.9049999993], [444933.2991000004, 534734.5033], [444997.8002000004, 534738.2021999992], [444990.6023000004, 534848.4006999992], [444957.20160000026, 534959.6987999994], [445116.80119999964, 535009.9045000002], [445071.1978000002, 535111.9952000007], [445103.60089999996, 535198.8004000001], [445099.3958999999, 535243.7974999994], [445063.99980000034, 535283.5961000007], [445021.8015999999, 535414.6985999998], [444930.70189999975, 535513.7002000008], [444926.5959000001, 535534.0044], [444961.9012000002, 535539.3028999995], [444963.2039999999, 535565.8953000009], [444838.90139999986, 535798.9986000005], [444889.7982000001, 535912.0962000005], [444895.1986999996, 535958.5029000007], [444885.0985000003, 535995.2024000008], [444836.1969999997, 536055.4952000007], [444954.20040000044, 536166.3035000004], [444984.30310000014, 536098.0030000005], [444982.59640000015, 536124.7952999994], [445041.79590000026, 536130.0037999991], [445058.7971999999, 536148.5985000003], [445076.4003999997, 536136.3019999992], [445233.8975999998, 536238.8026999999], [445355.0999999996, 536250.0994000006], [445376.1001000004, 536239.1026000008], [445436.29729999974, 536266.5047999993], [445547.6963999998, 536265.4949999992], [445693.5020000003, 536183.0986000001], [445815.8504999997, 536162.9543999992], [445838.2028000001, 536188.8969999999], [445873.4009999996, 536193.6955999993], [445931.2977999998, 536270.8035000004], [446120.39829999954, 536391.0990999993], [446259.2039000001, 536555.8018999994], [446300.3962000003, 536582.4043000005], [446297.19710000046, 536620.0035999995], [446317.39749999996, 536638.7982000001], [446321.9983000001, 536681.9957999997], [446354.69820000045, 536670.9989999998], [446359.40199999977, 536691.8030999992], [446395.6019000001, 536681.9957999997], [446474.5979000004, 536731.2017000001], [446605.80150000006, 536771.5001999997], [446696.0025000004, 536842.4999000002], [446752.4977000002, 536959.3964000009], [446799.5027999999, 536931.5044], [446953.6029000003, 536955.0976], [447072.1009999998, 537135.9958999995], [447097.00100000016, 537152.0012999997], [447139.9001000002, 537125.2989000008], [447187.59779999964, 537048.3010000009], [447213.8995000003, 537036.1044999994]]]}, \\\"bbox\\\": [439865.49710000027, 525456.7990000006, 455106.79760000017, 537152.0012999997]}, {\\\"id\\\": \\\"10\\\", \\\"type\\\": \\\"Feature\\\", \\\"properties\\\": {}, \\\"geometry\\\": {\\\"type\\\": \\\"Polygon\\\", \\\"coordinates\\\": [[[448489.89690000005, 522071.7979000006], [448609.4008999998, 522071.09809999913], [448906.0993999997, 521984.0031000003], [449129.30140000023, 521819.60009999946], [449190.90029999986, 521746.8010000009], [449396.49909999967, 521566.00269999914], [449804.4977000002, 521362.50100000016], [449991.0998999998, 521297.19969999976], [450401.7039999999, 521190.1002999991], [450894.9977000002, 520988.99789999984], [451186.60080000013, 520930.60459999926], [451388.90160000045, 520941.6015000008], [451658.0038999999, 521012.6010999996], [451894.29920000024, 521145.3030999992], [452174.1035000002, 520814.3979000002], [452057.6997999996, 520713.79670000076], [451895.09889999963, 520609.49650000036], [451698.19859999977, 520553.2026000004], [451996.0020000003, 520317.2002000008], [452027.1024000002, 520315.8005999997], [452098.10059999954, 520272.7028999999], [452187.50179999974, 520199.8037999999], [452421.29870000016, 520273.80260000005], [452436.4036999997, 520267.10449999943], [452685.1984000001, 520018.2957000006], [452800.1015999997, 519700.89660000056], [452884.6958999997, 519638.10459999926], [452966.6023000004, 519634.89550000057], [453030.6004999997, 519614.7013000008], [453060.1013000002, 519587.6989999991], [453109.80260000005, 519594.59699999914], [453261.1984000001, 519559.2971000001], [453272.0982999997, 519500.60390000045], [453348.8021, 519344.0987], [453338.80090000015, 519292.70340000093], [453359.1002000002, 519207.89770000055], [453348.3980999999, 519171.09830000065], [453391.19820000045, 519040.6955999993], [453382.7965000002, 518940.70419999957], [453398.6023000004, 518893.5976999998], [453383.8024000004, 518784.09899999946], [453400.39969999995, 518735.40300000086], [453500.4040999999, 518666.7026000004], [453531.6034000004, 518617.3968000002], [453631.2037000004, 518535.8001000006], [453729.3035000004, 518334.19779999927], [453789.20380000025, 518307.2954999991], [453850.1019000001, 518226.9985000007], [453981.5033999998, 518027.0956999995], [453996.699, 517963.1040000003], [453779.2026000004, 517879.8979000002], [453584.09970000014, 517834.50090000033], [453502.0036000004, 517798.30120000057], [453379.90249999985, 517712.9956], [453191.29669999983, 517526.2991000004], [453008.3964999998, 517450.6007000003], [452755.6030000001, 517397.2960000001], [452513.8990000002, 517295.5951000005], [452378.2017999999, 517210.29949999973], [452131.09729999956, 516956.6020999998], [452060.8989000004, 516918.2030999996], [451913.30399999954, 516875.49540000036], [452413.4989, 516304.8987000007], [452554.8027999997, 516194.5002999995], [452955.29839999974, 515807.2011999991], [453169.1009999998, 515621.7042999994], [453158.95139999967, 515611.59720000066], [453213.4017000003, 515562.90110000037], [453958.4996999996, 514948.1970000006], [454182.99619999994, 514807.3973999992], [454380.8035000004, 514732.19889999926], [454287.29619999975, 514547.60170000046], [454146.9983000001, 514391.4964000005], [454270.19600000046, 514257.8047000002], [454354.89749999996, 514199.7013000008], [454375.19680000003, 514007.8961999994], [454432.5, 513904.29590000026], [454495.2037000004, 513716.09970000014], [454739.9994999999, 513769.6043999996], [454916.8973000003, 513753.6989999991], [455048.49679999985, 513695.2957000006], [455241.2993000001, 513565.30289999954], [455299.40220000036, 513662.09520000033], [455420.7034999998, 513675.40139999986], [455517.7973999996, 513725.4969999995], [455563.90380000044, 513722.49789999984], [455611.19739999995, 513743.0020000003], [455775.80179999955, 513728.3961999994], [455944.6030000001, 513640.0014999993], [455907.09619999956, 513398.7006000001], [455824.2002999997, 513092.8980999999], [455816.4994999999, 513001.0044], [455711.59750000015, 512832.80260000005], [455680.10140000004, 512690.8032000009], [455637.3013000004, 512626.2017000001], [455602.80399999954, 512501.4974000007], [455525.3992999997, 512391.1989999991], [455384.9035, 512310.8019999992], [455355.1964999996, 512112.2988000009], [455271.20409999974, 512088.2957000006], [455210.6029000003, 512095.2037000004], [455144.1972000003, 512107.8001000006], [455066.8008000003, 512152.7971999999], [454971.7023, 512172.2017000001], [454662.1002000002, 512204.6023999993], [454606.6026999997, 512219.0982000008], [454550.00040000025, 512258.99679999985], [454429.30090000015, 512276.20189999975], [454293.1007000003, 512345.50210000016], [454231.0979000004, 512330.2963999994], [454224.3492999999, 512301.15479999967], [454194.39910000004, 512333.79539999925], [454146.9983000001, 512344.3024000004], [454142.00179999974, 512329.4966000002], [454122.4031999996, 512333.5954999998], [454104.6021999996, 512295.0965], [454093.8010999998, 512341.0033], [454060.6972000003, 512363.4968999997], [454043.1021999996, 512324.99789999984], [454008.9017000003, 512336.70460000075], [453969.9025999997, 512319.7993999999], [453950.3041000003, 512340.80340000056], [453911.0987999998, 512338.90389999934], [453900.89969999995, 512299.79509999976], [453877.30229999963, 512289.6980000008], [453883.09860000014, 512270.80340000056], [453850.90160000045, 512278.80120000057], [453851.50349999964, 512235.50349999964], [453806.40299999993, 512206.90169999935], [453732.1974999998, 512242.6015000008], [453698.90390000027, 512228.29560000077], [453671.3984000003, 512264.59520000033], [453619.1989000002, 512222.0974000003], [453581.2511, 512235.1536999997], [453555.00289999973, 512272.6029000003], [453594.4967, 512300.1950000003], [453571.5011999998, 512330.4964000005], [453574.19739999995, 512370.09500000067], [453621.6972000003, 512393.99819999933], [453595.4036999997, 512467.9969999995], [453572.59779999964, 512456.30030000024], [453531.49619999994, 512475.6048000008], [453486.29679999966, 512463.49829999916], [453448.3035000004, 512421.40029999986], [453236.6032999996, 512606.4974000007], [453195.4028000003, 512627.8013000004], [453121.4034000002, 512579.90499999933], [453009.69930000044, 512662.0014999993], [452917.0, 512694.6020999998], [452864.8995000003, 512745.29759999923], [452736.40020000003, 512680.0963000003], [452566.29640000034, 512631.40020000003], [452457.60170000046, 512659.8021000009], [452192.9023000002, 512664.90059999935], [452173.89740000013, 512637.6984000001], [452111.1030000001, 512614.59500000067], [451761.19909999985, 512695.7017999999], [451655.10170000046, 512687.90399999917], [451454.30150000006, 512802.4013], [451347.2971000001, 512906.6013999991], [451108.0996000003, 512971.20299999975], [450982.89829999954, 513030.1961000003], [450667.40110000037, 513039.3035000004], [450619.80229999963, 513063.9964000005], [450591.3980999999, 513126.3984999992], [450499.80370000005, 513134.5962000005], [450106.1020999998, 513238.4964000005], [450024.09669999965, 513213.30370000005], [449912.49980000034, 513223.6007000003], [449924.10059999954, 513125.9986000005], [449840.2977999998, 513172.1953999996], [449732.79870000016, 513075.60309999995], [449608.99909999967, 513040.8029999994], [449532.89719999954, 513092.2982999999], [449449.4983999999, 513083.3008999992], [449435.6961000003, 513117.6010999996], [449389.79590000026, 513153.5008000005], [449342.5022, 513181.8026999999], [449286.50179999974, 513173.09520000033], [449209.40220000036, 513236.2971000001], [449164.2028000001, 513181.50280000083], [449067.7026000004, 513160.7986999992], [449021.0025000004, 513178.6035999991], [448965.49679999985, 513177.30399999954], [448865.8964999998, 513147.2026000004], [448793.9994999999, 513189.50049999915], [448768.90160000045, 513182.40249999985], [448735.2039999999, 513220.70150000043], [448668.3036000002, 513191.39990000054], [448647.9960000003, 513215.6030000001], [448614.90029999986, 513223.00090000033], [448575.10140000004, 513346.69549999945], [448248.1023000004, 513262.89949999936], [448244.59810000006, 513152.30110000074], [448109.29669999983, 513278.8048999999], [448068.9040999999, 513292.0011], [447991.7962999996, 513296.0], [447976.79849999957, 513275.29590000026], [447878.8967000004, 513290.70150000043], [447836.40160000045, 513261.59979999997], [447811.6994000003, 513277.1953999996], [447758.5022999998, 513274.4960999992], [447738.49980000034, 513324.40190000087], [447710.20270000026, 513322.9023000002], [447669.8019000003, 513367.7993999999], [447603.1983000003, 513386.6040000003], [447593.8979000002, 513420.40440000035], [447544.6007000003, 513445.49719999917], [447557.29810000025, 513454.2047000006], [447535.9020999996, 513483.69629999995], [447499.6980999997, 513472.6994000003], [447476.1007000003, 513510.69849999994], [447428.40299999993, 513497.3024000004], [447379.99629999977, 513514.0976], [447362.5003000004, 513500.6013999991], [447277.6997999996, 513519.1961000003], [447243.20249999966, 513548.29780000076], [447218.0963000003, 513539.30030000024], [447176.79669999983, 513552.4966000002], [447143.50320000015, 513515.1972000003], [447120.4994999999, 513532.90220000036], [447082.2012, 513530.0030000005], [447024.7001, 513615.3986000009], [446917.9018000001, 513684.9986000005], [446915.29640000034, 513713.6004000008], [446865.90020000003, 513711.8010000009], [446814.2037000004, 513783.10060000047], [446778.40359999985, 513783.10060000047], [446777.19990000036, 513797.8962999992], [446800.3025000002, 513810.3027999997], [446788.2977, 513822.09940000065], [446756.00179999974, 513815.0013999995], [446750.99710000027, 513857.2993000001], [446677.3026999999, 513870.89540000074], [446655.5027999999, 513860.49840000086], [446626.10089999996, 513898.4975000005], [446592.5022, 513893.69889999926], [446561.5007999996, 513911.50379999913], [446572.9036999997, 513938.1962000001], [446554.59970000014, 513974.4957999997], [446578.19710000046, 513982.1035999991], [446576.0038999999, 514060.5011], [446593.0959000001, 514061.8007999994], [446589.50100000016, 514089.2028999999], [446609.70139999967, 514120.0041000005], [446631.3035000004, 514120.0041000005], [446656.09640000015, 514154.8041999992], [446636.49789999984, 514210.49819999933], [446610.69909999985, 514226.9035], [446618.80399999954, 514275.99950000085], [446585.19710000046, 514296.2037000004], [446576.9025999997, 514367.6031999998], [446527.6961000003, 514399.6041000001], [446522.9963999996, 514421.3978000004], [446567.2971000001, 514549.1012999993], [446567.8990000002, 514614.90249999985], [446540.0965999998, 514690.4008000009], [446563.9001000002, 514807.2973999996], [446502.3013000004, 514821.8032000009], [446495.2023, 514880.59640000015], [446468.49650000036, 514901.4003999997], [446477.4012000002, 514926.40330000035], [446444.29729999974, 514941.9988000002], [446445.8968000002, 514956.0047999993], [446466.6002000002, 514947.7971999999], [446468.8015999999, 514968.2013000008], [446417.40189999994, 514973.8997000009], [446431.5998999998, 515006.80030000024], [446407.5985000003, 515013.0985000003], [446418.5974000003, 515072.10160000063], [446385.69959999993, 515098.1041000001], [446398.1002000002, 515145.3005999997], [446365.20239999983, 515235.6048000008], [446389.0965999998, 515258.69820000045], [446391.3969999999, 515298.6966999993], [446372.6972000003, 515296.99719999917], [446370.5039999997, 515315.6019000001], [446395.50299999956, 515377.90399999917], [446373.0022, 515420.7017999999], [446389.5005999999, 515525.3018999994], [446361.89609999955, 515744.7990000006], [446370.70189999975, 515785.8972999994], [446335.29760000017, 515897.6952999998], [446384.9988000002, 515944.5019000005], [446374.0987999998, 515985.50009999983], [446391.19909999985, 515995.7971999999], [446396.50069999974, 516060.8984999992], [446429.90139999986, 516080.90279999934], [446428.2028999999, 516106.5954999998], [446454.60360000003, 516088.50060000084], [446468.60369999986, 516113.9034000002], [446557.19689999986, 516167.99789999984], [446575.5998999998, 516226.30120000057], [446612.9994999999, 516268.7990000006], [446618.301, 516334.1002999991], [446725.39609999955, 516512.2993000001], [446731.9014999997, 516563.60459999926], [446758.3021999998, 516588.0976], [446771.40359999985, 516696.89650000073], [446745.2997000003, 516827.5990999993], [446749.39749999996, 516902.79759999923], [446769.69689999986, 516928.2003000006], [446764.19739999995, 516960.50100000016], [446818.4994000001, 516996.20079999976], [446803.0976, 517110.89800000004], [446872.49629999977, 517119.09559999965], [446853.7965000002, 517195.7037000004], [446918.50370000023, 517301.90330000035], [446953.8997999998, 517625.5007000007], [447048.19849999994, 517663.0998999998], [447081.5992999999, 517736.9988000002], [447198.59669999965, 517834.1009999998], [447245.40390000027, 517931.90300000086], [447271.4006000003, 518107.80260000005], [447255.0011999998, 518199.8962999992], [447233.59700000007, 518235.9958999995], [446967.1001000004, 518396.99980000034], [446797.20239999983, 518605.50019999966], [446599.8980999999, 519004.69590000063], [446483.89829999954, 519130.0999999996], [446834.0990000004, 519290.90399999917], [447273.19799999986, 519372.30069999956], [447438.2971000001, 519429.20439999923], [447594.5987, 519519.3986000009], [447763.3998999996, 519682.9017999992], [447814.8985000001, 519773.19590000063], [447860.9967, 519914.39550000057], [447915.00179999974, 520331.29619999975], [448028.39609999955, 521518.1963999998], [448061.0959999999, 521684.8987000007], [448129.20019999985, 521839.30450000055], [448200.50349999964, 521921.7008999996], [448379.7017000001, 522033.1989999991], [448489.89690000005, 522071.7979000006]]]}, \\\"bbox\\\": [446335.29760000017, 512088.2957000006, 455944.6030000001, 522071.7979000006]}, {\\\"id\\\": \\\"17\\\", \\\"type\\\": \\\"Feature\\\", \\\"properties\\\": {}, \\\"geometry\\\": {\\\"type\\\": \\\"Polygon\\\", \\\"coordinates\\\": [[[455525.93099999987, 528406.6542000007], [455724.63210000005, 528369.6193000004], [455747.1160000004, 528399.9480000008], [455782.8870000001, 528387.6720000003], [455742.6710000001, 528151.6630000006], [455755.2659999998, 528094.4120000005], [455800.5099999998, 528100.8939999994], [455859.0360000003, 528081.2880000006], [455915.8679999998, 528095.2589999996], [455935.0769999996, 528065.8900000006], [456038.2120000003, 527995.5629999992], [456185.32100000046, 527964.7390000001], [456259.2719999999, 527976.2489999998], [456295.38800000027, 527961.432], [456297.37200000044, 527916.1879999992], [456246.30700000003, 527892.9049999993], [456290.625, 527859.1699999999], [456294.7259999998, 527811.5449999999], [456213.59800000023, 527786.6740000006], [456165.97300000023, 527743.2829999998], [456125.75600000005, 527745.1349999998], [456112.2620000001, 527760.7449999992], [456158.2999999998, 527841.1789999995], [456032.676, 527862.7899999991], [455999.81400000025, 527849.1370000001], [455965.8150000004, 527802.5040000007], [455945.3099999996, 527660.9519999996], [455968.79200000037, 527565.0399999991], [456001.20299999975, 527500.8790000007], [456134.15699999966, 527346.7589999996], [456310.56799999997, 527232.591], [456513.23900000006, 527226.5050000008], [456630.0530000003, 527199.2530000005], [456710.48699999973, 527123.8469999991], [456824.4210000001, 526934.8670000006], [456951.1030000001, 526809.7870000005], [457269.5039999997, 526597.5380000006], [457530.48900000006, 526374.8110000007], [457931.3339999998, 526120.6520000007], [458118.659, 526056.9930000007], [458443.3030000003, 525893.4800000004], [459007.1849999996, 525675.9920000006], [459160.21999999974, 525641.2259999998], [459313.0959999999, 525634.5580000002], [459460.89300000016, 525651.5449999999], [459744.5800000001, 525722.9820000008], [459938.62200000044, 525691.3129999992], [460007.4000000004, 525770.8000000007], [459948.0, 525682.4000000004], [459989.7000000002, 525661.0999999996], [460036.3811999997, 525669.1174999997], [460018.2999999998, 525706.0999999996], [460128.5999999996, 525736.9000000004], [460152.2000000002, 525730.5999999996], [460169.7999999998, 525752.6999999993], [460072.5, 525753.1999999993], [460060.0999999996, 525723.9000000004], [460034.2999999998, 525725.0999999996], [460017.7000000002, 525742.0], [460019.7000000002, 525767.8000000007], [460118.7999999998, 525774.6999999993], [460038.6500000004, 525826.8499999996], [459885.0, 525839.8000000007], [459841.5, 525855.4000000004], [459940.5999999996, 525850.9000000004], [459839.4000000004, 525867.5], [460048.2000000002, 525855.5999999996], [460091.25, 525887.4499999993], [460048.0999999996, 525905.5], [460084.5, 525930.5], [460020.25, 525938.1500000004], [460058.9000000004, 525942.6500000004], [460059.7999999998, 525958.9499999993], [459601.7999999998, 526016.6999999993], [459581.9000000004, 526039.5999999996], [459722.2999999998, 526008.5], [459745.8388, 526062.4938999992], [459683.0999999996, 526097.9000000004], [459681.9000000004, 526154.5], [459697.2999999998, 526144.1999999993], [459723.7999999998, 526154.3000000007], [459734.7999999998, 526133.3000000007], [459775.0, 526117.0999999996], [459791.7999999998, 526163.5999999996], [459824.5, 526121.3000000007], [459824.7999999998, 526162.1999999993], [459863.7999999998, 526197.6999999993], [459868.11479999963, 526141.5810000002], [459894.0999999996, 526101.5999999996], [459896.4000000004, 526163.6999999993], [459921.5, 526112.9000000004], [459993.5, 526067.3000000007], [460209.2999999998, 526056.5999999996], [460439.0, 526079.5999999996], [460494.7000000002, 526111.5999999996], [460682.2999999998, 526136.3000000007], [460714.9000000004, 526133.5], [460715.2290000003, 526116.2547999993], [460735.7000000002, 526111.9000000004], [460801.5, 526119.5999999996], [460794.3742000004, 526069.1334000006], [460829.9000000004, 526064.0], [460767.2999999998, 526025.5999999996], [460742.2999999998, 525979.4000000004], [460757.0999999996, 525977.3000000007], [460748.5, 525962.5], [460679.5, 525922.1999999993], [460659.5999999996, 525868.6999999993], [460647.5999999996, 525880.5999999996], [460615.0, 525872.4000000004], [460592.5, 525859.0999999996], [460602.5, 525842.0999999996], [460542.4000000004, 525830.4000000004], [460594.2999999998, 525838.6999999993], [460540.9000000004, 525812.6999999993], [460597.2000000002, 525821.3000000007], [460587.7000000002, 525800.5999999996], [460461.9000000004, 525781.5999999996], [460433.2999999998, 525758.9000000004], [460365.0, 525769.1999999993], [460334.5, 525739.6999999993], [460279.2000000002, 525773.0999999996], [460272.2999999998, 525786.9000000004], [460290.7000000002, 525806.9000000004], [460230.3848000001, 525813.3468999993], [460267.0, 525771.9000000004], [460257.5, 525757.0], [460292.4000000004, 525754.5], [460274.4000000004, 525731.0], [460323.2000000002, 525709.1999999993], [460282.0999999996, 525679.1999999993], [460337.2999999998, 525670.5], [460244.0948999999, 525642.8816999998], [460244.6040000003, 525619.6215000004], [460254.7249999996, 525620.7109999992], [460249.5860000001, 525594.023], [460353.2110000001, 525560.4470000006], [460485.6610000003, 525461.5989999995], [460635.2039999999, 525402.8609999996], [460766.01400000043, 525328.5659999996], [460896.1639999999, 525311.4680000003], [461088.2999999998, 525346.1999999993], [461346.75, 525430.4000000004], [461689.0999999996, 525506.6999999993], [461835.0, 525570.0999999996], [462000.0, 525613.0999999996], [461821.7999999998, 525547.0], [461815.2000000002, 525524.0999999996], [461725.0, 525492.4000000004], [461727.0999999996, 525478.8000000007], [461627.9000000004, 525451.5999999996], [461609.5, 525468.0], [461612.5, 525442.0], [461399.0, 525398.9499999993], [461325.88910000026, 525352.1202000007], [461336.5, 525332.0500000007], [461958.2000000002, 525480.4000000004], [461576.2999999998, 525369.4000000004], [461299.7999999998, 525317.9000000004], [461246.6500000004, 525289.3000000007], [461346.3499999996, 525294.8000000007], [461371.1500000004, 525273.5500000007], [461403.1500000004, 525274.0], [461409.0999999996, 525249.5500000007], [461372.4000000004, 525237.5999999996], [461505.7999999998, 525240.8000000007], [461861.5, 525312.0999999996], [462000.0, 525363.0], [462000.8499999996, 525351.6699999999], [461897.2999999998, 525309.5], [461599.7999999998, 525240.9000000004], [461451.2999999998, 525222.6999999993], [461445.9500000002, 525210.8000000007], [461560.5999999996, 525206.6999999993], [461578.2999999998, 525192.0], [461552.7000000002, 525190.3000000007], [461574.7999999998, 525183.0], [461566.2999999998, 525168.5], [461590.7999999998, 525151.3000000007], [461558.30399999954, 525118.1760000009], [461473.23309999984, 525096.4122000001], [461522.75239999965, 525081.5106000006], [461560.3503999999, 524999.4368999992], [461644.0290000001, 524913.0073000006], [461740.54580000043, 524753.9035], [462070.4455000004, 524379.7574000005], [462213.04279999994, 524251.6031999998], [462323.31510000024, 524127.3463000003], [462569.93740000017, 523962.1671999991], [462768.5306000002, 523774.7502999995], [462918.91700000037, 523659.2039999999], [463083.2240000004, 523575.8599999994], [463475.2379999999, 523299.4360000007], [463534.7690000003, 523241.09500000067], [463988.3990000002, 523059.7229999993], [464787.70600000024, 522636.9179999996], [464948.04399999976, 522567.59699999914], [465026.96300000045, 522556.75799999945], [465286.1229999997, 522452.7770000007], [465504.801, 522390.0700000003], [465974.1699999999, 522164.67500000075], [466000.0, 522158.1500000004], [466002.81900000013, 522175.3049999997], [466687.0099999998, 521926.1400000006], [466931.3499999996, 521878.12399999984], [467057.71499999985, 521816.7410000004], [467298.6370000001, 521758.0979999993], [467352.8849999998, 521763.71800000034], [467465.26300000027, 521819.5999999996], [467497.59499999974, 521885.9910000004], [467575.4879999999, 521876.46499999985], [467571.2690000003, 521901.3420000002], [467588.0290000001, 521905.80700000003], [467739.0, 521888.1199999992], [467630.5480000004, 521925.9790000003], [467632.3729999997, 521989.2039999999], [467581.83800000045, 522007.6190000009], [467731.45999999996, 521981.1610000003], [467728.28500000015, 522058.2870000005], [467875.949, 522041.64499999955], [467886.63800000027, 522051.59300000034], [467870.409, 522080.7620000001], [468003.2709999997, 522054.16899999976], [468043.642, 522084.66599999927], [468119.6660000002, 522078.36099999957], [468153.50299999956, 522131.4690000005], [468224.2999999998, 522120.6070000008], [468143.17899999954, 522170.4550000001], [468345.5, 522216.9000000004], [468503.0, 522212.30000000075], [468507.0999999996, 522235.19999999925], [468523.2999999998, 522235.30000000075], [468608.7999999998, 522218.9000000004], [468651.4000000004, 522190.30000000075], [468700.9000000004, 522202.19999999925], [468742.4000000004, 522191.5999999996], [468756.7999999998, 522166.9000000004], [468847.0999999996, 522135.0999999996], [468882.7000000002, 522087.30000000075], [468993.0, 522046.9000000004], [469021.7400000002, 521896.01999999955], [469049.7000000002, 521969.0999999996], [469104.28000000026, 521994.5099999998], [469110.71999999974, 522027.30000000075], [469135.01999999955, 522047.5], [469284.51999999955, 522044.69999999925], [469370.1200000001, 522013.19999999925], [469433.71999999974, 522028.5], [469451.4299999997, 521986.52999999933], [469562.11000000034, 521902.52999999933], [469577.61000000034, 521919.44999999925], [469606.7400000002, 521918.01999999955], [469716.08999999985, 521851.8800000008], [469865.53000000026, 521711.69999999925], [469895.8700000001, 521779.3300000001], [469954.71999999974, 521780.0800000001], [470048.7999999998, 521719.4000000004], [470033.0999999996, 521740.5], [470051.0999999996, 521763.5], [470128.0, 521721.30000000075], [470128.4000000004, 521683.4000000004], [470093.4900000002, 521664.51999999955], [470106.5, 521656.0999999996], [470125.5, 521657.80000000075], [470125.0, 521679.80000000075], [470139.9000000004, 521685.69999999925], [470142.7999999998, 521735.19999999925], [470175.7999999998, 521731.0], [470309.7999999998, 521596.7599999998], [470389.5999999996, 521572.5], [470430.1900000004, 521500.47000000067], [470415.79000000004, 521458.2400000002], [470464.5999999996, 521386.0399999991], [470458.0, 521343.5], [470575.38999999966, 521289.77999999933], [470435.4000000004, 521314.5999999996], [470425.23000000045, 521299.33999999985], [470448.5999999996, 521302.5], [470603.08999999985, 521240.97000000067], [470582.9900000002, 521190.6300000008], [470604.58999999985, 521191.6899999995], [470627.08999999985, 521168.1099999994], [470598.20999999996, 521140.4900000002], [470651.46999999974, 521110.76999999955], [470624.23000000045, 521100.08999999985], [470625.7400000002, 521055.3599999994], [470588.21999999974, 521046.5099999998], [470631.25, 521034.0399999991], [470631.5999999996, 521009.69999999925], [470578.4199999999, 521001.7599999998], [470623.1026999997, 520971.95940000005], [470651.2736999998, 520927.35529999994], [470717.6799999997, 520898.8499999996], [470724.26999999955, 520883.41000000015], [470708.08999999985, 520877.5999999996], [470758.28000000026, 520864.3300000001], [470807.54000000004, 520811.7899999991], [470835.25, 520806.25], [470827.96999999974, 520785.9900000002], [470895.0373999998, 520730.0644000005], [471171.93960000016, 520546.91530000046], [471192.67339999974, 520573.659], [471263.8897000002, 520591.0875000004], [471194.9500000002, 520563.80000000075], [471178.27990000043, 520532.7923000008], [471196.54980000015, 520532.9124999996], [471216.6224999996, 520488.0792999994], [471285.6151999999, 520411.15359999985], [471569.99959999975, 520216.3155000005], [471625.04949999973, 520212.2288000006], [471606.65950000007, 520229.5371000003], [471651.8531999998, 520234.4650999997], [471703.6500000004, 520278.1500000004], [471810.58999999985, 520295.47000000067], [471823.9500000002, 520320.44999999925], [471813.5599999996, 520331.3300000001], [471835.1699999999, 520346.3599999994], [471797.21999999974, 520364.6300000008], [471868.98000000045, 520377.8800000008], [471830.04000000004, 520391.8200000003], [472160.2999999998, 520356.98000000045], [472224.5, 520440.0700000003], [472247.5999999996, 520439.98000000045], [472186.7999999998, 520478.8800000008], [472312.0, 520421.0700000003], [472319.4000000004, 520366.77999999933], [472333.7999999998, 520430.0700000003], [472406.6699999999, 520357.72000000067], [472422.5800000001, 520364.9399999995], [472471.08999999985, 520323.48000000045], [472522.7400000002, 520319.8699999992], [472489.1200000001, 520306.23000000045], [472452.0999999996, 520322.5999999996], [472453.2599999998, 520281.1099999994], [472466.04000000004, 520277.97000000067], [472473.21999999974, 520301.8200000003], [472482.8700000001, 520263.4399999995], [472596.2599999998, 520228.94999999925], [472617.4400000004, 520167.1699999999], [472637.8099999996, 520180.8599999994], [472608.95999999996, 520220.4299999997], [472631.48000000045, 520225.72000000067], [472590.88999999966, 520247.44999999925], [472586.5099999998, 520269.9199999999], [472600.5, 520276.1899999995], [472541.4500000002, 520298.7899999991], [472598.0800000001, 520293.26999999955], [472704.45999999996, 520246.3599999994], [472678.7000000002, 520231.8300000001], [472700.48000000045, 520209.02999999933], [472675.5700000003, 520129.6400000006], [472699.88999999966, 520136.2400000002], [472732.75, 520213.19999999925], [472725.1200000001, 520240.5099999998], [472858.78000000026, 520203.8100000005], [472892.0999999996, 520208.8300000001], [472730.5599999996, 520268.72000000067], [472782.6900000004, 520279.8699999992], [472757.08999999985, 520299.2100000009], [472872.2000000002, 520286.2100000009], [472883.9000000004, 520258.3200000003], [472900.6200000001, 520279.48000000045], [472906.2999999998, 520249.4900000002], [472913.88999999966, 520275.4299999997], [472944.2000000002, 520278.72000000067], [472967.8099999996, 520220.1500000004], [472924.95999999996, 520201.0999999996], [472967.5700000003, 520178.6099999994], [472978.25, 520190.94999999925], [473125.4400000004, 520187.1199999992], [473139.46999999974, 520193.1899999995], [473120.1900000004, 520199.4600000009], [473137.13999999966, 520217.4900000002], [473139.26999999955, 520197.9900000002], [473181.28000000026, 520197.9299999997], [473200.3300000001, 520223.3499999996], [473250.8300000001, 520239.66000000015], [473324.4500000002, 520254.1400000006], [473388.1299999999, 520247.5800000001], [473392.3799999999, 520181.8800000008], [473364.1299999999, 520152.1099999994], [473377.5700000003, 520132.52999999933], [473403.53000000026, 520150.4600000009], [473403.23000000045, 520200.3800000008], [473429.8799999999, 520254.8499999996], [473482.1299999999, 520264.0999999996], [473600.8499999996, 520329.1400000006], [473725.6699999999, 520299.8499999996], [473757.83999999985, 520303.3699999992], [473755.7400000002, 520316.98000000045], [473831.8200000003, 520309.5800000001], [473846.95999999996, 520292.4399999995], [473917.5499999998, 520294.0999999996], [473921.75, 520279.5700000003], [473950.3300000001, 520310.7100000009], [473985.0700000003, 520304.8599999994], [474014.01999999955, 520319.4900000002], [474022.51999999955, 520299.3900000006], [474079.9199999999, 520293.58999999985], [474095.4199999999, 520277.6899999995], [474141.4199999999, 520318.8900000006], [474159.3200000003, 520295.3900000006], [474201.71999999974, 520323.1899999995], [474315.1200000001, 520273.7899999991], [474324.01999999955, 520234.08999999985], [474359.4199999999, 520216.7899999991], [474480.1200000001, 520213.58999999985], [474544.1200000001, 520177.7899999991], [474563.9199999999, 520196.8900000006], [474624.4199999999, 520173.2899999991], [474643.01999999955, 520183.2899999991], [474663.1200000001, 520172.58999999985], [474653.3200000003, 520154.08999999985], [474692.0700000003, 520129.7100000009], [474752.3700000001, 520142.6099999994], [474914.6699999999, 520037.1099999994], [474981.0700000003, 520018.7100000009], [475040.4000000004, 519962.01999999955], [475157.86000000034, 519918.33999999985], [475300.8799999999, 519892.26999999955], [475446.4400000004, 519824.9000000004], [475491.1500000004, 519830.0], [475602.0099999998, 519768.7100000009], [475601.46999999974, 519731.3800000008], [475656.83999999985, 519736.4600000009], [475735.5499999998, 519685.0399999991], [475791.5, 519680.8200000003], [475879.9000000004, 519559.9000000004], [475895.04000000004, 519573.0700000003], [475923.16000000015, 519494.6400000006], [475996.70999999996, 519457.8300000001], [476135.0599999996, 519287.6500000004], [476188.1500000004, 519283.83999999985], [476201.8499999996, 519251.73000000045], [476191.6299999999, 519221.6099999994], [476212.3300000001, 519228.41000000015], [476216.6799999997, 519190.8699999992], [476335.5099999998, 519291.58999999985], [476431.33999999985, 519302.4399999995], [476468.9900000002, 519321.0], [476531.1699999999, 519306.0399999991], [476547.6500000004, 519314.2899999991], [476545.5800000001, 519337.91000000015], [476592.0499999998, 519295.8200000003], [476630.1699999999, 519293.30000000075], [476637.23000000045, 519255.52999999933], [476718.0499999998, 519233.7899999991], [476711.61000000034, 519213.48000000045], [476734.23000000045, 519213.2100000009], [476729.96999999974, 519173.4000000004], [476753.0499999998, 519229.6300000008], [476798.76999999955, 519228.9000000004], [476848.8700000001, 519199.44999999925], [476835.3700000001, 519151.2599999998], [476874.7400000002, 519196.2599999998], [476930.4500000002, 519170.7100000009], [476953.8700000001, 519180.0], [476937.7599999998, 519133.3699999992], [476964.8499999996, 519148.01999999955], [477064.4500000002, 519135.72000000067], [477077.3700000001, 519114.69999999925], [477067.5, 519063.7100000009], [476942.0999999996, 519022.8599999994], [476974.75, 519014.58999999985], [476982.5999999996, 518992.0600000005], [477028.5499999998, 519034.4900000002], [477084.1299999999, 519043.7400000002], [477134.8499999996, 519022.6699999999], [477161.5, 518959.02999999933], [477128.9299999997, 518901.6300000008], [477151.33999999985, 518882.01999999955], [477209.25, 518898.9900000002], [477231.79000000004, 518959.33999999985], [477291.1200000001, 519029.69999999925], [477340.0999999996, 519062.7400000002], [477370.8799999999, 519060.1099999994], [477389.53000000026, 519085.1699999999], [477408.08999999985, 519068.3499999996], [477465.8300000001, 519097.4600000009], [477489.16000000015, 519058.9900000002], [477542.8799999999, 519091.26999999955], [477582.26999999955, 519051.6500000004], [477580.0099999998, 518933.1400000006], [477590.1699999999, 519051.3599999994], [477660.78000000026, 519111.8699999992], [477710.7599999998, 519104.0999999996], [477713.58999999985, 519070.8300000001], [477690.0700000003, 519063.75], [477686.8200000003, 519037.8499999996], [477712.96999999974, 519015.1400000006], [477755.04000000004, 519049.91000000015], [477816.9900000002, 519043.19999999925], [477837.2400000002, 519016.1799999997], [477836.88999999966, 519044.9000000004], [477848.75, 519014.48000000045], [477862.1299999999, 519061.02999999933], [477955.16000000015, 519140.1099999994], [477955.11000000034, 519117.3100000005], [478001.1799999997, 519188.66000000015], [478003.7599999998, 519170.9399999995], [478040.5599999996, 519155.6300000008], [478050.04000000004, 519124.80000000075], [478070.16000000015, 519167.6400000006], [478138.3499999996, 519144.6199999992], [478144.73000000045, 519113.1899999995], [478194.9500000002, 519157.8300000001], [478223.66000000015, 519145.6699999999], [478243.2599999998, 519223.5999999996], [478273.5700000003, 519274.0099999998], [478282.33999999985, 519261.5399999991], [478289.4000000004, 519289.5099999998], [478301.3200000003, 519255.0600000005], [478315.04000000004, 519261.48000000045], [478366.3099999996, 519120.3499999996], [478368.6799999997, 519052.6300000008], [478435.7400000002, 519084.6500000004], [478450.95999999996, 519064.9299999997], [478363.20999999996, 519027.55000000075], [478364.9029000001, 518979.00320000015], [478308.8035000004, 518913.00210000016], [478194.1972000003, 518927.6978999991], [478101.3990000002, 518859.0976], [478073.8027999997, 518798.90479999967], [478074.9983000001, 518695.9043000005], [477996.5959999999, 518655.3958999999], [477958.00090000033, 518595.10309999995], [477956.5003000004, 518538.1994000003], [477996.29920000024, 518448.09520000033], [477997.0990000004, 518402.04839999974], [477953.79590000026, 518407.79670000076], [477816.7960000001, 518488.9035], [477786.0996000003, 518481.1956999991], [477805.3024000004, 518422.7025000006], [477878.69990000036, 518372.9967], [477888.19820000045, 518319.1020999998], [477869.8035000004, 518280.0033], [477788.90299999993, 518211.50290000066], [477733.39719999954, 518116.3002000004], [477677.2977999998, 518058.6966999993], [477700.79619999975, 517975.00060000084], [477668.3024000004, 517967.70270000026], [477596.1994000003, 518009.5008000005], [477484.70139999967, 517954.7963999994], [477398.10360000003, 517948.8980999999], [477297.49729999993, 518007.0014999993], [477190.7980000004, 517983.8980999999], [477094.19880000036, 518034.8035000004], [477061.4000000004, 517987.19710000046], [477035.0981999999, 517978.79949999973], [476955.50040000025, 518027.89550000057], [476906.7969000004, 518026.6958000008], [476869.3973000003, 518067.70409999974], [476806.3967000004, 518028.59530000016], [476762.20320000034, 518026.19600000046], [476731.4985999996, 518056.99719999917], [476714.1014999999, 518115.4003999997], [476699.69739999995, 518116.60009999946], [476538.8032999998, 517937.30140000023], [476493.19990000036, 517912.2985999994], [476400.0965999998, 517761.50170000084], [476338.59669999965, 517765.1007000003], [476307.1995000001, 517728.2013000008], [476228.5992999999, 517742.1973000001], [476085.3002000004, 517724.0024999995], [475979.3016999997, 517669.89800000004], [475937.3013000004, 517626.00049999915], [475912.09619999956, 517530.9977000002], [475862.7000000002, 517517.70150000043], [475798.6029000003, 517468.59559999965], [475731.1995000001, 517324.49679999985], [475625.20100000035, 517287.3975000009], [475547.4006000003, 517210.19959999993], [475479.70040000044, 517077.6974999998], [475360.6004999997, 516995.30110000074], [475350.69820000045, 516923.2017000001], [475258.6997999996, 516755.59970000014], [475236.19909999985, 516677.90190000087], [475188.4024, 516642.60199999996], [475033.19739999995, 516404.40020000003], [475017.4988000002, 516253.60339999944], [474906.6026999997, 516115.90279999934], [474901.59800000023, 516072.1952999998], [474867.29849999957, 516023.6992000006], [474864.09949999955, 515968.39499999955], [474783.00100000016, 515862.29539999925], [474731.1973000001, 515754.09640000015], [474654.4028000003, 515676.1986999996], [474637.8962000003, 515614.1963999998], [474608.29640000034, 515577.29700000025], [474578.3997999998, 515438.0967999995], [474546.10390000045, 515345.30340000056], [474515.6962000001, 515310.8033000007], [474530.2982000001, 515274.8036000002], [474514.4017000003, 515219.2993999999], [474522.39940000046, 515184.49939999916], [474491.2001, 515182.30000000075], [474482.09750000015, 515167.4043000005], [474508.6961000003, 515132.20439999923], [474534.6020999998, 515015.69769999944], [474505.0022999998, 514928.2028000001], [474439.19849999994, 514906.79890000075], [474490.69710000046, 514843.19710000046], [474523.29810000025, 514640.6951000001], [474512.00239999965, 514597.99730000086], [474538.19689999986, 514529.39690000005], [474542.40189999994, 514457.7973999996], [474531.19689999986, 514401.40359999985], [474474.99849999975, 514320.79659999907], [474464.7993999999, 514280.49819999933], [474401.09800000023, 514244.5985000003], [474398.59979999997, 514194.50280000083], [474425.5033999998, 514139.3986000009], [474435.9003999997, 514000.7982000001], [474461.5014000004, 513905.29560000077], [474466.90189999994, 513758.6974999998], [474487.90199999977, 513718.6989999991], [474497.90330000035, 513640.0014999993], [474535.8965999996, 513580.4985000007], [474541.09920000006, 513512.4979999997], [474475.89719999954, 513439.69889999926], [474411.80009999964, 513412.3967000004], [474405.7977, 513389.6031999998], [474413.1029000003, 512861.3044000007], [474355.29669999983, 512535.8976000007], [474458.79700000025, 512228.5954999998], [474673.10259999987, 511741.8048999999], [474908.6969999997, 511423.3959999997], [474983.6034000004, 511267.50060000084], [474973.8989000004, 511080.90399999917], [474692.2971000001, 510900.79560000077], [474191.69820000045, 510878.8018999994], [473720.99590000045, 511008.6046999991], [473494.9988000002, 511022.5008000005], [472921.3981999997, 511227.40210000053], [472877.89719999954, 511696.89770000055], [472824.5022, 511648.50159999914], [472758.2037000004, 511688.3002000004], [472596.99619999994, 511812.80450000055], [472584.2988, 511876.69629999995], [471717.50380000006, 511848.0044999998], [471718.0974000003, 511787.6018000003], [471617.9035, 511700.69659999944], [471461.09889999963, 511613.00170000084], [471255.6979, 511539.2028999999], [470585.9020999996, 511362.70340000093], [470290.80319999997, 511304.1001999993], [469866.6030000001, 511163.3004999999], [469707.80310000014, 511167.5991999991], [469471.2028999999, 511226.3024000004], [469239.8958999999, 511202.3992999997], [468984.99990000017, 511075.7954999991], [468507.60259999987, 510883.60050000064], [467951.49789999984, 510800.3044000007], [467900.2960999999, 510819.4989], [466949.20359999966, 511815.3037999999], [465676.801, 512196.30480000004], [464636.29899999965, 512421.20040000044], [463316.80069999956, 512295.0965], [462483.8021999998, 511393.2047000006], [462386.6010999996, 511467.30340000056], [462315.0999999996, 511489.5971000008], [462310.3013000004, 511510.5011], [462233.2017999999, 511528.89580000006], [462143.8005999997, 511520.5982000008], [462109.5011, 511540.70240000077], [462091.4031999996, 511524.2971000001], [462084.7000000002, 511555.6981000006], [461978.5036000004, 511605.3038999997], [461842.3033999996, 511598.09600000083], [461684.6001000004, 511646.50210000016], [461647.20050000027, 511635.69519999996], [461558.6980999997, 511645.2025000006], [461496.00260000024, 511698.8970999997], [461244.50349999964, 511847.60459999926], [461228.4008999998, 511881.5048999991], [461123.49899999984, 511925.80220000073], [461094.40220000036, 511970.29949999973], [461056.10390000045, 511980.19659999944], [460973.9006000003, 512072.6001999993], [460858.0987, 512009.5982000008], [460666.9040000001, 511866.6991000008], [460461.60199999996, 512078.6984000001], [460373.8992999997, 512146.39910000004], [460077.2006999999, 512315.2006999999], [459791.5011, 512445.3035000004], [459205.90390000027, 512385.7006000001], [458730.0979000004, 512758.50379999913], [458604.59979999997, 512726.6030000001], [458425.4017000003, 512716.79580000043], [458268.1024000002, 512665.3004999999], [458043.90270000044, 512625.2019999996], [457976.4003999997, 512631.0002999995], [457615.90160000045, 512478.8038999997], [457628.5990000004, 512219.0982000008], [457589.59979999997, 512080.3979000002], [457529.6995000001, 512029.6024999991], [457503.8016999997, 511947.09610000066], [457458.89910000004, 511874.7968000006], [457400.5982999997, 511871.69769999944], [457296.90020000003, 511805.69659999944], [457197.29980000015, 511786.3021000009], [456956.29669999983, 511839.39690000005], [456909.2008999996, 511870.7979000006], [456788.69930000044, 511865.6994000003], [456660.70299999975, 511837.7973999996], [456644.99619999994, 511864.9996000007], [456475.60140000004, 511917.60449999943], [456387.0, 511980.79649999924], [455389.4960000003, 512278.5011999998], [455384.9035, 512310.8019999992], [455525.3992999997, 512391.1989999991], [455602.80399999954, 512501.4974000007], [455637.3013000004, 512626.2017000001], [455680.10140000004, 512690.8032000009], [455711.59750000015, 512832.80260000005], [455816.4994999999, 513001.0044], [455824.2002999997, 513092.8980999999], [455907.09619999956, 513398.7006000001], [455944.6030000001, 513640.0014999993], [455775.80179999955, 513728.3961999994], [455611.19739999995, 513743.0020000003], [455563.90380000044, 513722.49789999984], [455517.7973999996, 513725.4969999995], [455420.7034999998, 513675.40139999986], [455299.40220000036, 513662.09520000033], [455241.2993000001, 513565.30289999954], [455048.49679999985, 513695.2957000006], [454916.8973000003, 513753.6989999991], [454739.9994999999, 513769.6043999996], [454495.2037000004, 513716.09970000014], [454432.5, 513904.29590000026], [454375.19680000003, 514007.8961999994], [454354.89749999996, 514199.7013000008], [454270.19600000046, 514257.8047000002], [454146.9983000001, 514391.4964000005], [454287.29619999975, 514547.60170000046], [454380.8035000004, 514732.19889999926], [454182.99619999994, 514807.3973999992], [453958.4996999996, 514948.1970000006], [453213.4017000003, 515562.90110000037], [453158.95139999967, 515611.59720000066], [453169.1009999998, 515621.7042999994], [452955.29839999974, 515807.2011999991], [452554.8027999997, 516194.5002999995], [452413.4989, 516304.8987000007], [451913.30399999954, 516875.49540000036], [452060.8989000004, 516918.2030999996], [452131.09729999956, 516956.6020999998], [452378.2017999999, 517210.29949999973], [452513.8990000002, 517295.5951000005], [452755.6030000001, 517397.2960000001], [453008.3964999998, 517450.6007000003], [453191.29669999983, 517526.2991000004], [453379.90249999985, 517712.9956], [453502.0036000004, 517798.30120000057], [453584.09970000014, 517834.50090000033], [453779.2026000004, 517879.8979000002], [453996.699, 517963.1040000003], [453997.6967000002, 517983.2982999999], [453922.5016999999, 518126.0974000003], [453816.0003000004, 518272.4955000002], [453789.20380000025, 518307.2954999991], [453729.3035000004, 518334.19779999927], [453625.29619999975, 518543.2980000004], [453531.6034000004, 518617.3968000002], [453500.4040999999, 518666.7026000004], [453400.39969999995, 518735.40300000086], [453383.8024000004, 518784.09899999946], [453398.6023000004, 518893.5976999998], [453382.7965000002, 518940.70419999957], [453391.19820000045, 519040.6955999993], [453348.3980999999, 519171.09830000065], [453359.1002000002, 519207.89770000055], [453338.80090000015, 519292.70340000093], [453348.8021, 519344.0987], [453272.0982999997, 519500.60390000045], [453261.1984000001, 519559.2971000001], [453109.80260000005, 519594.59699999914], [453060.1013000002, 519587.6989999991], [453030.6004999997, 519614.7013000008], [452966.6023000004, 519634.89550000057], [452884.6958999997, 519638.10459999926], [452800.1015999997, 519700.89660000056], [452685.1984000001, 520018.2957000006], [452436.4036999997, 520267.10449999943], [452421.29870000016, 520273.80260000005], [452187.50179999974, 520199.8037999999], [452098.10059999954, 520272.7028999999], [452027.1024000002, 520315.8005999997], [451996.0020000003, 520317.2002000008], [451698.19859999977, 520553.2026000004], [451895.09889999963, 520609.49650000036], [452057.6997999996, 520713.79670000076], [452174.1035000002, 520814.3979000002], [451894.29920000024, 521145.3030999992], [452052.59609999973, 521279.2048000004], [452525.69770000037, 521781.9009000007], [452591.3036000002, 521900.0971000008], [452720.70160000026, 522035.6983000003], [452853.9994999999, 522134.6998999994], [453076.59970000014, 522381.2993000001], [453207.3992999997, 522536.4048999995], [453234.8965999996, 522636.99620000087], [453448.3035000004, 522851.6046999991], [453486.4040000001, 522914.9966000002], [453613.4025999997, 523000.1021999996], [453733.4013, 523184.6994000003], [453867.80399999954, 523313.2026000004], [453933.5005999999, 523412.3041999992], [454459.6014999999, 523947.9009000007], [454585.80040000007, 524139.2960999999], [454666.9978, 524361.6024999991], [454724.8038999997, 524604.4030000009], [454749.5968000004, 524804.2958000004], [454758.09750000015, 525110.7980000004], [454710.5976999998, 525387.4988000002], [454494.0987999998, 526005.9017999992], [454460.4013, 526166.7958000004], [454455.9983999999, 526336.7971000001], [454498.0976999998, 526664.3034000006], [454656.99650000036, 526950.1015000008], [454784.49810000043, 527286.8950999994], [454820.6032999996, 527435.7025000006], [454821.7988, 527656.3993999995], [454752.79590000026, 528085.5965], [454796.9977000002, 528152.1974], [455062.70299999975, 528342.7028999999], [455106.79760000017, 528430.1978999991], [455525.93099999987, 528406.6542000007]]]}, \\\"bbox\\\": [451698.19859999977, 510800.3044000007, 478450.95999999996, 528430.1978999991]}], \\\"bbox\\\": [439865.49710000027, 510800.3044000007, 478450.95999999996, 537152.0012999997]}\",\"hovertemplate\":\"_index=%{location}\\u003cbr\\u003ePercentage=%{z}\\u003cextra\\u003e\\u003c\\u002fextra\\u003e\",\"locations\":[0,1,2],\"name\":\"\",\"z\":[0.07,0.15,0.09],\"type\":\"choropleth\"}],                        {\"template\":{\"data\":{\"histogram2dcontour\":[{\"type\":\"histogram2dcontour\",\"colorbar\":{\"outlinewidth\":0,\"ticks\":\"\"},\"colorscale\":[[0.0,\"#0d0887\"],[0.1111111111111111,\"#46039f\"],[0.2222222222222222,\"#7201a8\"],[0.3333333333333333,\"#9c179e\"],[0.4444444444444444,\"#bd3786\"],[0.5555555555555556,\"#d8576b\"],[0.6666666666666666,\"#ed7953\"],[0.7777777777777778,\"#fb9f3a\"],[0.8888888888888888,\"#fdca26\"],[1.0,\"#f0f921\"]]}],\"choropleth\":[{\"type\":\"choropleth\",\"colorbar\":{\"outlinewidth\":0,\"ticks\":\"\"}}],\"histogram2d\":[{\"type\":\"histogram2d\",\"colorbar\":{\"outlinewidth\":0,\"ticks\":\"\"},\"colorscale\":[[0.0,\"#0d0887\"],[0.1111111111111111,\"#46039f\"],[0.2222222222222222,\"#7201a8\"],[0.3333333333333333,\"#9c179e\"],[0.4444444444444444,\"#bd3786\"],[0.5555555555555556,\"#d8576b\"],[0.6666666666666666,\"#ed7953\"],[0.7777777777777778,\"#fb9f3a\"],[0.8888888888888888,\"#fdca26\"],[1.0,\"#f0f921\"]]}],\"heatmap\":[{\"type\":\"heatmap\",\"colorbar\":{\"outlinewidth\":0,\"ticks\":\"\"},\"colorscale\":[[0.0,\"#0d0887\"],[0.1111111111111111,\"#46039f\"],[0.2222222222222222,\"#7201a8\"],[0.3333333333333333,\"#9c179e\"],[0.4444444444444444,\"#bd3786\"],[0.5555555555555556,\"#d8576b\"],[0.6666666666666666,\"#ed7953\"],[0.7777777777777778,\"#fb9f3a\"],[0.8888888888888888,\"#fdca26\"],[1.0,\"#f0f921\"]]}],\"heatmapgl\":[{\"type\":\"heatmapgl\",\"colorbar\":{\"outlinewidth\":0,\"ticks\":\"\"},\"colorscale\":[[0.0,\"#0d0887\"],[0.1111111111111111,\"#46039f\"],[0.2222222222222222,\"#7201a8\"],[0.3333333333333333,\"#9c179e\"],[0.4444444444444444,\"#bd3786\"],[0.5555555555555556,\"#d8576b\"],[0.6666666666666666,\"#ed7953\"],[0.7777777777777778,\"#fb9f3a\"],[0.8888888888888888,\"#fdca26\"],[1.0,\"#f0f921\"]]}],\"contourcarpet\":[{\"type\":\"contourcarpet\",\"colorbar\":{\"outlinewidth\":0,\"ticks\":\"\"}}],\"contour\":[{\"type\":\"contour\",\"colorbar\":{\"outlinewidth\":0,\"ticks\":\"\"},\"colorscale\":[[0.0,\"#0d0887\"],[0.1111111111111111,\"#46039f\"],[0.2222222222222222,\"#7201a8\"],[0.3333333333333333,\"#9c179e\"],[0.4444444444444444,\"#bd3786\"],[0.5555555555555556,\"#d8576b\"],[0.6666666666666666,\"#ed7953\"],[0.7777777777777778,\"#fb9f3a\"],[0.8888888888888888,\"#fdca26\"],[1.0,\"#f0f921\"]]}],\"surface\":[{\"type\":\"surface\",\"colorbar\":{\"outlinewidth\":0,\"ticks\":\"\"},\"colorscale\":[[0.0,\"#0d0887\"],[0.1111111111111111,\"#46039f\"],[0.2222222222222222,\"#7201a8\"],[0.3333333333333333,\"#9c179e\"],[0.4444444444444444,\"#bd3786\"],[0.5555555555555556,\"#d8576b\"],[0.6666666666666666,\"#ed7953\"],[0.7777777777777778,\"#fb9f3a\"],[0.8888888888888888,\"#fdca26\"],[1.0,\"#f0f921\"]]}],\"mesh3d\":[{\"type\":\"mesh3d\",\"colorbar\":{\"outlinewidth\":0,\"ticks\":\"\"}}],\"scatter\":[{\"fillpattern\":{\"fillmode\":\"overlay\",\"size\":10,\"solidity\":0.2},\"type\":\"scatter\"}],\"parcoords\":[{\"type\":\"parcoords\",\"line\":{\"colorbar\":{\"outlinewidth\":0,\"ticks\":\"\"}}}],\"scatterpolargl\":[{\"type\":\"scatterpolargl\",\"marker\":{\"colorbar\":{\"outlinewidth\":0,\"ticks\":\"\"}}}],\"bar\":[{\"error_x\":{\"color\":\"#2a3f5f\"},\"error_y\":{\"color\":\"#2a3f5f\"},\"marker\":{\"line\":{\"color\":\"#E5ECF6\",\"width\":0.5},\"pattern\":{\"fillmode\":\"overlay\",\"size\":10,\"solidity\":0.2}},\"type\":\"bar\"}],\"scattergeo\":[{\"type\":\"scattergeo\",\"marker\":{\"colorbar\":{\"outlinewidth\":0,\"ticks\":\"\"}}}],\"scatterpolar\":[{\"type\":\"scatterpolar\",\"marker\":{\"colorbar\":{\"outlinewidth\":0,\"ticks\":\"\"}}}],\"histogram\":[{\"marker\":{\"pattern\":{\"fillmode\":\"overlay\",\"size\":10,\"solidity\":0.2}},\"type\":\"histogram\"}],\"scattergl\":[{\"type\":\"scattergl\",\"marker\":{\"colorbar\":{\"outlinewidth\":0,\"ticks\":\"\"}}}],\"scatter3d\":[{\"type\":\"scatter3d\",\"line\":{\"colorbar\":{\"outlinewidth\":0,\"ticks\":\"\"}},\"marker\":{\"colorbar\":{\"outlinewidth\":0,\"ticks\":\"\"}}}],\"scattermapbox\":[{\"type\":\"scattermapbox\",\"marker\":{\"colorbar\":{\"outlinewidth\":0,\"ticks\":\"\"}}}],\"scatterternary\":[{\"type\":\"scatterternary\",\"marker\":{\"colorbar\":{\"outlinewidth\":0,\"ticks\":\"\"}}}],\"scattercarpet\":[{\"type\":\"scattercarpet\",\"marker\":{\"colorbar\":{\"outlinewidth\":0,\"ticks\":\"\"}}}],\"carpet\":[{\"aaxis\":{\"endlinecolor\":\"#2a3f5f\",\"gridcolor\":\"white\",\"linecolor\":\"white\",\"minorgridcolor\":\"white\",\"startlinecolor\":\"#2a3f5f\"},\"baxis\":{\"endlinecolor\":\"#2a3f5f\",\"gridcolor\":\"white\",\"linecolor\":\"white\",\"minorgridcolor\":\"white\",\"startlinecolor\":\"#2a3f5f\"},\"type\":\"carpet\"}],\"table\":[{\"cells\":{\"fill\":{\"color\":\"#EBF0F8\"},\"line\":{\"color\":\"white\"}},\"header\":{\"fill\":{\"color\":\"#C8D4E3\"},\"line\":{\"color\":\"white\"}},\"type\":\"table\"}],\"barpolar\":[{\"marker\":{\"line\":{\"color\":\"#E5ECF6\",\"width\":0.5},\"pattern\":{\"fillmode\":\"overlay\",\"size\":10,\"solidity\":0.2}},\"type\":\"barpolar\"}],\"pie\":[{\"automargin\":true,\"type\":\"pie\"}]},\"layout\":{\"autotypenumbers\":\"strict\",\"colorway\":[\"#636efa\",\"#EF553B\",\"#00cc96\",\"#ab63fa\",\"#FFA15A\",\"#19d3f3\",\"#FF6692\",\"#B6E880\",\"#FF97FF\",\"#FECB52\"],\"font\":{\"color\":\"#2a3f5f\"},\"hovermode\":\"closest\",\"hoverlabel\":{\"align\":\"left\"},\"paper_bgcolor\":\"white\",\"plot_bgcolor\":\"#E5ECF6\",\"polar\":{\"bgcolor\":\"#E5ECF6\",\"angularaxis\":{\"gridcolor\":\"white\",\"linecolor\":\"white\",\"ticks\":\"\"},\"radialaxis\":{\"gridcolor\":\"white\",\"linecolor\":\"white\",\"ticks\":\"\"}},\"ternary\":{\"bgcolor\":\"#E5ECF6\",\"aaxis\":{\"gridcolor\":\"white\",\"linecolor\":\"white\",\"ticks\":\"\"},\"baxis\":{\"gridcolor\":\"white\",\"linecolor\":\"white\",\"ticks\":\"\"},\"caxis\":{\"gridcolor\":\"white\",\"linecolor\":\"white\",\"ticks\":\"\"}},\"coloraxis\":{\"colorbar\":{\"outlinewidth\":0,\"ticks\":\"\"}},\"colorscale\":{\"sequential\":[[0.0,\"#0d0887\"],[0.1111111111111111,\"#46039f\"],[0.2222222222222222,\"#7201a8\"],[0.3333333333333333,\"#9c179e\"],[0.4444444444444444,\"#bd3786\"],[0.5555555555555556,\"#d8576b\"],[0.6666666666666666,\"#ed7953\"],[0.7777777777777778,\"#fb9f3a\"],[0.8888888888888888,\"#fdca26\"],[1.0,\"#f0f921\"]],\"sequentialminus\":[[0.0,\"#0d0887\"],[0.1111111111111111,\"#46039f\"],[0.2222222222222222,\"#7201a8\"],[0.3333333333333333,\"#9c179e\"],[0.4444444444444444,\"#bd3786\"],[0.5555555555555556,\"#d8576b\"],[0.6666666666666666,\"#ed7953\"],[0.7777777777777778,\"#fb9f3a\"],[0.8888888888888888,\"#fdca26\"],[1.0,\"#f0f921\"]],\"diverging\":[[0,\"#8e0152\"],[0.1,\"#c51b7d\"],[0.2,\"#de77ae\"],[0.3,\"#f1b6da\"],[0.4,\"#fde0ef\"],[0.5,\"#f7f7f7\"],[0.6,\"#e6f5d0\"],[0.7,\"#b8e186\"],[0.8,\"#7fbc41\"],[0.9,\"#4d9221\"],[1,\"#276419\"]]},\"xaxis\":{\"gridcolor\":\"white\",\"linecolor\":\"white\",\"ticks\":\"\",\"title\":{\"standoff\":15},\"zerolinecolor\":\"white\",\"automargin\":true,\"zerolinewidth\":2},\"yaxis\":{\"gridcolor\":\"white\",\"linecolor\":\"white\",\"ticks\":\"\",\"title\":{\"standoff\":15},\"zerolinecolor\":\"white\",\"automargin\":true,\"zerolinewidth\":2},\"scene\":{\"xaxis\":{\"backgroundcolor\":\"#E5ECF6\",\"gridcolor\":\"white\",\"linecolor\":\"white\",\"showbackground\":true,\"ticks\":\"\",\"zerolinecolor\":\"white\",\"gridwidth\":2},\"yaxis\":{\"backgroundcolor\":\"#E5ECF6\",\"gridcolor\":\"white\",\"linecolor\":\"white\",\"showbackground\":true,\"ticks\":\"\",\"zerolinecolor\":\"white\",\"gridwidth\":2},\"zaxis\":{\"backgroundcolor\":\"#E5ECF6\",\"gridcolor\":\"white\",\"linecolor\":\"white\",\"showbackground\":true,\"ticks\":\"\",\"zerolinecolor\":\"white\",\"gridwidth\":2}},\"shapedefaults\":{\"line\":{\"color\":\"#2a3f5f\"}},\"annotationdefaults\":{\"arrowcolor\":\"#2a3f5f\",\"arrowhead\":0,\"arrowwidth\":1},\"geo\":{\"bgcolor\":\"white\",\"landcolor\":\"#E5ECF6\",\"subunitcolor\":\"white\",\"showland\":true,\"showlakes\":true,\"lakecolor\":\"white\"},\"title\":{\"x\":0.05},\"mapbox\":{\"style\":\"light\"}}},\"geo\":{\"domain\":{\"x\":[0.0,1.0],\"y\":[0.0,1.0]},\"center\":{}},\"coloraxis\":{\"colorbar\":{\"title\":{\"text\":\"Percentage\"}},\"colorscale\":[[0.0,\"#440154\"],[0.1111111111111111,\"#482878\"],[0.2222222222222222,\"#3e4989\"],[0.3333333333333333,\"#31688e\"],[0.4444444444444444,\"#26828e\"],[0.5555555555555556,\"#1f9e89\"],[0.6666666666666666,\"#35b779\"],[0.7777777777777778,\"#6ece58\"],[0.8888888888888888,\"#b5de2b\"],[1.0,\"#fde725\"]],\"cmin\":0,\"cmax\":100},\"legend\":{\"tracegroupgap\":0},\"margin\":{\"t\":60}},                        {\"responsive\": true}                    ).then(function(){\n",
       "                            \n",
       "var gd = document.getElementById('c478ce6c-7b87-474e-81e2-e39b7325552e');\n",
       "var x = new MutationObserver(function (mutations, observer) {{\n",
       "        var display = window.getComputedStyle(gd).display;\n",
       "        if (!display || display === 'none') {{\n",
       "            console.log([gd, 'removed!']);\n",
       "            Plotly.purge(gd);\n",
       "            observer.disconnect();\n",
       "        }}\n",
       "}});\n",
       "\n",
       "// Listen for the removal of the full notebook cells\n",
       "var notebookContainer = gd.closest('#notebook-container');\n",
       "if (notebookContainer) {{\n",
       "    x.observe(notebookContainer, {childList: true});\n",
       "}}\n",
       "\n",
       "// Listen for the clearing of the current output cell\n",
       "var outputEl = gd.closest('.output');\n",
       "if (outputEl) {{\n",
       "    x.observe(outputEl, {childList: true});\n",
       "}}\n",
       "\n",
       "                        })                };                });            </script>        </div>"
      ]
     },
     "metadata": {},
     "output_type": "display_data"
    }
   ],
   "source": [
    "fig = px.choropleth(tm, geojson = geojson,\n",
    "                    locations = tm.index,\n",
    "                    color = 'Percentage',\n",
    "                    color_continuous_scale = \"Viridis\",\n",
    "                    range_color=(0,100))\n",
    "\n",
    "\n",
    "fig.show()"
   ]
  }
 ],
 "metadata": {
  "kernelspec": {
   "display_name": "Python (py312)",
   "language": "python",
   "name": "py312"
  },
  "language_info": {
   "codemirror_mode": {
    "name": "ipython",
    "version": 3
   },
   "file_extension": ".py",
   "mimetype": "text/x-python",
   "name": "python",
   "nbconvert_exporter": "python",
   "pygments_lexer": "ipython3",
   "version": "3.11.8"
  }
 },
 "nbformat": 4,
 "nbformat_minor": 5
}
