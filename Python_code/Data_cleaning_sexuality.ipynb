{
 "cells": [
  {
   "cell_type": "code",
   "execution_count": null,
   "id": "69011e1e",
   "metadata": {},
   "outputs": [],
   "source": [
    "import pandas as pd"
   ]
  },
  {
   "cell_type": "code",
   "execution_count": null,
   "id": "6546572f",
   "metadata": {},
   "outputs": [],
   "source": [
    "import plotly.io as pio\n",
    "pio.renderers.default = \"notebook_connected\""
   ]
  },
  {
   "cell_type": "code",
   "execution_count": null,
   "id": "ff67ce73",
   "metadata": {},
   "outputs": [],
   "source": [
    "# Read the CSV file into a pandas DataFrame\n",
    "\n",
    "df = pd.read_csv('../Data/sexuality_country_gender.csv')"
   ]
  },
  {
   "cell_type": "code",
   "execution_count": null,
   "id": "05cc6624",
   "metadata": {},
   "outputs": [],
   "source": [
    "df.head()"
   ]
  },
  {
   "cell_type": "code",
   "execution_count": null,
   "id": "c09c11d4",
   "metadata": {},
   "outputs": [],
   "source": [
    "# Fill down 'Country' and 'Sex' values\n",
    "df['Country'].fillna(method='ffill', inplace=True)\n",
    "df['Gender'].fillna(method='ffill', inplace=True)\n",
    "\n",
    "# Filter out rows related to \"Weighted base (000s)\" and \"Unweighted sample\" for separate handling\n",
    "main_df = df[~df['Gender'].str.contains(\"Weighted base|Unweighted sample\")]\n",
    "\n",
    "# Drop unnecessary NaN columns\n",
    "main_df = main_df.dropna(axis=1, how='all')\n",
    "main_df = main_df.dropna(axis=0, how='any')\n",
    "\n",
    "# Display the cleaned main data to ensure it's structured correctly\n",
    "main_df.head()"
   ]
  },
  {
   "cell_type": "code",
   "execution_count": null,
   "id": "85f1f7b9",
   "metadata": {},
   "outputs": [],
   "source": [
    "year_columns = ['2010', '2011', '2012', '2013', '2014']  # Update this list based on your dataset\n",
    "long_format_df = main_df.melt(id_vars=['Country', 'Gender', 'Sexuality'], value_vars=year_columns, var_name='Year', value_name='Percentage')\n",
    "\n",
    "# Convert 'Percentage' to numeric, as it may be read as string due to the initial NaN values\n",
    "long_format_df['Percentage'] = pd.to_numeric(long_format_df['Percentage'], errors='coerce')\n",
    "\n",
    "# Display the transformed dataset ready for plotting\n",
    "long_format_df.head(20)"
   ]
  },
  {
   "cell_type": "code",
   "execution_count": null,
   "id": "c0c098c6",
   "metadata": {},
   "outputs": [],
   "source": [
    "# Sort datafrmae into right order \n",
    "\n",
    "# Sorting the DataFrame by 'Country', 'Sex', and then 'Year'\n",
    "sorted_df = long_format_df.sort_values(by=['Country', 'Gender', 'Year']).reset_index(drop = True)\n",
    "\n",
    "# Display the sorted DataFrame to check if it flows as expected\n",
    "sorted_df.head(20)"
   ]
  },
  {
   "cell_type": "code",
   "execution_count": null,
   "id": "d5165ea5",
   "metadata": {},
   "outputs": [],
   "source": [
    "# Round values in Percentage column to 2 decimal places\n",
    "\n",
    "sorted_df['Percentage'] = sorted_df['Percentage'].round(2)"
   ]
  },
  {
   "cell_type": "code",
   "execution_count": null,
   "id": "c172705d",
   "metadata": {},
   "outputs": [],
   "source": [
    "# Save df\n",
    "\n",
    "sorted_df.to_csv('../Data/cleaned_sexuality_df.csv', index = False)"
   ]
  }
 ],
 "metadata": {
  "kernelspec": {
   "display_name": "venv",
   "language": "python",
   "name": "venv"
  },
  "language_info": {
   "codemirror_mode": {
    "name": "ipython",
    "version": 3
   },
   "file_extension": ".py",
   "mimetype": "text/x-python",
   "name": "python",
   "nbconvert_exporter": "python",
   "pygments_lexer": "ipython3",
   "version": "3.11.9"
  },
  "toc": {
   "base_numbering": 1,
   "nav_menu": {},
   "number_sections": true,
   "sideBar": true,
   "skip_h1_title": false,
   "title_cell": "Table of Contents",
   "title_sidebar": "Contents",
   "toc_cell": false,
   "toc_position": {},
   "toc_section_display": true,
   "toc_window_display": true
  },
  "varInspector": {
   "cols": {
    "lenName": 16,
    "lenType": 16,
    "lenVar": 40
   },
   "kernels_config": {
    "python": {
     "delete_cmd_postfix": "",
     "delete_cmd_prefix": "del ",
     "library": "var_list.py",
     "varRefreshCmd": "print(var_dic_list())"
    },
    "r": {
     "delete_cmd_postfix": ") ",
     "delete_cmd_prefix": "rm(",
     "library": "var_list.r",
     "varRefreshCmd": "cat(var_dic_list()) "
    }
   },
   "types_to_exclude": [
    "module",
    "function",
    "builtin_function_or_method",
    "instance",
    "_Feature"
   ],
   "window_display": false
  }
 },
 "nbformat": 4,
 "nbformat_minor": 5
}
